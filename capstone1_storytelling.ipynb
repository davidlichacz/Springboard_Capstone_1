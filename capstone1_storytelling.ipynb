{
 "cells": [
  {
   "cell_type": "code",
   "execution_count": 2,
   "metadata": {
    "collapsed": true
   },
   "outputs": [],
   "source": [
    "import pandas as pd\n",
    "import numpy as np"
   ]
  },
  {
   "cell_type": "code",
   "execution_count": 3,
   "metadata": {
    "collapsed": true
   },
   "outputs": [],
   "source": [
    "# Import attributes file.\n",
    "attributes = pd.read_csv('/Users/davidlichacz/home-depot/attributes.csv')"
   ]
  },
  {
   "cell_type": "code",
   "execution_count": 4,
   "metadata": {},
   "outputs": [
    {
     "data": {
      "text/plain": [
       "(2044803, 3)"
      ]
     },
     "execution_count": 4,
     "metadata": {},
     "output_type": "execute_result"
    }
   ],
   "source": [
    "# Explore attributes dataframe.\n",
    "attributes.shape"
   ]
  },
  {
   "cell_type": "code",
   "execution_count": 5,
   "metadata": {},
   "outputs": [
    {
     "name": "stdout",
     "output_type": "stream",
     "text": [
      "<class 'pandas.core.frame.DataFrame'>\n",
      "RangeIndex: 2044803 entries, 0 to 2044802\n",
      "Data columns (total 3 columns):\n",
      "product_uid    2044648 non-null float64\n",
      "name           2044648 non-null object\n",
      "value          2042713 non-null object\n",
      "dtypes: float64(1), object(2)\n",
      "memory usage: 46.8+ MB\n"
     ]
    }
   ],
   "source": [
    "attributes.info(null_counts=True)"
   ]
  },
  {
   "cell_type": "markdown",
   "metadata": {},
   "source": [
    "Question: Why did I need to include the null_counts argument to get the null information?  It was not needed for the dataframes below."
   ]
  },
  {
   "cell_type": "code",
   "execution_count": 6,
   "metadata": {},
   "outputs": [
    {
     "data": {
      "text/html": [
       "<div>\n",
       "<style>\n",
       "    .dataframe thead tr:only-child th {\n",
       "        text-align: right;\n",
       "    }\n",
       "\n",
       "    .dataframe thead th {\n",
       "        text-align: left;\n",
       "    }\n",
       "\n",
       "    .dataframe tbody tr th {\n",
       "        vertical-align: top;\n",
       "    }\n",
       "</style>\n",
       "<table border=\"1\" class=\"dataframe\">\n",
       "  <thead>\n",
       "    <tr style=\"text-align: right;\">\n",
       "      <th></th>\n",
       "      <th>product_uid</th>\n",
       "      <th>name</th>\n",
       "      <th>value</th>\n",
       "    </tr>\n",
       "  </thead>\n",
       "  <tbody>\n",
       "    <tr>\n",
       "      <th>0</th>\n",
       "      <td>100001.0</td>\n",
       "      <td>Bullet01</td>\n",
       "      <td>Versatile connector for various 90° connection...</td>\n",
       "    </tr>\n",
       "    <tr>\n",
       "      <th>1</th>\n",
       "      <td>100001.0</td>\n",
       "      <td>Bullet02</td>\n",
       "      <td>Stronger than angled nailing or screw fastenin...</td>\n",
       "    </tr>\n",
       "    <tr>\n",
       "      <th>2</th>\n",
       "      <td>100001.0</td>\n",
       "      <td>Bullet03</td>\n",
       "      <td>Help ensure joints are consistently straight a...</td>\n",
       "    </tr>\n",
       "    <tr>\n",
       "      <th>3</th>\n",
       "      <td>100001.0</td>\n",
       "      <td>Bullet04</td>\n",
       "      <td>Dimensions: 3 in. x 3 in. x 1-1/2 in.</td>\n",
       "    </tr>\n",
       "    <tr>\n",
       "      <th>4</th>\n",
       "      <td>100001.0</td>\n",
       "      <td>Bullet05</td>\n",
       "      <td>Made from 12-Gauge steel</td>\n",
       "    </tr>\n",
       "  </tbody>\n",
       "</table>\n",
       "</div>"
      ],
      "text/plain": [
       "   product_uid      name                                              value\n",
       "0     100001.0  Bullet01  Versatile connector for various 90° connection...\n",
       "1     100001.0  Bullet02  Stronger than angled nailing or screw fastenin...\n",
       "2     100001.0  Bullet03  Help ensure joints are consistently straight a...\n",
       "3     100001.0  Bullet04              Dimensions: 3 in. x 3 in. x 1-1/2 in.\n",
       "4     100001.0  Bullet05                           Made from 12-Gauge steel"
      ]
     },
     "execution_count": 6,
     "metadata": {},
     "output_type": "execute_result"
    }
   ],
   "source": [
    "attributes.head()"
   ]
  },
  {
   "cell_type": "code",
   "execution_count": 7,
   "metadata": {},
   "outputs": [
    {
     "data": {
      "text/html": [
       "<div>\n",
       "<style>\n",
       "    .dataframe thead tr:only-child th {\n",
       "        text-align: right;\n",
       "    }\n",
       "\n",
       "    .dataframe thead th {\n",
       "        text-align: left;\n",
       "    }\n",
       "\n",
       "    .dataframe tbody tr th {\n",
       "        vertical-align: top;\n",
       "    }\n",
       "</style>\n",
       "<table border=\"1\" class=\"dataframe\">\n",
       "  <thead>\n",
       "    <tr style=\"text-align: right;\">\n",
       "      <th></th>\n",
       "      <th>product_uid</th>\n",
       "      <th>name</th>\n",
       "      <th>value</th>\n",
       "    </tr>\n",
       "  </thead>\n",
       "  <tbody>\n",
       "    <tr>\n",
       "      <th>2044798</th>\n",
       "      <td>224428.0</td>\n",
       "      <td>Pilot Bit Included</td>\n",
       "      <td>No</td>\n",
       "    </tr>\n",
       "    <tr>\n",
       "      <th>2044799</th>\n",
       "      <td>224428.0</td>\n",
       "      <td>Power Tool Product Type</td>\n",
       "      <td>Drill &amp; Router Bits</td>\n",
       "    </tr>\n",
       "    <tr>\n",
       "      <th>2044800</th>\n",
       "      <td>224428.0</td>\n",
       "      <td>Shank Diameter</td>\n",
       "      <td>3/8 in</td>\n",
       "    </tr>\n",
       "    <tr>\n",
       "      <th>2044801</th>\n",
       "      <td>224428.0</td>\n",
       "      <td>Shank Style</td>\n",
       "      <td>Hex</td>\n",
       "    </tr>\n",
       "    <tr>\n",
       "      <th>2044802</th>\n",
       "      <td>224428.0</td>\n",
       "      <td>Tools Product Type</td>\n",
       "      <td>Power Tool</td>\n",
       "    </tr>\n",
       "  </tbody>\n",
       "</table>\n",
       "</div>"
      ],
      "text/plain": [
       "         product_uid                     name                value\n",
       "2044798     224428.0       Pilot Bit Included                   No\n",
       "2044799     224428.0  Power Tool Product Type  Drill & Router Bits\n",
       "2044800     224428.0           Shank Diameter               3/8 in\n",
       "2044801     224428.0              Shank Style                  Hex\n",
       "2044802     224428.0       Tools Product Type           Power Tool"
      ]
     },
     "execution_count": 7,
     "metadata": {},
     "output_type": "execute_result"
    }
   ],
   "source": [
    "attributes.tail()"
   ]
  },
  {
   "cell_type": "code",
   "execution_count": 8,
   "metadata": {},
   "outputs": [
    {
     "name": "stdout",
     "output_type": "stream",
     "text": [
      "<class 'pandas.core.frame.DataFrame'>\n",
      "Int64Index: 2044648 entries, 0 to 2044802\n",
      "Data columns (total 3 columns):\n",
      "product_uid    2044648 non-null float64\n",
      "name           2044648 non-null object\n",
      "value          2042713 non-null object\n",
      "dtypes: float64(1), object(2)\n",
      "memory usage: 62.4+ MB\n"
     ]
    }
   ],
   "source": [
    "# There are 155 missing values in the product_uid & name columns and 2090 missing values in the value columns.\n",
    "# Removing rows that are all null eliminates all the missing values for product_uid & name.\n",
    "\n",
    "attributes = attributes.dropna(how='all')\n",
    "attributes.info(null_counts=True)"
   ]
  },
  {
   "cell_type": "code",
   "execution_count": 9,
   "metadata": {},
   "outputs": [
    {
     "data": {
      "text/html": [
       "<div>\n",
       "<style>\n",
       "    .dataframe thead tr:only-child th {\n",
       "        text-align: right;\n",
       "    }\n",
       "\n",
       "    .dataframe thead th {\n",
       "        text-align: left;\n",
       "    }\n",
       "\n",
       "    .dataframe tbody tr th {\n",
       "        vertical-align: top;\n",
       "    }\n",
       "</style>\n",
       "<table border=\"1\" class=\"dataframe\">\n",
       "  <thead>\n",
       "    <tr style=\"text-align: right;\">\n",
       "      <th></th>\n",
       "      <th>product_uid</th>\n",
       "      <th>name</th>\n",
       "      <th>value</th>\n",
       "    </tr>\n",
       "  </thead>\n",
       "  <tbody>\n",
       "    <tr>\n",
       "      <th>1022</th>\n",
       "      <td>100044.0</td>\n",
       "      <td>Collection Name</td>\n",
       "      <td>NaN</td>\n",
       "    </tr>\n",
       "    <tr>\n",
       "      <th>1349</th>\n",
       "      <td>100058.0</td>\n",
       "      <td>Battery Size</td>\n",
       "      <td>NaN</td>\n",
       "    </tr>\n",
       "    <tr>\n",
       "      <th>5909</th>\n",
       "      <td>100248.0</td>\n",
       "      <td>Fastener Thread Type</td>\n",
       "      <td>NaN</td>\n",
       "    </tr>\n",
       "    <tr>\n",
       "      <th>6367</th>\n",
       "      <td>100266.0</td>\n",
       "      <td>Drive Style</td>\n",
       "      <td>NaN</td>\n",
       "    </tr>\n",
       "    <tr>\n",
       "      <th>8823</th>\n",
       "      <td>100372.0</td>\n",
       "      <td>Collection Name</td>\n",
       "      <td>NaN</td>\n",
       "    </tr>\n",
       "    <tr>\n",
       "      <th>9131</th>\n",
       "      <td>100386.0</td>\n",
       "      <td>Battery Type Required</td>\n",
       "      <td>NaN</td>\n",
       "    </tr>\n",
       "    <tr>\n",
       "      <th>9589</th>\n",
       "      <td>100403.0</td>\n",
       "      <td>Exact Dry SCOF Rating</td>\n",
       "      <td>NaN</td>\n",
       "    </tr>\n",
       "    <tr>\n",
       "      <th>9590</th>\n",
       "      <td>100403.0</td>\n",
       "      <td>Exact Wet SCOF Rating</td>\n",
       "      <td>NaN</td>\n",
       "    </tr>\n",
       "    <tr>\n",
       "      <th>9595</th>\n",
       "      <td>100403.0</td>\n",
       "      <td>Mosaic Sub Unit Length (in.)</td>\n",
       "      <td>NaN</td>\n",
       "    </tr>\n",
       "    <tr>\n",
       "      <th>9596</th>\n",
       "      <td>100403.0</td>\n",
       "      <td>Mosaic Sub Unit Width (in.)</td>\n",
       "      <td>NaN</td>\n",
       "    </tr>\n",
       "    <tr>\n",
       "      <th>9617</th>\n",
       "      <td>100404.0</td>\n",
       "      <td>Conductor Material</td>\n",
       "      <td>NaN</td>\n",
       "    </tr>\n",
       "    <tr>\n",
       "      <th>10103</th>\n",
       "      <td>100421.0</td>\n",
       "      <td>Security/ANSI Grade</td>\n",
       "      <td>NaN</td>\n",
       "    </tr>\n",
       "    <tr>\n",
       "      <th>10369</th>\n",
       "      <td>100432.0</td>\n",
       "      <td>Min Chuck Size Required</td>\n",
       "      <td>NaN</td>\n",
       "    </tr>\n",
       "    <tr>\n",
       "      <th>13268</th>\n",
       "      <td>100544.0</td>\n",
       "      <td>Color/Finish</td>\n",
       "      <td>NaN</td>\n",
       "    </tr>\n",
       "    <tr>\n",
       "      <th>14420</th>\n",
       "      <td>100592.0</td>\n",
       "      <td>Free Pick-up/Delivery Service</td>\n",
       "      <td>NaN</td>\n",
       "    </tr>\n",
       "    <tr>\n",
       "      <th>15266</th>\n",
       "      <td>100623.0</td>\n",
       "      <td>Color/Pattern</td>\n",
       "      <td>NaN</td>\n",
       "    </tr>\n",
       "    <tr>\n",
       "      <th>15773</th>\n",
       "      <td>100641.0</td>\n",
       "      <td>Security/ANSI Grade</td>\n",
       "      <td>NaN</td>\n",
       "    </tr>\n",
       "    <tr>\n",
       "      <th>22959</th>\n",
       "      <td>100925.0</td>\n",
       "      <td>Security/ANSI Grade</td>\n",
       "      <td>NaN</td>\n",
       "    </tr>\n",
       "    <tr>\n",
       "      <th>23110</th>\n",
       "      <td>100932.0</td>\n",
       "      <td>Exact Dry SCOF Rating</td>\n",
       "      <td>NaN</td>\n",
       "    </tr>\n",
       "    <tr>\n",
       "      <th>23111</th>\n",
       "      <td>100932.0</td>\n",
       "      <td>Exact Wet SCOF Rating</td>\n",
       "      <td>NaN</td>\n",
       "    </tr>\n",
       "  </tbody>\n",
       "</table>\n",
       "</div>"
      ],
      "text/plain": [
       "       product_uid                           name value\n",
       "1022      100044.0                Collection Name   NaN\n",
       "1349      100058.0                   Battery Size   NaN\n",
       "5909      100248.0           Fastener Thread Type   NaN\n",
       "6367      100266.0                    Drive Style   NaN\n",
       "8823      100372.0                Collection Name   NaN\n",
       "9131      100386.0          Battery Type Required   NaN\n",
       "9589      100403.0          Exact Dry SCOF Rating   NaN\n",
       "9590      100403.0          Exact Wet SCOF Rating   NaN\n",
       "9595      100403.0   Mosaic Sub Unit Length (in.)   NaN\n",
       "9596      100403.0    Mosaic Sub Unit Width (in.)   NaN\n",
       "9617      100404.0             Conductor Material   NaN\n",
       "10103     100421.0            Security/ANSI Grade   NaN\n",
       "10369     100432.0        Min Chuck Size Required   NaN\n",
       "13268     100544.0                   Color/Finish   NaN\n",
       "14420     100592.0  Free Pick-up/Delivery Service   NaN\n",
       "15266     100623.0                  Color/Pattern   NaN\n",
       "15773     100641.0            Security/ANSI Grade   NaN\n",
       "22959     100925.0            Security/ANSI Grade   NaN\n",
       "23110     100932.0          Exact Dry SCOF Rating   NaN\n",
       "23111     100932.0          Exact Wet SCOF Rating   NaN"
      ]
     },
     "execution_count": 9,
     "metadata": {},
     "output_type": "execute_result"
    }
   ],
   "source": [
    "# Looking at the missing values for the value column, it seems like the lack of information may be information in itself.\n",
    "# for example, no battery size might mean no battery is required.\n",
    "attributes[attributes['value'].isnull()].head(20)"
   ]
  },
  {
   "cell_type": "code",
   "execution_count": 10,
   "metadata": {
    "collapsed": true
   },
   "outputs": [],
   "source": [
    "# Replace NaN values with \"None\" for now.\n",
    "attributes['value'] = attributes['value'].fillna('None')"
   ]
  },
  {
   "cell_type": "code",
   "execution_count": 11,
   "metadata": {},
   "outputs": [
    {
     "data": {
      "text/plain": [
       "True"
      ]
     },
     "execution_count": 11,
     "metadata": {},
     "output_type": "execute_result"
    }
   ],
   "source": [
    "# The product_uid column is read in as a float, but should really be a string.  The format for the id\n",
    "# appears to be six numerical digits.  Check to see if this is true.\n",
    "import re\n",
    "\n",
    "pattern = re.compile('[0-9]{6}\\.0$')\n",
    "id_check = attributes['product_uid'].astype(str).apply(pattern.match)\n",
    "id_check.astype(bool).all()"
   ]
  },
  {
   "cell_type": "code",
   "execution_count": 12,
   "metadata": {
    "collapsed": true
   },
   "outputs": [],
   "source": [
    "# Since all elements of the product_uid column are of the format 6 digits followed by a decimal point and a zero,\n",
    "# we can convert to a string and trim the last two characters.\n",
    "attributes['product_uid'] = attributes['product_uid'].astype(str).str[:-2]"
   ]
  },
  {
   "cell_type": "code",
   "execution_count": 13,
   "metadata": {},
   "outputs": [
    {
     "name": "stdout",
     "output_type": "stream",
     "text": [
      "<class 'pandas.core.frame.DataFrame'>\n",
      "Int64Index: 2044648 entries, 0 to 2044802\n",
      "Data columns (total 3 columns):\n",
      "product_uid    2044648 non-null object\n",
      "name           2044648 non-null object\n",
      "value          2044648 non-null object\n",
      "dtypes: object(3)\n",
      "memory usage: 62.4+ MB\n"
     ]
    }
   ],
   "source": [
    "attributes.info(null_counts=True)"
   ]
  },
  {
   "cell_type": "code",
   "execution_count": 14,
   "metadata": {},
   "outputs": [
    {
     "data": {
      "text/html": [
       "<div>\n",
       "<style>\n",
       "    .dataframe thead tr:only-child th {\n",
       "        text-align: right;\n",
       "    }\n",
       "\n",
       "    .dataframe thead th {\n",
       "        text-align: left;\n",
       "    }\n",
       "\n",
       "    .dataframe tbody tr th {\n",
       "        vertical-align: top;\n",
       "    }\n",
       "</style>\n",
       "<table border=\"1\" class=\"dataframe\">\n",
       "  <thead>\n",
       "    <tr style=\"text-align: right;\">\n",
       "      <th></th>\n",
       "      <th>product_uid</th>\n",
       "      <th>name</th>\n",
       "      <th>value</th>\n",
       "    </tr>\n",
       "  </thead>\n",
       "  <tbody>\n",
       "    <tr>\n",
       "      <th>0</th>\n",
       "      <td>100001</td>\n",
       "      <td>Bullet01</td>\n",
       "      <td>Versatile connector for various 90° connection...</td>\n",
       "    </tr>\n",
       "    <tr>\n",
       "      <th>1</th>\n",
       "      <td>100001</td>\n",
       "      <td>Bullet02</td>\n",
       "      <td>Stronger than angled nailing or screw fastenin...</td>\n",
       "    </tr>\n",
       "    <tr>\n",
       "      <th>2</th>\n",
       "      <td>100001</td>\n",
       "      <td>Bullet03</td>\n",
       "      <td>Help ensure joints are consistently straight a...</td>\n",
       "    </tr>\n",
       "    <tr>\n",
       "      <th>3</th>\n",
       "      <td>100001</td>\n",
       "      <td>Bullet04</td>\n",
       "      <td>Dimensions: 3 in. x 3 in. x 1-1/2 in.</td>\n",
       "    </tr>\n",
       "    <tr>\n",
       "      <th>4</th>\n",
       "      <td>100001</td>\n",
       "      <td>Bullet05</td>\n",
       "      <td>Made from 12-Gauge steel</td>\n",
       "    </tr>\n",
       "  </tbody>\n",
       "</table>\n",
       "</div>"
      ],
      "text/plain": [
       "  product_uid      name                                              value\n",
       "0      100001  Bullet01  Versatile connector for various 90° connection...\n",
       "1      100001  Bullet02  Stronger than angled nailing or screw fastenin...\n",
       "2      100001  Bullet03  Help ensure joints are consistently straight a...\n",
       "3      100001  Bullet04              Dimensions: 3 in. x 3 in. x 1-1/2 in.\n",
       "4      100001  Bullet05                           Made from 12-Gauge steel"
      ]
     },
     "execution_count": 14,
     "metadata": {},
     "output_type": "execute_result"
    }
   ],
   "source": [
    "attributes.head()"
   ]
  },
  {
   "cell_type": "code",
   "execution_count": 15,
   "metadata": {
    "collapsed": true
   },
   "outputs": [],
   "source": [
    "# Import descriptions file.\n",
    "descriptions = pd.read_csv('/Users/davidlichacz/home-depot/product_descriptions.csv')"
   ]
  },
  {
   "cell_type": "code",
   "execution_count": 16,
   "metadata": {},
   "outputs": [
    {
     "data": {
      "text/plain": [
       "(124428, 2)"
      ]
     },
     "execution_count": 16,
     "metadata": {},
     "output_type": "execute_result"
    }
   ],
   "source": [
    "# Explore descriptions dataframe.\n",
    "descriptions.shape"
   ]
  },
  {
   "cell_type": "code",
   "execution_count": 17,
   "metadata": {},
   "outputs": [
    {
     "name": "stdout",
     "output_type": "stream",
     "text": [
      "<class 'pandas.core.frame.DataFrame'>\n",
      "RangeIndex: 124428 entries, 0 to 124427\n",
      "Data columns (total 2 columns):\n",
      "product_uid            124428 non-null int64\n",
      "product_description    124428 non-null object\n",
      "dtypes: int64(1), object(1)\n",
      "memory usage: 1.9+ MB\n"
     ]
    }
   ],
   "source": [
    "descriptions.info()"
   ]
  },
  {
   "cell_type": "code",
   "execution_count": 18,
   "metadata": {},
   "outputs": [
    {
     "data": {
      "text/html": [
       "<div>\n",
       "<style>\n",
       "    .dataframe thead tr:only-child th {\n",
       "        text-align: right;\n",
       "    }\n",
       "\n",
       "    .dataframe thead th {\n",
       "        text-align: left;\n",
       "    }\n",
       "\n",
       "    .dataframe tbody tr th {\n",
       "        vertical-align: top;\n",
       "    }\n",
       "</style>\n",
       "<table border=\"1\" class=\"dataframe\">\n",
       "  <thead>\n",
       "    <tr style=\"text-align: right;\">\n",
       "      <th></th>\n",
       "      <th>product_uid</th>\n",
       "      <th>product_description</th>\n",
       "    </tr>\n",
       "  </thead>\n",
       "  <tbody>\n",
       "    <tr>\n",
       "      <th>0</th>\n",
       "      <td>100001</td>\n",
       "      <td>Not only do angles make joints stronger, they ...</td>\n",
       "    </tr>\n",
       "    <tr>\n",
       "      <th>1</th>\n",
       "      <td>100002</td>\n",
       "      <td>BEHR Premium Textured DECKOVER is an innovativ...</td>\n",
       "    </tr>\n",
       "    <tr>\n",
       "      <th>2</th>\n",
       "      <td>100003</td>\n",
       "      <td>Classic architecture meets contemporary design...</td>\n",
       "    </tr>\n",
       "    <tr>\n",
       "      <th>3</th>\n",
       "      <td>100004</td>\n",
       "      <td>The Grape Solar 265-Watt Polycrystalline PV So...</td>\n",
       "    </tr>\n",
       "    <tr>\n",
       "      <th>4</th>\n",
       "      <td>100005</td>\n",
       "      <td>Update your bathroom with the Delta Vero Singl...</td>\n",
       "    </tr>\n",
       "  </tbody>\n",
       "</table>\n",
       "</div>"
      ],
      "text/plain": [
       "   product_uid                                product_description\n",
       "0       100001  Not only do angles make joints stronger, they ...\n",
       "1       100002  BEHR Premium Textured DECKOVER is an innovativ...\n",
       "2       100003  Classic architecture meets contemporary design...\n",
       "3       100004  The Grape Solar 265-Watt Polycrystalline PV So...\n",
       "4       100005  Update your bathroom with the Delta Vero Singl..."
      ]
     },
     "execution_count": 18,
     "metadata": {},
     "output_type": "execute_result"
    }
   ],
   "source": [
    "descriptions.head()"
   ]
  },
  {
   "cell_type": "code",
   "execution_count": 19,
   "metadata": {},
   "outputs": [
    {
     "data": {
      "text/plain": [
       "True"
      ]
     },
     "execution_count": 19,
     "metadata": {},
     "output_type": "execute_result"
    }
   ],
   "source": [
    "# There are no null values in this dataframe.  This time the product_uid column imported as an integer so \n",
    "# we will perform a similar conversion as above.\n",
    "pattern = re.compile('[0-9]{6}$')\n",
    "id_check = descriptions['product_uid'].astype(str).apply(pattern.match)\n",
    "id_check.astype(bool).all()"
   ]
  },
  {
   "cell_type": "code",
   "execution_count": 20,
   "metadata": {
    "collapsed": true
   },
   "outputs": [],
   "source": [
    "# All product_uid values are 6 digits, so convert to string.\n",
    "descriptions['product_uid'] = descriptions['product_uid'].astype(str)"
   ]
  },
  {
   "cell_type": "code",
   "execution_count": 21,
   "metadata": {},
   "outputs": [
    {
     "name": "stdout",
     "output_type": "stream",
     "text": [
      "<class 'pandas.core.frame.DataFrame'>\n",
      "RangeIndex: 124428 entries, 0 to 124427\n",
      "Data columns (total 2 columns):\n",
      "product_uid            124428 non-null object\n",
      "product_description    124428 non-null object\n",
      "dtypes: object(2)\n",
      "memory usage: 1.9+ MB\n"
     ]
    }
   ],
   "source": [
    "descriptions.info()"
   ]
  },
  {
   "cell_type": "code",
   "execution_count": 22,
   "metadata": {
    "collapsed": true
   },
   "outputs": [],
   "source": [
    "# Import train file.\n",
    "train = pd.read_csv('/Users/davidlichacz/home-depot/train.csv', encoding='latin-1')"
   ]
  },
  {
   "cell_type": "code",
   "execution_count": 23,
   "metadata": {},
   "outputs": [
    {
     "data": {
      "text/plain": [
       "(74067, 5)"
      ]
     },
     "execution_count": 23,
     "metadata": {},
     "output_type": "execute_result"
    }
   ],
   "source": [
    "# Explore train file.\n",
    "train.shape"
   ]
  },
  {
   "cell_type": "code",
   "execution_count": 24,
   "metadata": {},
   "outputs": [
    {
     "name": "stdout",
     "output_type": "stream",
     "text": [
      "<class 'pandas.core.frame.DataFrame'>\n",
      "RangeIndex: 74067 entries, 0 to 74066\n",
      "Data columns (total 5 columns):\n",
      "id               74067 non-null int64\n",
      "product_uid      74067 non-null int64\n",
      "product_title    74067 non-null object\n",
      "search_term      74067 non-null object\n",
      "relevance        74067 non-null float64\n",
      "dtypes: float64(1), int64(2), object(2)\n",
      "memory usage: 2.8+ MB\n"
     ]
    }
   ],
   "source": [
    "train.info()"
   ]
  },
  {
   "cell_type": "code",
   "execution_count": 25,
   "metadata": {},
   "outputs": [
    {
     "data": {
      "text/html": [
       "<div>\n",
       "<style>\n",
       "    .dataframe thead tr:only-child th {\n",
       "        text-align: right;\n",
       "    }\n",
       "\n",
       "    .dataframe thead th {\n",
       "        text-align: left;\n",
       "    }\n",
       "\n",
       "    .dataframe tbody tr th {\n",
       "        vertical-align: top;\n",
       "    }\n",
       "</style>\n",
       "<table border=\"1\" class=\"dataframe\">\n",
       "  <thead>\n",
       "    <tr style=\"text-align: right;\">\n",
       "      <th></th>\n",
       "      <th>id</th>\n",
       "      <th>product_uid</th>\n",
       "      <th>product_title</th>\n",
       "      <th>search_term</th>\n",
       "      <th>relevance</th>\n",
       "    </tr>\n",
       "  </thead>\n",
       "  <tbody>\n",
       "    <tr>\n",
       "      <th>0</th>\n",
       "      <td>2</td>\n",
       "      <td>100001</td>\n",
       "      <td>Simpson Strong-Tie 12-Gauge Angle</td>\n",
       "      <td>angle bracket</td>\n",
       "      <td>3.00</td>\n",
       "    </tr>\n",
       "    <tr>\n",
       "      <th>1</th>\n",
       "      <td>3</td>\n",
       "      <td>100001</td>\n",
       "      <td>Simpson Strong-Tie 12-Gauge Angle</td>\n",
       "      <td>l bracket</td>\n",
       "      <td>2.50</td>\n",
       "    </tr>\n",
       "    <tr>\n",
       "      <th>2</th>\n",
       "      <td>9</td>\n",
       "      <td>100002</td>\n",
       "      <td>BEHR Premium Textured DeckOver 1-gal. #SC-141 ...</td>\n",
       "      <td>deck over</td>\n",
       "      <td>3.00</td>\n",
       "    </tr>\n",
       "    <tr>\n",
       "      <th>3</th>\n",
       "      <td>16</td>\n",
       "      <td>100005</td>\n",
       "      <td>Delta Vero 1-Handle Shower Only Faucet Trim Ki...</td>\n",
       "      <td>rain shower head</td>\n",
       "      <td>2.33</td>\n",
       "    </tr>\n",
       "    <tr>\n",
       "      <th>4</th>\n",
       "      <td>17</td>\n",
       "      <td>100005</td>\n",
       "      <td>Delta Vero 1-Handle Shower Only Faucet Trim Ki...</td>\n",
       "      <td>shower only faucet</td>\n",
       "      <td>2.67</td>\n",
       "    </tr>\n",
       "  </tbody>\n",
       "</table>\n",
       "</div>"
      ],
      "text/plain": [
       "   id  product_uid                                      product_title  \\\n",
       "0   2       100001                  Simpson Strong-Tie 12-Gauge Angle   \n",
       "1   3       100001                  Simpson Strong-Tie 12-Gauge Angle   \n",
       "2   9       100002  BEHR Premium Textured DeckOver 1-gal. #SC-141 ...   \n",
       "3  16       100005  Delta Vero 1-Handle Shower Only Faucet Trim Ki...   \n",
       "4  17       100005  Delta Vero 1-Handle Shower Only Faucet Trim Ki...   \n",
       "\n",
       "          search_term  relevance  \n",
       "0       angle bracket       3.00  \n",
       "1           l bracket       2.50  \n",
       "2           deck over       3.00  \n",
       "3    rain shower head       2.33  \n",
       "4  shower only faucet       2.67  "
      ]
     },
     "execution_count": 25,
     "metadata": {},
     "output_type": "execute_result"
    }
   ],
   "source": [
    "train.head()"
   ]
  },
  {
   "cell_type": "code",
   "execution_count": 26,
   "metadata": {},
   "outputs": [
    {
     "data": {
      "text/plain": [
       "True"
      ]
     },
     "execution_count": 26,
     "metadata": {},
     "output_type": "execute_result"
    }
   ],
   "source": [
    "# There are no missing values in the train dataframe.  Like before the product_uid column needs to be \n",
    "# converted to a string.\n",
    "pattern = re.compile('[0-9]{6}$')\n",
    "id_check = train['product_uid'].astype(str).apply(pattern.match)\n",
    "id_check.astype(bool).all()"
   ]
  },
  {
   "cell_type": "code",
   "execution_count": 27,
   "metadata": {
    "collapsed": true
   },
   "outputs": [],
   "source": [
    "train['product_uid'] = train['product_uid'].astype(str)"
   ]
  },
  {
   "cell_type": "code",
   "execution_count": 28,
   "metadata": {},
   "outputs": [
    {
     "data": {
      "text/html": [
       "<div>\n",
       "<style>\n",
       "    .dataframe thead tr:only-child th {\n",
       "        text-align: right;\n",
       "    }\n",
       "\n",
       "    .dataframe thead th {\n",
       "        text-align: left;\n",
       "    }\n",
       "\n",
       "    .dataframe tbody tr th {\n",
       "        vertical-align: top;\n",
       "    }\n",
       "</style>\n",
       "<table border=\"1\" class=\"dataframe\">\n",
       "  <thead>\n",
       "    <tr style=\"text-align: right;\">\n",
       "      <th></th>\n",
       "      <th>id</th>\n",
       "      <th>product_uid</th>\n",
       "      <th>product_title</th>\n",
       "      <th>search_term</th>\n",
       "      <th>relevance</th>\n",
       "    </tr>\n",
       "  </thead>\n",
       "  <tbody>\n",
       "    <tr>\n",
       "      <th>0</th>\n",
       "      <td>2</td>\n",
       "      <td>100001</td>\n",
       "      <td>Simpson Strong-Tie 12-Gauge Angle</td>\n",
       "      <td>angle bracket</td>\n",
       "      <td>3.00</td>\n",
       "    </tr>\n",
       "    <tr>\n",
       "      <th>1</th>\n",
       "      <td>3</td>\n",
       "      <td>100001</td>\n",
       "      <td>Simpson Strong-Tie 12-Gauge Angle</td>\n",
       "      <td>l bracket</td>\n",
       "      <td>2.50</td>\n",
       "    </tr>\n",
       "    <tr>\n",
       "      <th>2</th>\n",
       "      <td>9</td>\n",
       "      <td>100002</td>\n",
       "      <td>BEHR Premium Textured DeckOver 1-gal. #SC-141 ...</td>\n",
       "      <td>deck over</td>\n",
       "      <td>3.00</td>\n",
       "    </tr>\n",
       "    <tr>\n",
       "      <th>3</th>\n",
       "      <td>16</td>\n",
       "      <td>100005</td>\n",
       "      <td>Delta Vero 1-Handle Shower Only Faucet Trim Ki...</td>\n",
       "      <td>rain shower head</td>\n",
       "      <td>2.33</td>\n",
       "    </tr>\n",
       "    <tr>\n",
       "      <th>4</th>\n",
       "      <td>17</td>\n",
       "      <td>100005</td>\n",
       "      <td>Delta Vero 1-Handle Shower Only Faucet Trim Ki...</td>\n",
       "      <td>shower only faucet</td>\n",
       "      <td>2.67</td>\n",
       "    </tr>\n",
       "  </tbody>\n",
       "</table>\n",
       "</div>"
      ],
      "text/plain": [
       "   id product_uid                                      product_title  \\\n",
       "0   2      100001                  Simpson Strong-Tie 12-Gauge Angle   \n",
       "1   3      100001                  Simpson Strong-Tie 12-Gauge Angle   \n",
       "2   9      100002  BEHR Premium Textured DeckOver 1-gal. #SC-141 ...   \n",
       "3  16      100005  Delta Vero 1-Handle Shower Only Faucet Trim Ki...   \n",
       "4  17      100005  Delta Vero 1-Handle Shower Only Faucet Trim Ki...   \n",
       "\n",
       "          search_term  relevance  \n",
       "0       angle bracket       3.00  \n",
       "1           l bracket       2.50  \n",
       "2           deck over       3.00  \n",
       "3    rain shower head       2.33  \n",
       "4  shower only faucet       2.67  "
      ]
     },
     "execution_count": 28,
     "metadata": {},
     "output_type": "execute_result"
    }
   ],
   "source": [
    "train.head()"
   ]
  },
  {
   "cell_type": "code",
   "execution_count": 29,
   "metadata": {},
   "outputs": [
    {
     "data": {
      "text/plain": [
       "1.00     2105\n",
       "1.25        4\n",
       "1.33     3006\n",
       "1.50        5\n",
       "1.67     6780\n",
       "1.75        9\n",
       "2.00    11730\n",
       "2.25       11\n",
       "2.33    16060\n",
       "2.50       19\n",
       "2.67    15202\n",
       "2.75       11\n",
       "3.00    19125\n",
       "Name: relevance, dtype: int64"
      ]
     },
     "execution_count": 29,
     "metadata": {},
     "output_type": "execute_result"
    }
   ],
   "source": [
    "# The relevance scores are an average of score given between 1 and 3, therefore the relevance score should be a\n",
    "# float between 1 and 3.  Let's test this.\n",
    "train['relevance'].value_counts().sort_index()"
   ]
  },
  {
   "cell_type": "code",
   "execution_count": 30,
   "metadata": {},
   "outputs": [
    {
     "data": {
      "text/plain": [
       "count    74067.000000\n",
       "mean         2.381634\n",
       "std          0.533984\n",
       "min          1.000000\n",
       "25%          2.000000\n",
       "50%          2.330000\n",
       "75%          3.000000\n",
       "max          3.000000\n",
       "Name: relevance, dtype: float64"
      ]
     },
     "execution_count": 30,
     "metadata": {},
     "output_type": "execute_result"
    }
   ],
   "source": [
    "# The values for relevance seem valid. Let's explore them further.\n",
    "train['relevance'].describe()"
   ]
  },
  {
   "cell_type": "code",
   "execution_count": 31,
   "metadata": {},
   "outputs": [
    {
     "data": {
      "image/png": "[encoded data removed]",
      "text/plain": [
       "<matplotlib.figure.Figure at 0x11eb38390>"
      ]
     },
     "metadata": {},
     "output_type": "display_data"
    }
   ],
   "source": [
    "import matplotlib.pyplot as plt\n",
    "\n",
    "relevance_sorted = train['relevance'].value_counts().sort_index()\n",
    "relevance_sorted.plot(kind='bar')\n",
    "plt.show()"
   ]
  },
  {
   "cell_type": "markdown",
   "metadata": {},
   "source": [
    "It seems like the distribution of relevance scores trends to the higher end of the scale, so reviewers\n",
    "are more likely to rank something as relevant."
   ]
  },
  {
   "cell_type": "code",
   "execution_count": 32,
   "metadata": {
    "collapsed": true
   },
   "outputs": [],
   "source": [
    "# Import test file.\n",
    "test = pd.read_csv('/Users/davidlichacz/home-depot/test.csv', encoding='latin-1')"
   ]
  },
  {
   "cell_type": "code",
   "execution_count": 33,
   "metadata": {},
   "outputs": [
    {
     "data": {
      "text/plain": [
       "(166693, 4)"
      ]
     },
     "execution_count": 33,
     "metadata": {},
     "output_type": "execute_result"
    }
   ],
   "source": [
    "# Explore test dataframe.\n",
    "test.shape"
   ]
  },
  {
   "cell_type": "code",
   "execution_count": 34,
   "metadata": {},
   "outputs": [
    {
     "name": "stdout",
     "output_type": "stream",
     "text": [
      "<class 'pandas.core.frame.DataFrame'>\n",
      "RangeIndex: 166693 entries, 0 to 166692\n",
      "Data columns (total 4 columns):\n",
      "id               166693 non-null int64\n",
      "product_uid      166693 non-null int64\n",
      "product_title    166693 non-null object\n",
      "search_term      166693 non-null object\n",
      "dtypes: int64(2), object(2)\n",
      "memory usage: 5.1+ MB\n"
     ]
    }
   ],
   "source": [
    "test.info()"
   ]
  },
  {
   "cell_type": "code",
   "execution_count": 35,
   "metadata": {},
   "outputs": [
    {
     "data": {
      "text/html": [
       "<div>\n",
       "<style>\n",
       "    .dataframe thead tr:only-child th {\n",
       "        text-align: right;\n",
       "    }\n",
       "\n",
       "    .dataframe thead th {\n",
       "        text-align: left;\n",
       "    }\n",
       "\n",
       "    .dataframe tbody tr th {\n",
       "        vertical-align: top;\n",
       "    }\n",
       "</style>\n",
       "<table border=\"1\" class=\"dataframe\">\n",
       "  <thead>\n",
       "    <tr style=\"text-align: right;\">\n",
       "      <th></th>\n",
       "      <th>id</th>\n",
       "      <th>product_uid</th>\n",
       "      <th>product_title</th>\n",
       "      <th>search_term</th>\n",
       "    </tr>\n",
       "  </thead>\n",
       "  <tbody>\n",
       "    <tr>\n",
       "      <th>0</th>\n",
       "      <td>1</td>\n",
       "      <td>100001</td>\n",
       "      <td>Simpson Strong-Tie 12-Gauge Angle</td>\n",
       "      <td>90 degree bracket</td>\n",
       "    </tr>\n",
       "    <tr>\n",
       "      <th>1</th>\n",
       "      <td>4</td>\n",
       "      <td>100001</td>\n",
       "      <td>Simpson Strong-Tie 12-Gauge Angle</td>\n",
       "      <td>metal l brackets</td>\n",
       "    </tr>\n",
       "    <tr>\n",
       "      <th>2</th>\n",
       "      <td>5</td>\n",
       "      <td>100001</td>\n",
       "      <td>Simpson Strong-Tie 12-Gauge Angle</td>\n",
       "      <td>simpson sku able</td>\n",
       "    </tr>\n",
       "    <tr>\n",
       "      <th>3</th>\n",
       "      <td>6</td>\n",
       "      <td>100001</td>\n",
       "      <td>Simpson Strong-Tie 12-Gauge Angle</td>\n",
       "      <td>simpson strong  ties</td>\n",
       "    </tr>\n",
       "    <tr>\n",
       "      <th>4</th>\n",
       "      <td>7</td>\n",
       "      <td>100001</td>\n",
       "      <td>Simpson Strong-Tie 12-Gauge Angle</td>\n",
       "      <td>simpson strong tie hcc668</td>\n",
       "    </tr>\n",
       "  </tbody>\n",
       "</table>\n",
       "</div>"
      ],
      "text/plain": [
       "   id  product_uid                      product_title  \\\n",
       "0   1       100001  Simpson Strong-Tie 12-Gauge Angle   \n",
       "1   4       100001  Simpson Strong-Tie 12-Gauge Angle   \n",
       "2   5       100001  Simpson Strong-Tie 12-Gauge Angle   \n",
       "3   6       100001  Simpson Strong-Tie 12-Gauge Angle   \n",
       "4   7       100001  Simpson Strong-Tie 12-Gauge Angle   \n",
       "\n",
       "                 search_term  \n",
       "0          90 degree bracket  \n",
       "1           metal l brackets  \n",
       "2           simpson sku able  \n",
       "3       simpson strong  ties  \n",
       "4  simpson strong tie hcc668  "
      ]
     },
     "execution_count": 35,
     "metadata": {},
     "output_type": "execute_result"
    }
   ],
   "source": [
    "test.head()"
   ]
  },
  {
   "cell_type": "code",
   "execution_count": 36,
   "metadata": {},
   "outputs": [
    {
     "data": {
      "text/plain": [
       "True"
      ]
     },
     "execution_count": 36,
     "metadata": {},
     "output_type": "execute_result"
    }
   ],
   "source": [
    "# Naturally, the test set has the same structure as the training set, so the same methods can be performed.\n",
    "pattern = re.compile('[0-9]{6}$')\n",
    "id_check = test['product_uid'].astype(str).apply(pattern.match)\n",
    "id_check.astype(bool).all()"
   ]
  },
  {
   "cell_type": "code",
   "execution_count": 37,
   "metadata": {
    "collapsed": true
   },
   "outputs": [],
   "source": [
    "test['product_uid'] = test['product_uid'].astype(str)"
   ]
  },
  {
   "cell_type": "code",
   "execution_count": 38,
   "metadata": {},
   "outputs": [
    {
     "data": {
      "text/html": [
       "<div>\n",
       "<style>\n",
       "    .dataframe thead tr:only-child th {\n",
       "        text-align: right;\n",
       "    }\n",
       "\n",
       "    .dataframe thead th {\n",
       "        text-align: left;\n",
       "    }\n",
       "\n",
       "    .dataframe tbody tr th {\n",
       "        vertical-align: top;\n",
       "    }\n",
       "</style>\n",
       "<table border=\"1\" class=\"dataframe\">\n",
       "  <thead>\n",
       "    <tr style=\"text-align: right;\">\n",
       "      <th></th>\n",
       "      <th>id</th>\n",
       "      <th>product_uid</th>\n",
       "      <th>product_title</th>\n",
       "      <th>search_term</th>\n",
       "    </tr>\n",
       "  </thead>\n",
       "  <tbody>\n",
       "    <tr>\n",
       "      <th>0</th>\n",
       "      <td>1</td>\n",
       "      <td>100001</td>\n",
       "      <td>Simpson Strong-Tie 12-Gauge Angle</td>\n",
       "      <td>90 degree bracket</td>\n",
       "    </tr>\n",
       "    <tr>\n",
       "      <th>1</th>\n",
       "      <td>4</td>\n",
       "      <td>100001</td>\n",
       "      <td>Simpson Strong-Tie 12-Gauge Angle</td>\n",
       "      <td>metal l brackets</td>\n",
       "    </tr>\n",
       "    <tr>\n",
       "      <th>2</th>\n",
       "      <td>5</td>\n",
       "      <td>100001</td>\n",
       "      <td>Simpson Strong-Tie 12-Gauge Angle</td>\n",
       "      <td>simpson sku able</td>\n",
       "    </tr>\n",
       "    <tr>\n",
       "      <th>3</th>\n",
       "      <td>6</td>\n",
       "      <td>100001</td>\n",
       "      <td>Simpson Strong-Tie 12-Gauge Angle</td>\n",
       "      <td>simpson strong  ties</td>\n",
       "    </tr>\n",
       "    <tr>\n",
       "      <th>4</th>\n",
       "      <td>7</td>\n",
       "      <td>100001</td>\n",
       "      <td>Simpson Strong-Tie 12-Gauge Angle</td>\n",
       "      <td>simpson strong tie hcc668</td>\n",
       "    </tr>\n",
       "  </tbody>\n",
       "</table>\n",
       "</div>"
      ],
      "text/plain": [
       "   id product_uid                      product_title  \\\n",
       "0   1      100001  Simpson Strong-Tie 12-Gauge Angle   \n",
       "1   4      100001  Simpson Strong-Tie 12-Gauge Angle   \n",
       "2   5      100001  Simpson Strong-Tie 12-Gauge Angle   \n",
       "3   6      100001  Simpson Strong-Tie 12-Gauge Angle   \n",
       "4   7      100001  Simpson Strong-Tie 12-Gauge Angle   \n",
       "\n",
       "                 search_term  \n",
       "0          90 degree bracket  \n",
       "1           metal l brackets  \n",
       "2           simpson sku able  \n",
       "3       simpson strong  ties  \n",
       "4  simpson strong tie hcc668  "
      ]
     },
     "execution_count": 38,
     "metadata": {},
     "output_type": "execute_result"
    }
   ],
   "source": [
    "test.head()"
   ]
  },
  {
   "cell_type": "code",
   "execution_count": 39,
   "metadata": {
    "collapsed": true
   },
   "outputs": [],
   "source": [
    "# The product_title column of test and train feel like they belong more with the descriptions data.\n",
    "# This will also reduce duplication and the amount of data stored.\n",
    "train_title = train[['product_uid', 'product_title']].drop_duplicates()\n",
    "test_title = test[['product_uid', 'product_title']].drop_duplicates()\n",
    "product_titles = pd.concat([train_title, test_title], axis=0).drop_duplicates().sort_values('product_uid')"
   ]
  },
  {
   "cell_type": "code",
   "execution_count": 40,
   "metadata": {
    "collapsed": true
   },
   "outputs": [],
   "source": [
    "# Add the product titles to the descriptions dataframe.\n",
    "descriptions = pd.merge(descriptions, product_titles, on='product_uid', how='left')"
   ]
  },
  {
   "cell_type": "code",
   "execution_count": 41,
   "metadata": {},
   "outputs": [
    {
     "name": "stdout",
     "output_type": "stream",
     "text": [
      "<class 'pandas.core.frame.DataFrame'>\n",
      "Int64Index: 124603 entries, 0 to 124602\n",
      "Data columns (total 3 columns):\n",
      "product_uid            124603 non-null object\n",
      "product_description    124603 non-null object\n",
      "product_title          124603 non-null object\n",
      "dtypes: object(3)\n",
      "memory usage: 3.8+ MB\n"
     ]
    }
   ],
   "source": [
    "descriptions.info()"
   ]
  },
  {
   "cell_type": "code",
   "execution_count": 42,
   "metadata": {},
   "outputs": [
    {
     "data": {
      "text/plain": [
       "182629    3\n",
       "131556    2\n",
       "164245    2\n",
       "137209    2\n",
       "129575    2\n",
       "192160    2\n",
       "139538    2\n",
       "160895    2\n",
       "101367    2\n",
       "141602    2\n",
       "Name: product_uid, dtype: int64"
      ]
     },
     "execution_count": 42,
     "metadata": {},
     "output_type": "execute_result"
    }
   ],
   "source": [
    "# This added a few rows to descriptions as there are a few products with some variation in the product title.\n",
    "descriptions['product_uid'].value_counts().head(10)"
   ]
  },
  {
   "cell_type": "code",
   "execution_count": 43,
   "metadata": {
    "collapsed": true
   },
   "outputs": [],
   "source": [
    "# Drop product titles from train and test sets.\n",
    "train = train.drop('product_title', axis=1)\n",
    "test = test.drop('product_title', axis=1)"
   ]
  },
  {
   "cell_type": "code",
   "execution_count": 44,
   "metadata": {
    "collapsed": true
   },
   "outputs": [],
   "source": [
    "# Merge into one dataframe.\n",
    "search = train.merge(descriptions, on='product_uid', how='left')\n",
    "attributes = attributes.groupby('product_uid').agg(' '.join)\n",
    "search = search.merge(attributes, left_on='product_uid', right_index=True, how='left')"
   ]
  },
  {
   "cell_type": "code",
   "execution_count": 45,
   "metadata": {
    "collapsed": true
   },
   "outputs": [],
   "source": [
    "search['name'].fillna('Null', inplace=True)\n",
    "search['value'].fillna('Null', inplace=True)"
   ]
  },
  {
   "cell_type": "code",
   "execution_count": 46,
   "metadata": {
    "collapsed": true
   },
   "outputs": [],
   "source": [
    "search.search_term = search.search_term.replace('\\s+', ' ', regex=True)"
   ]
  },
  {
   "cell_type": "code",
   "execution_count": 47,
   "metadata": {
    "collapsed": true
   },
   "outputs": [],
   "source": [
    "def remove_punctuations(text):\n",
    "    for punctuation in [',']:\n",
    "        text = text.replace(punctuation, '')\n",
    "    return text\n",
    "\n",
    "search['search_term'] = search['search_term'].apply(remove_punctuations)\n",
    "search['product_description'] = search['product_description'].apply(remove_punctuations)\n",
    "search['product_title'] = search['product_title'].apply(remove_punctuations)\n",
    "search['value'] = search['value'].apply(remove_punctuations)"
   ]
  },
  {
   "cell_type": "code",
   "execution_count": 51,
   "metadata": {},
   "outputs": [],
   "source": [
    "# Use stemming to get the root of each word.\n",
    "from nltk.stem import PorterStemmer\n",
    "\n",
    "stemmer = PorterStemmer()\n",
    "\n",
    "def stem_sentences(sentence):\n",
    "    tokens = sentence.split()\n",
    "    stemmed_tokens = [stemmer.stem(token) for token in tokens]\n",
    "    return ' '.join(stemmed_tokens)\n",
    "\n",
    "search['search_stem'] = search['search_term'].apply(stem_sentences)\n",
    "search['desc_stem'] = search['product_description'].apply(stem_sentences)\n",
    "search['title_stem'] = search['product_title'].apply(stem_sentences)\n",
    "search['att_stem'] = search['value'].apply(stem_sentences)"
   ]
  },
  {
   "cell_type": "code",
   "execution_count": 52,
   "metadata": {
    "collapsed": true
   },
   "outputs": [],
   "source": [
    "# Calculate the percentage of words in the search term that appears in the other text fields.\n",
    "def search_pct(row, string1, string2):\n",
    "    if row[string2] == 'Null':\n",
    "        return 0\n",
    "    else:\n",
    "        str1 = row[string1].lower()\n",
    "        str2 = row[string2].lower()\n",
    "        count = 0\n",
    "\n",
    "        str1_split = str1.split(' ')\n",
    "        str2_split = str2.split(' ')\n",
    "        for word in str1_split:\n",
    "            if word in str2:\n",
    "                count += 1\n",
    "        return count / len(str1_split)\n",
    "    \n",
    "\n",
    "search['desc_pct'] = search.apply(search_pct, axis=1, args=('search_stem', 'desc_stem'))\n",
    "search['title_pct'] = search.apply(search_pct, axis=1, args=('search_stem', 'title_stem'))\n",
    "search['att_pct'] = search.apply(search_pct, axis=1, args=('search_stem', 'att_stem'))"
   ]
  },
  {
   "cell_type": "code",
   "execution_count": 53,
   "metadata": {
    "collapsed": true
   },
   "outputs": [],
   "source": [
    "# Calculate the percentage of words in text fields that also appear in the search term.\n",
    "def product_pct(row, string1, string2):\n",
    "    if row[string2] == 'Null':\n",
    "        return 0\n",
    "    else:\n",
    "        str1 = row[string1].lower()\n",
    "        str2 = row[string2].lower()\n",
    "        count = 0\n",
    "\n",
    "        str1_split = str1.split(' ')\n",
    "        str2_split = str2.split(' ')\n",
    "        for word in str1_split:\n",
    "            if word in str2:\n",
    "                count += 1\n",
    "        return count / len(str2_split)\n",
    "    \n",
    "\n",
    "search['desc_pct_prod'] = search.apply(product_pct, axis=1, args=('search_stem', 'desc_stem'))\n",
    "search['title_pct_prod'] = search.apply(product_pct, axis=1, args=('search_stem', 'title_stem'))\n",
    "search['att_pct_prod'] = search.apply(product_pct, axis=1, args=('search_stem', 'att_stem'))"
   ]
  },
  {
   "cell_type": "code",
   "execution_count": 54,
   "metadata": {
    "collapsed": true
   },
   "outputs": [],
   "source": [
    "# Create a boolean field that is 1 if the entire search term phrase appears in a text field and zero if it does not.\n",
    "def contains_phrase(row, string1, string2):\n",
    "    if row[string2] == 'Null':\n",
    "        return 0\n",
    "    else:\n",
    "        str1 = row[string1].lower()\n",
    "        str2 = row[string2].lower()\n",
    "\n",
    "        if str1 in str2:\n",
    "            return 1\n",
    "        else:\n",
    "            return 0\n",
    "    \n",
    "\n",
    "search['desc_phrase'] = search.apply(contains_phrase, axis=1, args=('search_stem', 'desc_stem'))\n",
    "search['title_phrase'] = search.apply(contains_phrase, axis=1, args=('search_stem', 'title_stem'))\n",
    "search['att_phrase'] = search.apply(contains_phrase, axis=1, args=('search_stem', 'att_stem'))"
   ]
  },
  {
   "cell_type": "code",
   "execution_count": 100,
   "metadata": {},
   "outputs": [],
   "source": [
    "# Calculate average number of times a word from the search term appears in a text field.\n",
    "def search_avg(row, string1, string2):\n",
    "    if row[string2] == 'Null':\n",
    "        return 0\n",
    "    else:\n",
    "        str1 = row[string1].lower()\n",
    "        str2 = row[string2].lower()\n",
    "        count = []\n",
    "\n",
    "        str1_split = str1.split(' ')\n",
    "        str2_split = str2.split(' ')\n",
    "        for word in str1_split:\n",
    "            count.append(str2_split.count(word))\n",
    "        return sum(count) / len(count)\n",
    "    \n",
    "search['desc_avg'] = search.apply(search_avg, axis=1, args=('search_stem', 'desc_stem'))\n",
    "search['title_avg'] = search.apply(search_avg, axis=1, args=('search_stem', 'title_stem'))\n",
    "search['att_avg'] = search.apply(search_avg, axis=1, args=('search_stem', 'att_stem'))"
   ]
  },
  {
   "cell_type": "code",
   "execution_count": 101,
   "metadata": {},
   "outputs": [],
   "source": [
    "# Calculate total number of times a word from the search term appears in a text field.\n",
    "def search_total(row, string1, string2):\n",
    "    if row[string2] == 'Null':\n",
    "        return 0\n",
    "    else:\n",
    "        str1 = row[string1].lower()\n",
    "        str2 = row[string2].lower()\n",
    "        count = []\n",
    "\n",
    "        str1_split = str1.split(' ')\n",
    "        str2_split = str2.split(' ')\n",
    "        for word in str1_split:\n",
    "            count.append(str2_split.count(word))\n",
    "        return sum(count_list)\n",
    "    \n",
    "search['desc_total'] = search.apply(search_total, axis=1, args=('search_stem', 'desc_stem'))\n",
    "search['title_total'] = search.apply(search_total, axis=1, args=('search_stem', 'title_stem'))\n",
    "search['att_total'] = search.apply(search_total, axis=1, args=('search_stem', 'att_stem'))"
   ]
  },
  {
   "cell_type": "code",
   "execution_count": 102,
   "metadata": {
    "collapsed": true
   },
   "outputs": [],
   "source": [
    "# Calculate maximum number of times a word from the search term appears in a text field.\n",
    "def search_max(row, string1, string2):\n",
    "    if row[string2] == 'Null':\n",
    "        return 0\n",
    "    else:\n",
    "        str1 = row[string1].lower()\n",
    "        str2 = row[string2].lower()\n",
    "        count = []\n",
    "\n",
    "        str1_split = str1.split(' ')\n",
    "        str2_split = str2.split(' ')\n",
    "        for word in str1_split:\n",
    "            count.append(str2_split.count(word))\n",
    "        return max(count)\n",
    "    \n",
    "search['desc_max'] = search.apply(search_max, axis=1, args=('search_stem', 'desc_stem'))\n",
    "search['title_max'] = search.apply(search_max, axis=1, args=('search_stem', 'title_stem'))\n",
    "search['att_max'] = search.apply(search_max, axis=1, args=('search_stem', 'att_stem'))"
   ]
  },
  {
   "cell_type": "code",
   "execution_count": 55,
   "metadata": {
    "collapsed": true
   },
   "outputs": [],
   "source": [
    "# Calcuate the number of words in each text field.\n",
    "search['search_split'] = search['search_term'].str.split().str.len()\n",
    "search['title_split'] = search['product_title'].str.split().str.len()\n",
    "search['desc_split'] = search['product_description'].str.split().str.len()\n"
   ]
  },
  {
   "cell_type": "code",
   "execution_count": 60,
   "metadata": {},
   "outputs": [],
   "source": [
    "# For visualization purposes, group rows together using the first digit of their relevance score.\n",
    "search['relevance_reduced'] = search['relevance'].apply(np.floor)"
   ]
  },
  {
   "cell_type": "code",
   "execution_count": 103,
   "metadata": {},
   "outputs": [
    {
     "data": {
      "text/html": [
       "<div>\n",
       "<style>\n",
       "    .dataframe thead tr:only-child th {\n",
       "        text-align: right;\n",
       "    }\n",
       "\n",
       "    .dataframe thead th {\n",
       "        text-align: left;\n",
       "    }\n",
       "\n",
       "    .dataframe tbody tr th {\n",
       "        vertical-align: top;\n",
       "    }\n",
       "</style>\n",
       "<table border=\"1\" class=\"dataframe\">\n",
       "  <thead>\n",
       "    <tr style=\"text-align: right;\">\n",
       "      <th></th>\n",
       "      <th>id</th>\n",
       "      <th>product_uid</th>\n",
       "      <th>search_term</th>\n",
       "      <th>relevance</th>\n",
       "      <th>product_description</th>\n",
       "      <th>product_title</th>\n",
       "      <th>name</th>\n",
       "      <th>value</th>\n",
       "      <th>search_stem</th>\n",
       "      <th>desc_stem</th>\n",
       "      <th>...</th>\n",
       "      <th>relevance_reduced</th>\n",
       "      <th>desc_avg</th>\n",
       "      <th>title_avg</th>\n",
       "      <th>att_avg</th>\n",
       "      <th>desc_total</th>\n",
       "      <th>title_total</th>\n",
       "      <th>att_total</th>\n",
       "      <th>desc_max</th>\n",
       "      <th>title_max</th>\n",
       "      <th>att_max</th>\n",
       "    </tr>\n",
       "  </thead>\n",
       "  <tbody>\n",
       "    <tr>\n",
       "      <th>0</th>\n",
       "      <td>2</td>\n",
       "      <td>100001</td>\n",
       "      <td>angle bracket</td>\n",
       "      <td>3.00</td>\n",
       "      <td>Not only do angles make joints stronger they a...</td>\n",
       "      <td>Simpson Strong-Tie 12-Gauge Angle</td>\n",
       "      <td>Bullet01 Bullet02 Bullet03 Bullet04 Bullet05 B...</td>\n",
       "      <td>Versatile connector for various 90° connection...</td>\n",
       "      <td>angl bracket</td>\n",
       "      <td>not onli do angl make joint stronger they also...</td>\n",
       "      <td>...</td>\n",
       "      <td>3.0</td>\n",
       "      <td>1.500000</td>\n",
       "      <td>0.500000</td>\n",
       "      <td>0.500000</td>\n",
       "      <td>3</td>\n",
       "      <td>1</td>\n",
       "      <td>1</td>\n",
       "      <td>3</td>\n",
       "      <td>1</td>\n",
       "      <td>1</td>\n",
       "    </tr>\n",
       "    <tr>\n",
       "      <th>1</th>\n",
       "      <td>3</td>\n",
       "      <td>100001</td>\n",
       "      <td>l bracket</td>\n",
       "      <td>2.50</td>\n",
       "      <td>Not only do angles make joints stronger they a...</td>\n",
       "      <td>Simpson Strong-Tie 12-Gauge Angle</td>\n",
       "      <td>Bullet01 Bullet02 Bullet03 Bullet04 Bullet05 B...</td>\n",
       "      <td>Versatile connector for various 90° connection...</td>\n",
       "      <td>l bracket</td>\n",
       "      <td>not onli do angl make joint stronger they also...</td>\n",
       "      <td>...</td>\n",
       "      <td>2.0</td>\n",
       "      <td>0.000000</td>\n",
       "      <td>0.000000</td>\n",
       "      <td>0.000000</td>\n",
       "      <td>0</td>\n",
       "      <td>0</td>\n",
       "      <td>0</td>\n",
       "      <td>0</td>\n",
       "      <td>0</td>\n",
       "      <td>0</td>\n",
       "    </tr>\n",
       "    <tr>\n",
       "      <th>2</th>\n",
       "      <td>9</td>\n",
       "      <td>100002</td>\n",
       "      <td>deck over</td>\n",
       "      <td>3.00</td>\n",
       "      <td>BEHR Premium Textured DECKOVER is an innovativ...</td>\n",
       "      <td>BEHR Premium Textured DeckOver 1-gal. #SC-141 ...</td>\n",
       "      <td>Application Method Assembled Depth (in.) Assem...</td>\n",
       "      <td>BrushRollerSpray 6.63 in 7.76 in 6.63 in Reviv...</td>\n",
       "      <td>deck over</td>\n",
       "      <td>behr premium textur deckov is an innov solid c...</td>\n",
       "      <td>...</td>\n",
       "      <td>3.0</td>\n",
       "      <td>1.500000</td>\n",
       "      <td>0.000000</td>\n",
       "      <td>1.000000</td>\n",
       "      <td>3</td>\n",
       "      <td>0</td>\n",
       "      <td>2</td>\n",
       "      <td>3</td>\n",
       "      <td>0</td>\n",
       "      <td>2</td>\n",
       "    </tr>\n",
       "    <tr>\n",
       "      <th>3</th>\n",
       "      <td>16</td>\n",
       "      <td>100005</td>\n",
       "      <td>rain shower head</td>\n",
       "      <td>2.33</td>\n",
       "      <td>Update your bathroom with the Delta Vero Singl...</td>\n",
       "      <td>Delta Vero 1-Handle Shower Only Faucet Trim Ki...</td>\n",
       "      <td>Bath Faucet Type Built-in Water Filter Bullet0...</td>\n",
       "      <td>Combo Tub and Shower No Includes the trim kit ...</td>\n",
       "      <td>rain shower head</td>\n",
       "      <td>updat your bathroom with the delta vero single...</td>\n",
       "      <td>...</td>\n",
       "      <td>2.0</td>\n",
       "      <td>0.333333</td>\n",
       "      <td>0.333333</td>\n",
       "      <td>0.666667</td>\n",
       "      <td>1</td>\n",
       "      <td>1</td>\n",
       "      <td>2</td>\n",
       "      <td>1</td>\n",
       "      <td>1</td>\n",
       "      <td>1</td>\n",
       "    </tr>\n",
       "    <tr>\n",
       "      <th>4</th>\n",
       "      <td>17</td>\n",
       "      <td>100005</td>\n",
       "      <td>shower only faucet</td>\n",
       "      <td>2.67</td>\n",
       "      <td>Update your bathroom with the Delta Vero Singl...</td>\n",
       "      <td>Delta Vero 1-Handle Shower Only Faucet Trim Ki...</td>\n",
       "      <td>Bath Faucet Type Built-in Water Filter Bullet0...</td>\n",
       "      <td>Combo Tub and Shower No Includes the trim kit ...</td>\n",
       "      <td>shower onli faucet</td>\n",
       "      <td>updat your bathroom with the delta vero single...</td>\n",
       "      <td>...</td>\n",
       "      <td>2.0</td>\n",
       "      <td>1.000000</td>\n",
       "      <td>1.000000</td>\n",
       "      <td>1.000000</td>\n",
       "      <td>3</td>\n",
       "      <td>3</td>\n",
       "      <td>3</td>\n",
       "      <td>1</td>\n",
       "      <td>1</td>\n",
       "      <td>1</td>\n",
       "    </tr>\n",
       "    <tr>\n",
       "      <th>5</th>\n",
       "      <td>18</td>\n",
       "      <td>100006</td>\n",
       "      <td>convection otr</td>\n",
       "      <td>3.00</td>\n",
       "      <td>Achieving delicious results is almost effortle...</td>\n",
       "      <td>Whirlpool 1.9 cu. ft. Over the Range Convectio...</td>\n",
       "      <td>Appliance Type Assembled Depth (in.) Assembled...</td>\n",
       "      <td>Over the Range Microwave 18.5 in 17.13 in 29.9...</td>\n",
       "      <td>convect otr</td>\n",
       "      <td>achiev delici result is almost effortless with...</td>\n",
       "      <td>...</td>\n",
       "      <td>3.0</td>\n",
       "      <td>2.000000</td>\n",
       "      <td>0.500000</td>\n",
       "      <td>1.000000</td>\n",
       "      <td>4</td>\n",
       "      <td>1</td>\n",
       "      <td>2</td>\n",
       "      <td>4</td>\n",
       "      <td>1</td>\n",
       "      <td>2</td>\n",
       "    </tr>\n",
       "    <tr>\n",
       "      <th>6</th>\n",
       "      <td>20</td>\n",
       "      <td>100006</td>\n",
       "      <td>microwave over stove</td>\n",
       "      <td>2.67</td>\n",
       "      <td>Achieving delicious results is almost effortle...</td>\n",
       "      <td>Whirlpool 1.9 cu. ft. Over the Range Convectio...</td>\n",
       "      <td>Appliance Type Assembled Depth (in.) Assembled...</td>\n",
       "      <td>Over the Range Microwave 18.5 in 17.13 in 29.9...</td>\n",
       "      <td>microwav over stove</td>\n",
       "      <td>achiev delici result is almost effortless with...</td>\n",
       "      <td>...</td>\n",
       "      <td>2.0</td>\n",
       "      <td>1.666667</td>\n",
       "      <td>0.666667</td>\n",
       "      <td>2.333333</td>\n",
       "      <td>5</td>\n",
       "      <td>2</td>\n",
       "      <td>7</td>\n",
       "      <td>4</td>\n",
       "      <td>1</td>\n",
       "      <td>5</td>\n",
       "    </tr>\n",
       "    <tr>\n",
       "      <th>7</th>\n",
       "      <td>21</td>\n",
       "      <td>100006</td>\n",
       "      <td>microwaves</td>\n",
       "      <td>3.00</td>\n",
       "      <td>Achieving delicious results is almost effortle...</td>\n",
       "      <td>Whirlpool 1.9 cu. ft. Over the Range Convectio...</td>\n",
       "      <td>Appliance Type Assembled Depth (in.) Assembled...</td>\n",
       "      <td>Over the Range Microwave 18.5 in 17.13 in 29.9...</td>\n",
       "      <td>microwav</td>\n",
       "      <td>achiev delici result is almost effortless with...</td>\n",
       "      <td>...</td>\n",
       "      <td>3.0</td>\n",
       "      <td>4.000000</td>\n",
       "      <td>1.000000</td>\n",
       "      <td>5.000000</td>\n",
       "      <td>4</td>\n",
       "      <td>1</td>\n",
       "      <td>5</td>\n",
       "      <td>4</td>\n",
       "      <td>1</td>\n",
       "      <td>5</td>\n",
       "    </tr>\n",
       "    <tr>\n",
       "      <th>8</th>\n",
       "      <td>23</td>\n",
       "      <td>100007</td>\n",
       "      <td>emergency light</td>\n",
       "      <td>2.67</td>\n",
       "      <td>The Quantum Adjustable 2-Light LED Black Emerg...</td>\n",
       "      <td>Lithonia Lighting Quantum 2-Light Black LED Em...</td>\n",
       "      <td>Battery Power Type Battery Size Bulb Type Incl...</td>\n",
       "      <td>Ni-Cad .Built-In LED Advanced LED technology i...</td>\n",
       "      <td>emerg light</td>\n",
       "      <td>the quantum adjust 2-light led black emerg lig...</td>\n",
       "      <td>...</td>\n",
       "      <td>2.0</td>\n",
       "      <td>2.500000</td>\n",
       "      <td>1.000000</td>\n",
       "      <td>1.500000</td>\n",
       "      <td>5</td>\n",
       "      <td>2</td>\n",
       "      <td>3</td>\n",
       "      <td>4</td>\n",
       "      <td>1</td>\n",
       "      <td>2</td>\n",
       "    </tr>\n",
       "    <tr>\n",
       "      <th>9</th>\n",
       "      <td>27</td>\n",
       "      <td>100009</td>\n",
       "      <td>mdf 3/4</td>\n",
       "      <td>3.00</td>\n",
       "      <td>Get the House of Fara 3/4 in. x 3 in. x 8 ft. ...</td>\n",
       "      <td>House of Fara 3/4 in. x 3 in. x 8 ft. MDF Flut...</td>\n",
       "      <td>Application Bullet01 Bullet02 Bullet03 Bullet0...</td>\n",
       "      <td>Door &amp; Window Made of primed MDF Can be painte...</td>\n",
       "      <td>mdf 3/4</td>\n",
       "      <td>get the hous of fara 3/4 in. x 3 in. x 8 ft. m...</td>\n",
       "      <td>...</td>\n",
       "      <td>3.0</td>\n",
       "      <td>1.000000</td>\n",
       "      <td>1.000000</td>\n",
       "      <td>0.500000</td>\n",
       "      <td>2</td>\n",
       "      <td>2</td>\n",
       "      <td>1</td>\n",
       "      <td>1</td>\n",
       "      <td>1</td>\n",
       "      <td>1</td>\n",
       "    </tr>\n",
       "    <tr>\n",
       "      <th>10</th>\n",
       "      <td>34</td>\n",
       "      <td>100010</td>\n",
       "      <td>steele stake</td>\n",
       "      <td>2.67</td>\n",
       "      <td>Valley View Industries Metal Stakes (4-Pack) a...</td>\n",
       "      <td>Valley View Industries Metal Stakes (4-Pack)</td>\n",
       "      <td>Attachable Bullet01 Bullet02 Bullet03 Bullet04...</td>\n",
       "      <td>No Can be used with all valley View lawn edgin...</td>\n",
       "      <td>steel stake</td>\n",
       "      <td>valley view industri metal stake (4-pack) are ...</td>\n",
       "      <td>...</td>\n",
       "      <td>2.0</td>\n",
       "      <td>5.000000</td>\n",
       "      <td>0.500000</td>\n",
       "      <td>1.500000</td>\n",
       "      <td>10</td>\n",
       "      <td>1</td>\n",
       "      <td>3</td>\n",
       "      <td>8</td>\n",
       "      <td>1</td>\n",
       "      <td>2</td>\n",
       "    </tr>\n",
       "    <tr>\n",
       "      <th>11</th>\n",
       "      <td>35</td>\n",
       "      <td>100011</td>\n",
       "      <td>briggs and stratton lawn mower</td>\n",
       "      <td>3.00</td>\n",
       "      <td>Recycler 22 in. Personal Pace Variable Speed S...</td>\n",
       "      <td>Toro Personal Pace Recycler 22 in. Variable Sp...</td>\n",
       "      <td>Assembled Depth (in.) Assembled Height (in.) A...</td>\n",
       "      <td>59 in 44 in 23 in 22 in Recycler cutting syste...</td>\n",
       "      <td>brigg and stratton lawn mower</td>\n",
       "      <td>recycl 22 in. person pace variabl speed self-p...</td>\n",
       "      <td>...</td>\n",
       "      <td>3.0</td>\n",
       "      <td>3.600000</td>\n",
       "      <td>0.800000</td>\n",
       "      <td>3.000000</td>\n",
       "      <td>18</td>\n",
       "      <td>4</td>\n",
       "      <td>15</td>\n",
       "      <td>7</td>\n",
       "      <td>1</td>\n",
       "      <td>6</td>\n",
       "    </tr>\n",
       "    <tr>\n",
       "      <th>12</th>\n",
       "      <td>37</td>\n",
       "      <td>100011</td>\n",
       "      <td>gas mowe</td>\n",
       "      <td>3.00</td>\n",
       "      <td>Recycler 22 in. Personal Pace Variable Speed S...</td>\n",
       "      <td>Toro Personal Pace Recycler 22 in. Variable Sp...</td>\n",
       "      <td>Assembled Depth (in.) Assembled Height (in.) A...</td>\n",
       "      <td>59 in 44 in 23 in 22 in Recycler cutting syste...</td>\n",
       "      <td>ga mow</td>\n",
       "      <td>recycl 22 in. person pace variabl speed self-p...</td>\n",
       "      <td>...</td>\n",
       "      <td>3.0</td>\n",
       "      <td>0.500000</td>\n",
       "      <td>0.500000</td>\n",
       "      <td>0.500000</td>\n",
       "      <td>1</td>\n",
       "      <td>1</td>\n",
       "      <td>1</td>\n",
       "      <td>1</td>\n",
       "      <td>1</td>\n",
       "      <td>1</td>\n",
       "    </tr>\n",
       "    <tr>\n",
       "      <th>13</th>\n",
       "      <td>38</td>\n",
       "      <td>100011</td>\n",
       "      <td>honda mower</td>\n",
       "      <td>2.00</td>\n",
       "      <td>Recycler 22 in. Personal Pace Variable Speed S...</td>\n",
       "      <td>Toro Personal Pace Recycler 22 in. Variable Sp...</td>\n",
       "      <td>Assembled Depth (in.) Assembled Height (in.) A...</td>\n",
       "      <td>59 in 44 in 23 in 22 in Recycler cutting syste...</td>\n",
       "      <td>honda mower</td>\n",
       "      <td>recycl 22 in. person pace variabl speed self-p...</td>\n",
       "      <td>...</td>\n",
       "      <td>2.0</td>\n",
       "      <td>2.500000</td>\n",
       "      <td>0.500000</td>\n",
       "      <td>1.500000</td>\n",
       "      <td>5</td>\n",
       "      <td>1</td>\n",
       "      <td>3</td>\n",
       "      <td>5</td>\n",
       "      <td>1</td>\n",
       "      <td>3</td>\n",
       "    </tr>\n",
       "    <tr>\n",
       "      <th>14</th>\n",
       "      <td>48</td>\n",
       "      <td>100012</td>\n",
       "      <td>hampton bay chestnut pull up shade</td>\n",
       "      <td>2.67</td>\n",
       "      <td>The 96 in. wide Caramel Simple Weave Rollup Ba...</td>\n",
       "      <td>Hampton Bay Caramel Simple Weave Bamboo Rollup...</td>\n",
       "      <td>Actual Blind/Shade Width (In.) Arched Bullet01...</td>\n",
       "      <td>96 No 96 in. W x 72 in. L Actual Blind Width i...</td>\n",
       "      <td>hampton bay chestnut pull up shade</td>\n",
       "      <td>the 96 in. wide caramel simpl weav rollup bamb...</td>\n",
       "      <td>...</td>\n",
       "      <td>2.0</td>\n",
       "      <td>2.333333</td>\n",
       "      <td>0.500000</td>\n",
       "      <td>1.500000</td>\n",
       "      <td>14</td>\n",
       "      <td>3</td>\n",
       "      <td>9</td>\n",
       "      <td>8</td>\n",
       "      <td>1</td>\n",
       "      <td>3</td>\n",
       "    </tr>\n",
       "    <tr>\n",
       "      <th>15</th>\n",
       "      <td>51</td>\n",
       "      <td>100013</td>\n",
       "      <td>disposer</td>\n",
       "      <td>2.67</td>\n",
       "      <td>The InSinkErator SinkTop Switch Single Outlet ...</td>\n",
       "      <td>InSinkErator SinkTop Switch Single Outlet for ...</td>\n",
       "      <td>Bullet01 Bullet02 Bullet03 Bullet04 Bullet05 C...</td>\n",
       "      <td>Kit includes satin nickel chrome and white fin...</td>\n",
       "      <td>dispos</td>\n",
       "      <td>the insinker sinktop switch singl outlet for i...</td>\n",
       "      <td>...</td>\n",
       "      <td>2.0</td>\n",
       "      <td>2.000000</td>\n",
       "      <td>1.000000</td>\n",
       "      <td>2.000000</td>\n",
       "      <td>2</td>\n",
       "      <td>1</td>\n",
       "      <td>2</td>\n",
       "      <td>2</td>\n",
       "      <td>1</td>\n",
       "      <td>2</td>\n",
       "    </tr>\n",
       "    <tr>\n",
       "      <th>16</th>\n",
       "      <td>65</td>\n",
       "      <td>100016</td>\n",
       "      <td>grill gazebo</td>\n",
       "      <td>3.00</td>\n",
       "      <td>Make grilling great with this handsome and fun...</td>\n",
       "      <td>Sunjoy Calais 8 ft. x 5 ft. x 8 ft. Steel Tile...</td>\n",
       "      <td>Approximate Depth (ft.) Approximate Width (ft....</td>\n",
       "      <td>8 5 96.45 in 98.4 in 60.6 in Vented canopy Bui...</td>\n",
       "      <td>grill gazebo</td>\n",
       "      <td>make grill great with thi handsom and function...</td>\n",
       "      <td>...</td>\n",
       "      <td>3.0</td>\n",
       "      <td>8.000000</td>\n",
       "      <td>1.000000</td>\n",
       "      <td>1.000000</td>\n",
       "      <td>16</td>\n",
       "      <td>2</td>\n",
       "      <td>2</td>\n",
       "      <td>13</td>\n",
       "      <td>1</td>\n",
       "      <td>1</td>\n",
       "    </tr>\n",
       "    <tr>\n",
       "      <th>17</th>\n",
       "      <td>69</td>\n",
       "      <td>100017</td>\n",
       "      <td>door guards</td>\n",
       "      <td>1.00</td>\n",
       "      <td>The MD Building Products 36 in. x 36 in. x 1/5...</td>\n",
       "      <td>MD Building Products 36 in. x 36 in. Cloverlea...</td>\n",
       "      <td>Bullet01 Bullet02 Bullet03 Bullet04 Bullet05 B...</td>\n",
       "      <td>Use to repair door or window screens or add st...</td>\n",
       "      <td>door guard</td>\n",
       "      <td>the MD build product 36 in. x 36 in. x 1/50 in...</td>\n",
       "      <td>...</td>\n",
       "      <td>1.0</td>\n",
       "      <td>0.500000</td>\n",
       "      <td>0.000000</td>\n",
       "      <td>0.500000</td>\n",
       "      <td>1</td>\n",
       "      <td>0</td>\n",
       "      <td>1</td>\n",
       "      <td>1</td>\n",
       "      <td>0</td>\n",
       "      <td>1</td>\n",
       "    </tr>\n",
       "    <tr>\n",
       "      <th>18</th>\n",
       "      <td>75</td>\n",
       "      <td>100017</td>\n",
       "      <td>metal plate cover gcfi</td>\n",
       "      <td>1.67</td>\n",
       "      <td>The MD Building Products 36 in. x 36 in. x 1/5...</td>\n",
       "      <td>MD Building Products 36 in. x 36 in. Cloverlea...</td>\n",
       "      <td>Bullet01 Bullet02 Bullet03 Bullet04 Bullet05 B...</td>\n",
       "      <td>Use to repair door or window screens or add st...</td>\n",
       "      <td>metal plate cover gcfi</td>\n",
       "      <td>the MD build product 36 in. x 36 in. x 1/50 in...</td>\n",
       "      <td>...</td>\n",
       "      <td>1.0</td>\n",
       "      <td>0.000000</td>\n",
       "      <td>0.000000</td>\n",
       "      <td>0.750000</td>\n",
       "      <td>0</td>\n",
       "      <td>0</td>\n",
       "      <td>3</td>\n",
       "      <td>0</td>\n",
       "      <td>0</td>\n",
       "      <td>3</td>\n",
       "    </tr>\n",
       "    <tr>\n",
       "      <th>19</th>\n",
       "      <td>81</td>\n",
       "      <td>100017</td>\n",
       "      <td>radiator grate</td>\n",
       "      <td>2.33</td>\n",
       "      <td>The MD Building Products 36 in. x 36 in. x 1/5...</td>\n",
       "      <td>MD Building Products 36 in. x 36 in. Cloverlea...</td>\n",
       "      <td>Bullet01 Bullet02 Bullet03 Bullet04 Bullet05 B...</td>\n",
       "      <td>Use to repair door or window screens or add st...</td>\n",
       "      <td>radiat grate</td>\n",
       "      <td>the MD build product 36 in. x 36 in. x 1/50 in...</td>\n",
       "      <td>...</td>\n",
       "      <td>2.0</td>\n",
       "      <td>0.000000</td>\n",
       "      <td>0.000000</td>\n",
       "      <td>0.000000</td>\n",
       "      <td>0</td>\n",
       "      <td>0</td>\n",
       "      <td>0</td>\n",
       "      <td>0</td>\n",
       "      <td>0</td>\n",
       "      <td>0</td>\n",
       "    </tr>\n",
       "  </tbody>\n",
       "</table>\n",
       "<p>20 rows × 34 columns</p>\n",
       "</div>"
      ],
      "text/plain": [
       "    id product_uid                         search_term  relevance  \\\n",
       "0    2      100001                       angle bracket       3.00   \n",
       "1    3      100001                           l bracket       2.50   \n",
       "2    9      100002                           deck over       3.00   \n",
       "3   16      100005                    rain shower head       2.33   \n",
       "4   17      100005                  shower only faucet       2.67   \n",
       "5   18      100006                      convection otr       3.00   \n",
       "6   20      100006                microwave over stove       2.67   \n",
       "7   21      100006                          microwaves       3.00   \n",
       "8   23      100007                     emergency light       2.67   \n",
       "9   27      100009                             mdf 3/4       3.00   \n",
       "10  34      100010                        steele stake       2.67   \n",
       "11  35      100011      briggs and stratton lawn mower       3.00   \n",
       "12  37      100011                            gas mowe       3.00   \n",
       "13  38      100011                         honda mower       2.00   \n",
       "14  48      100012  hampton bay chestnut pull up shade       2.67   \n",
       "15  51      100013                            disposer       2.67   \n",
       "16  65      100016                        grill gazebo       3.00   \n",
       "17  69      100017                         door guards       1.00   \n",
       "18  75      100017              metal plate cover gcfi       1.67   \n",
       "19  81      100017                      radiator grate       2.33   \n",
       "\n",
       "                                  product_description  \\\n",
       "0   Not only do angles make joints stronger they a...   \n",
       "1   Not only do angles make joints stronger they a...   \n",
       "2   BEHR Premium Textured DECKOVER is an innovativ...   \n",
       "3   Update your bathroom with the Delta Vero Singl...   \n",
       "4   Update your bathroom with the Delta Vero Singl...   \n",
       "5   Achieving delicious results is almost effortle...   \n",
       "6   Achieving delicious results is almost effortle...   \n",
       "7   Achieving delicious results is almost effortle...   \n",
       "8   The Quantum Adjustable 2-Light LED Black Emerg...   \n",
       "9   Get the House of Fara 3/4 in. x 3 in. x 8 ft. ...   \n",
       "10  Valley View Industries Metal Stakes (4-Pack) a...   \n",
       "11  Recycler 22 in. Personal Pace Variable Speed S...   \n",
       "12  Recycler 22 in. Personal Pace Variable Speed S...   \n",
       "13  Recycler 22 in. Personal Pace Variable Speed S...   \n",
       "14  The 96 in. wide Caramel Simple Weave Rollup Ba...   \n",
       "15  The InSinkErator SinkTop Switch Single Outlet ...   \n",
       "16  Make grilling great with this handsome and fun...   \n",
       "17  The MD Building Products 36 in. x 36 in. x 1/5...   \n",
       "18  The MD Building Products 36 in. x 36 in. x 1/5...   \n",
       "19  The MD Building Products 36 in. x 36 in. x 1/5...   \n",
       "\n",
       "                                        product_title  \\\n",
       "0                   Simpson Strong-Tie 12-Gauge Angle   \n",
       "1                   Simpson Strong-Tie 12-Gauge Angle   \n",
       "2   BEHR Premium Textured DeckOver 1-gal. #SC-141 ...   \n",
       "3   Delta Vero 1-Handle Shower Only Faucet Trim Ki...   \n",
       "4   Delta Vero 1-Handle Shower Only Faucet Trim Ki...   \n",
       "5   Whirlpool 1.9 cu. ft. Over the Range Convectio...   \n",
       "6   Whirlpool 1.9 cu. ft. Over the Range Convectio...   \n",
       "7   Whirlpool 1.9 cu. ft. Over the Range Convectio...   \n",
       "8   Lithonia Lighting Quantum 2-Light Black LED Em...   \n",
       "9   House of Fara 3/4 in. x 3 in. x 8 ft. MDF Flut...   \n",
       "10       Valley View Industries Metal Stakes (4-Pack)   \n",
       "11  Toro Personal Pace Recycler 22 in. Variable Sp...   \n",
       "12  Toro Personal Pace Recycler 22 in. Variable Sp...   \n",
       "13  Toro Personal Pace Recycler 22 in. Variable Sp...   \n",
       "14  Hampton Bay Caramel Simple Weave Bamboo Rollup...   \n",
       "15  InSinkErator SinkTop Switch Single Outlet for ...   \n",
       "16  Sunjoy Calais 8 ft. x 5 ft. x 8 ft. Steel Tile...   \n",
       "17  MD Building Products 36 in. x 36 in. Cloverlea...   \n",
       "18  MD Building Products 36 in. x 36 in. Cloverlea...   \n",
       "19  MD Building Products 36 in. x 36 in. Cloverlea...   \n",
       "\n",
       "                                                 name  \\\n",
       "0   Bullet01 Bullet02 Bullet03 Bullet04 Bullet05 B...   \n",
       "1   Bullet01 Bullet02 Bullet03 Bullet04 Bullet05 B...   \n",
       "2   Application Method Assembled Depth (in.) Assem...   \n",
       "3   Bath Faucet Type Built-in Water Filter Bullet0...   \n",
       "4   Bath Faucet Type Built-in Water Filter Bullet0...   \n",
       "5   Appliance Type Assembled Depth (in.) Assembled...   \n",
       "6   Appliance Type Assembled Depth (in.) Assembled...   \n",
       "7   Appliance Type Assembled Depth (in.) Assembled...   \n",
       "8   Battery Power Type Battery Size Bulb Type Incl...   \n",
       "9   Application Bullet01 Bullet02 Bullet03 Bullet0...   \n",
       "10  Attachable Bullet01 Bullet02 Bullet03 Bullet04...   \n",
       "11  Assembled Depth (in.) Assembled Height (in.) A...   \n",
       "12  Assembled Depth (in.) Assembled Height (in.) A...   \n",
       "13  Assembled Depth (in.) Assembled Height (in.) A...   \n",
       "14  Actual Blind/Shade Width (In.) Arched Bullet01...   \n",
       "15  Bullet01 Bullet02 Bullet03 Bullet04 Bullet05 C...   \n",
       "16  Approximate Depth (ft.) Approximate Width (ft....   \n",
       "17  Bullet01 Bullet02 Bullet03 Bullet04 Bullet05 B...   \n",
       "18  Bullet01 Bullet02 Bullet03 Bullet04 Bullet05 B...   \n",
       "19  Bullet01 Bullet02 Bullet03 Bullet04 Bullet05 B...   \n",
       "\n",
       "                                                value  \\\n",
       "0   Versatile connector for various 90° connection...   \n",
       "1   Versatile connector for various 90° connection...   \n",
       "2   BrushRollerSpray 6.63 in 7.76 in 6.63 in Reviv...   \n",
       "3   Combo Tub and Shower No Includes the trim kit ...   \n",
       "4   Combo Tub and Shower No Includes the trim kit ...   \n",
       "5   Over the Range Microwave 18.5 in 17.13 in 29.9...   \n",
       "6   Over the Range Microwave 18.5 in 17.13 in 29.9...   \n",
       "7   Over the Range Microwave 18.5 in 17.13 in 29.9...   \n",
       "8   Ni-Cad .Built-In LED Advanced LED technology i...   \n",
       "9   Door & Window Made of primed MDF Can be painte...   \n",
       "10  No Can be used with all valley View lawn edgin...   \n",
       "11  59 in 44 in 23 in 22 in Recycler cutting syste...   \n",
       "12  59 in 44 in 23 in 22 in Recycler cutting syste...   \n",
       "13  59 in 44 in 23 in 22 in Recycler cutting syste...   \n",
       "14  96 No 96 in. W x 72 in. L Actual Blind Width i...   \n",
       "15  Kit includes satin nickel chrome and white fin...   \n",
       "16  8 5 96.45 in 98.4 in 60.6 in Vented canopy Bui...   \n",
       "17  Use to repair door or window screens or add st...   \n",
       "18  Use to repair door or window screens or add st...   \n",
       "19  Use to repair door or window screens or add st...   \n",
       "\n",
       "                           search_stem  \\\n",
       "0                         angl bracket   \n",
       "1                            l bracket   \n",
       "2                            deck over   \n",
       "3                     rain shower head   \n",
       "4                   shower onli faucet   \n",
       "5                          convect otr   \n",
       "6                  microwav over stove   \n",
       "7                             microwav   \n",
       "8                          emerg light   \n",
       "9                              mdf 3/4   \n",
       "10                         steel stake   \n",
       "11       brigg and stratton lawn mower   \n",
       "12                              ga mow   \n",
       "13                         honda mower   \n",
       "14  hampton bay chestnut pull up shade   \n",
       "15                              dispos   \n",
       "16                        grill gazebo   \n",
       "17                          door guard   \n",
       "18              metal plate cover gcfi   \n",
       "19                        radiat grate   \n",
       "\n",
       "                                            desc_stem   ...     \\\n",
       "0   not onli do angl make joint stronger they also...   ...      \n",
       "1   not onli do angl make joint stronger they also...   ...      \n",
       "2   behr premium textur deckov is an innov solid c...   ...      \n",
       "3   updat your bathroom with the delta vero single...   ...      \n",
       "4   updat your bathroom with the delta vero single...   ...      \n",
       "5   achiev delici result is almost effortless with...   ...      \n",
       "6   achiev delici result is almost effortless with...   ...      \n",
       "7   achiev delici result is almost effortless with...   ...      \n",
       "8   the quantum adjust 2-light led black emerg lig...   ...      \n",
       "9   get the hous of fara 3/4 in. x 3 in. x 8 ft. m...   ...      \n",
       "10  valley view industri metal stake (4-pack) are ...   ...      \n",
       "11  recycl 22 in. person pace variabl speed self-p...   ...      \n",
       "12  recycl 22 in. person pace variabl speed self-p...   ...      \n",
       "13  recycl 22 in. person pace variabl speed self-p...   ...      \n",
       "14  the 96 in. wide caramel simpl weav rollup bamb...   ...      \n",
       "15  the insinker sinktop switch singl outlet for i...   ...      \n",
       "16  make grill great with thi handsom and function...   ...      \n",
       "17  the MD build product 36 in. x 36 in. x 1/50 in...   ...      \n",
       "18  the MD build product 36 in. x 36 in. x 1/50 in...   ...      \n",
       "19  the MD build product 36 in. x 36 in. x 1/50 in...   ...      \n",
       "\n",
       "   relevance_reduced  desc_avg  title_avg   att_avg  desc_total  title_total  \\\n",
       "0                3.0  1.500000   0.500000  0.500000           3            1   \n",
       "1                2.0  0.000000   0.000000  0.000000           0            0   \n",
       "2                3.0  1.500000   0.000000  1.000000           3            0   \n",
       "3                2.0  0.333333   0.333333  0.666667           1            1   \n",
       "4                2.0  1.000000   1.000000  1.000000           3            3   \n",
       "5                3.0  2.000000   0.500000  1.000000           4            1   \n",
       "6                2.0  1.666667   0.666667  2.333333           5            2   \n",
       "7                3.0  4.000000   1.000000  5.000000           4            1   \n",
       "8                2.0  2.500000   1.000000  1.500000           5            2   \n",
       "9                3.0  1.000000   1.000000  0.500000           2            2   \n",
       "10               2.0  5.000000   0.500000  1.500000          10            1   \n",
       "11               3.0  3.600000   0.800000  3.000000          18            4   \n",
       "12               3.0  0.500000   0.500000  0.500000           1            1   \n",
       "13               2.0  2.500000   0.500000  1.500000           5            1   \n",
       "14               2.0  2.333333   0.500000  1.500000          14            3   \n",
       "15               2.0  2.000000   1.000000  2.000000           2            1   \n",
       "16               3.0  8.000000   1.000000  1.000000          16            2   \n",
       "17               1.0  0.500000   0.000000  0.500000           1            0   \n",
       "18               1.0  0.000000   0.000000  0.750000           0            0   \n",
       "19               2.0  0.000000   0.000000  0.000000           0            0   \n",
       "\n",
       "    att_total  desc_max  title_max  att_max  \n",
       "0           1         3          1        1  \n",
       "1           0         0          0        0  \n",
       "2           2         3          0        2  \n",
       "3           2         1          1        1  \n",
       "4           3         1          1        1  \n",
       "5           2         4          1        2  \n",
       "6           7         4          1        5  \n",
       "7           5         4          1        5  \n",
       "8           3         4          1        2  \n",
       "9           1         1          1        1  \n",
       "10          3         8          1        2  \n",
       "11         15         7          1        6  \n",
       "12          1         1          1        1  \n",
       "13          3         5          1        3  \n",
       "14          9         8          1        3  \n",
       "15          2         2          1        2  \n",
       "16          2        13          1        1  \n",
       "17          1         1          0        1  \n",
       "18          3         0          0        3  \n",
       "19          0         0          0        0  \n",
       "\n",
       "[20 rows x 34 columns]"
      ]
     },
     "execution_count": 103,
     "metadata": {},
     "output_type": "execute_result"
    }
   ],
   "source": [
    "search.head(20)"
   ]
  },
  {
   "cell_type": "code",
   "execution_count": 62,
   "metadata": {
    "collapsed": true
   },
   "outputs": [],
   "source": [
    "# Save new dataframe for future use.\n",
    "search.to_csv(r'search.csv')"
   ]
  },
  {
   "cell_type": "code",
   "execution_count": 63,
   "metadata": {},
   "outputs": [
    {
     "data": {
      "image/png": "[encoded data removed]",
      "text/plain": [
       "<matplotlib.figure.Figure at 0x115be6e48>"
      ]
     },
     "metadata": {},
     "output_type": "display_data"
    }
   ],
   "source": [
    "# Create boxplots to compare search field percentage for each text field.\n",
    "import seaborn as sns\n",
    "sns.set_style(\"whitegrid\")\n",
    "ax = sns.boxplot(x=\"relevance_reduced\", y=\"title_pct\", data=search)\n",
    "ax.set(ylim=(0, 1.0))\n",
    "plt.show()"
   ]
  },
  {
   "cell_type": "code",
   "execution_count": 64,
   "metadata": {},
   "outputs": [
    {
     "data": {
      "image/png": "[encoded data removed]",
      "text/plain": [
       "<matplotlib.figure.Figure at 0x11d3f34e0>"
      ]
     },
     "metadata": {},
     "output_type": "display_data"
    }
   ],
   "source": [
    "ax = sns.boxplot(x=\"relevance_reduced\", y=\"desc_pct\", data=search)\n",
    "ax.set(ylim=(0, 1.0))\n",
    "plt.show()"
   ]
  },
  {
   "cell_type": "code",
   "execution_count": 65,
   "metadata": {},
   "outputs": [
    {
     "data": {
      "image/png": "[encoded data removed]",
      "text/plain": [
       "<matplotlib.figure.Figure at 0x11be60908>"
      ]
     },
     "metadata": {},
     "output_type": "display_data"
    }
   ],
   "source": [
    "ax = sns.boxplot(x=\"relevance_reduced\", y=\"att_pct\", data=search)\n",
    "ax.set(ylim=(0, 1.0))\n",
    "plt.show()"
   ]
  },
  {
   "cell_type": "code",
   "execution_count": 66,
   "metadata": {},
   "outputs": [
    {
     "data": {
      "image/png": "[encoded data removed]",
      "text/plain": [
       "<matplotlib.figure.Figure at 0x11d3f2748>"
      ]
     },
     "metadata": {},
     "output_type": "display_data"
    }
   ],
   "source": [
    "# Create boxplots for text field percentage for each text field.\n",
    "ax = sns.boxplot(x=\"relevance_reduced\", y=\"title_pct_prod\", data=search)\n",
    "ax.set(ylim=(0, 1.0))\n",
    "plt.show()"
   ]
  },
  {
   "cell_type": "code",
   "execution_count": 67,
   "metadata": {},
   "outputs": [
    {
     "data": {
      "image/png": "[encoded data removed]",
      "text/plain": [
       "<matplotlib.figure.Figure at 0x11d3d2860>"
      ]
     },
     "metadata": {},
     "output_type": "display_data"
    }
   ],
   "source": [
    "ax = sns.boxplot(x=\"relevance_reduced\", y=\"desc_pct_prod\", data=search)\n",
    "ax.set(ylim=(0, 0.25))\n",
    "plt.show()"
   ]
  },
  {
   "cell_type": "code",
   "execution_count": 68,
   "metadata": {},
   "outputs": [
    {
     "data": {
      "image/png": "[encoded data removed]",
      "text/plain": [
       "<matplotlib.figure.Figure at 0x11aced240>"
      ]
     },
     "metadata": {},
     "output_type": "display_data"
    }
   ],
   "source": [
    "ax = sns.boxplot(x=\"relevance_reduced\", y=\"att_pct_prod\", data=search)\n",
    "ax.set(ylim=(0, 0.4))\n",
    "plt.show()"
   ]
  },
  {
   "cell_type": "code",
   "execution_count": 104,
   "metadata": {},
   "outputs": [
    {
     "data": {
      "image/png": "[encoded data removed]",
      "text/plain": [
       "<matplotlib.figure.Figure at 0x11a860940>"
      ]
     },
     "metadata": {},
     "output_type": "display_data"
    }
   ],
   "source": [
    "# Create boxplots for search term appearance stats.\n",
    "ax = sns.boxplot(x=\"relevance_reduced\", y=\"desc_avg\", data=search)\n",
    "plt.show()"
   ]
  },
  {
   "cell_type": "code",
   "execution_count": 105,
   "metadata": {},
   "outputs": [
    {
     "data": {
      "image/png": "[encoded data removed]",
      "text/plain": [
       "<matplotlib.figure.Figure at 0x11a866a20>"
      ]
     },
     "metadata": {},
     "output_type": "display_data"
    }
   ],
   "source": [
    "ax = sns.boxplot(x=\"relevance_reduced\", y=\"title_avg\", data=search)\n",
    "plt.show()"
   ]
  },
  {
   "cell_type": "code",
   "execution_count": 106,
   "metadata": {},
   "outputs": [
    {
     "data": {
      "image/png": "[encoded data removed]",
      "text/plain": [
       "<matplotlib.figure.Figure at 0x11ac57b70>"
      ]
     },
     "metadata": {},
     "output_type": "display_data"
    }
   ],
   "source": [
    "ax = sns.boxplot(x=\"relevance_reduced\", y=\"att_avg\", data=search)\n",
    "plt.show()"
   ]
  },
  {
   "cell_type": "code",
   "execution_count": 107,
   "metadata": {},
   "outputs": [
    {
     "data": {
      "image/png": "[encoded data removed]",
      "text/plain": [
       "<matplotlib.figure.Figure at 0x11bde89e8>"
      ]
     },
     "metadata": {},
     "output_type": "display_data"
    }
   ],
   "source": [
    "ax = sns.boxplot(x=\"relevance_reduced\", y=\"desc_total\", data=search)\n",
    "plt.show()"
   ]
  },
  {
   "cell_type": "code",
   "execution_count": 108,
   "metadata": {},
   "outputs": [
    {
     "data": {
      "image/png": "[encoded data removed]",
      "text/plain": [
       "<matplotlib.figure.Figure at 0x11bdef080>"
      ]
     },
     "metadata": {},
     "output_type": "display_data"
    }
   ],
   "source": [
    "ax = sns.boxplot(x=\"relevance_reduced\", y=\"title_total\", data=search)\n",
    "plt.show()"
   ]
  },
  {
   "cell_type": "code",
   "execution_count": 109,
   "metadata": {},
   "outputs": [
    {
     "data": {
      "image/png": "[encoded data removed]",
      "text/plain": [
       "<matplotlib.figure.Figure at 0x11bde0320>"
      ]
     },
     "metadata": {},
     "output_type": "display_data"
    }
   ],
   "source": [
    "ax = sns.boxplot(x=\"relevance_reduced\", y=\"att_total\", data=search)\n",
    "plt.show()"
   ]
  },
  {
   "cell_type": "code",
   "execution_count": 110,
   "metadata": {},
   "outputs": [
    {
     "data": {
      "image/png": "[encoded data removed]",
      "text/plain": [
       "<matplotlib.figure.Figure at 0x11a85ee10>"
      ]
     },
     "metadata": {},
     "output_type": "display_data"
    }
   ],
   "source": [
    "ax = sns.boxplot(x=\"relevance_reduced\", y=\"desc_max\", data=search)\n",
    "plt.show()"
   ]
  },
  {
   "cell_type": "code",
   "execution_count": 111,
   "metadata": {},
   "outputs": [
    {
     "data": {
      "image/png": "[encoded data removed]",
      "text/plain": [
       "<matplotlib.figure.Figure at 0x11f4f1438>"
      ]
     },
     "metadata": {},
     "output_type": "display_data"
    }
   ],
   "source": [
    "ax = sns.boxplot(x=\"relevance_reduced\", y=\"title_max\", data=search)\n",
    "plt.show()"
   ]
  },
  {
   "cell_type": "code",
   "execution_count": 112,
   "metadata": {},
   "outputs": [
    {
     "data": {
      "image/png": "[encoded data removed]",
      "text/plain": [
       "<matplotlib.figure.Figure at 0x11a83a630>"
      ]
     },
     "metadata": {},
     "output_type": "display_data"
    }
   ],
   "source": [
    "ax = sns.boxplot(x=\"relevance_reduced\", y=\"att_max\", data=search)\n",
    "plt.show()"
   ]
  },
  {
   "cell_type": "code",
   "execution_count": 69,
   "metadata": {},
   "outputs": [
    {
     "data": {
      "text/plain": [
       "<matplotlib.figure.Figure at 0x11d3ca390>"
      ]
     },
     "metadata": {},
     "output_type": "display_data"
    },
    {
     "data": {
      "image/png": "[encoded data removed]",
      "text/plain": [
       "<matplotlib.figure.Figure at 0x11ef73080>"
      ]
     },
     "metadata": {},
     "output_type": "display_data"
    }
   ],
   "source": [
    "# Create stacked bar charts to compare text fields that contain the entire search phrase for each text field.\n",
    "plt.clf()\n",
    "pd.crosstab(index=search.relevance_reduced, columns=search.title_phrase).plot(kind='bar', stacked=True)\n",
    "plt.show()"
   ]
  },
  {
   "cell_type": "code",
   "execution_count": 70,
   "metadata": {},
   "outputs": [
    {
     "data": {
      "text/plain": [
       "<matplotlib.figure.Figure at 0x11acaf208>"
      ]
     },
     "metadata": {},
     "output_type": "display_data"
    },
    {
     "data": {
      "image/png": "[encoded data removed]",
      "text/plain": [
       "<matplotlib.figure.Figure at 0x11be608d0>"
      ]
     },
     "metadata": {},
     "output_type": "display_data"
    }
   ],
   "source": [
    "plt.clf()\n",
    "pd.crosstab(index=search.relevance_reduced, columns=search.desc_phrase).plot(kind='bar', stacked=True)\n",
    "plt.show()"
   ]
  },
  {
   "cell_type": "code",
   "execution_count": 71,
   "metadata": {},
   "outputs": [
    {
     "data": {
      "text/plain": [
       "<matplotlib.figure.Figure at 0x11d3c9208>"
      ]
     },
     "metadata": {},
     "output_type": "display_data"
    },
    {
     "data": {
      "image/png": "[encoded data removed]",
      "text/plain": [
       "<matplotlib.figure.Figure at 0x11ac5b630>"
      ]
     },
     "metadata": {},
     "output_type": "display_data"
    }
   ],
   "source": [
    "plt.clf()\n",
    "pd.crosstab(index=search.relevance_reduced, columns=search.att_phrase).plot(kind='bar', stacked=True)\n",
    "plt.show()"
   ]
  }
 ],
 "metadata": {
  "kernelspec": {
   "display_name": "Python 3",
   "language": "python",
   "name": "python3"
  },
  "language_info": {
   "codemirror_mode": {
    "name": "ipython",
    "version": 3
   },
   "file_extension": ".py",
   "mimetype": "text/x-python",
   "name": "python",
   "nbconvert_exporter": "python",
   "pygments_lexer": "ipython3",
   "version": "3.6.1"
  }
 },
 "nbformat": 4,
 "nbformat_minor": 2
}
