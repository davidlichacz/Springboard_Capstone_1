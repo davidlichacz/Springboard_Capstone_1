{
 "cells": [
  {
   "cell_type": "code",
   "execution_count": 2,
   "metadata": {
    "collapsed": true
   },
   "outputs": [],
   "source": [
    "import pandas as pd\n",
    "\n",
    "# Import prepared test file\n",
    "search = pd.read_csv('search.csv')"
   ]
  },
  {
   "cell_type": "code",
   "execution_count": 3,
   "metadata": {
    "collapsed": true
   },
   "outputs": [],
   "source": [
    "# Only use numeric fields.\n",
    "search_numeric = search.select_dtypes(['number'])"
   ]
  },
  {
   "cell_type": "code",
   "execution_count": 4,
   "metadata": {
    "collapsed": true
   },
   "outputs": [],
   "source": [
    "# Drop id related columns.\n",
    "search_numeric = search_numeric.drop(['Unnamed: 0', 'id', 'product_uid'], axis=1)"
   ]
  },
  {
   "cell_type": "code",
   "execution_count": 5,
   "metadata": {},
   "outputs": [
    {
     "data": {
      "text/html": [
       "<div>\n",
       "<style>\n",
       "    .dataframe thead tr:only-child th {\n",
       "        text-align: right;\n",
       "    }\n",
       "\n",
       "    .dataframe thead th {\n",
       "        text-align: left;\n",
       "    }\n",
       "\n",
       "    .dataframe tbody tr th {\n",
       "        vertical-align: top;\n",
       "    }\n",
       "</style>\n",
       "<table border=\"1\" class=\"dataframe\">\n",
       "  <thead>\n",
       "    <tr style=\"text-align: right;\">\n",
       "      <th></th>\n",
       "      <th>relevance</th>\n",
       "      <th>desc_pct</th>\n",
       "      <th>title_pct</th>\n",
       "      <th>att_pct</th>\n",
       "      <th>desc_pct_prod</th>\n",
       "      <th>title_pct_prod</th>\n",
       "      <th>att_pct_prod</th>\n",
       "      <th>desc_phrase</th>\n",
       "      <th>title_phrase</th>\n",
       "      <th>att_phrase</th>\n",
       "      <th>search_split</th>\n",
       "      <th>title_split</th>\n",
       "      <th>desc_split</th>\n",
       "    </tr>\n",
       "  </thead>\n",
       "  <tbody>\n",
       "    <tr>\n",
       "      <th>0</th>\n",
       "      <td>3.00</td>\n",
       "      <td>0.500000</td>\n",
       "      <td>0.500000</td>\n",
       "      <td>0.500000</td>\n",
       "      <td>0.007752</td>\n",
       "      <td>0.250000</td>\n",
       "      <td>0.014925</td>\n",
       "      <td>0</td>\n",
       "      <td>0</td>\n",
       "      <td>0</td>\n",
       "      <td>2</td>\n",
       "      <td>4</td>\n",
       "      <td>129</td>\n",
       "    </tr>\n",
       "    <tr>\n",
       "      <th>1</th>\n",
       "      <td>2.50</td>\n",
       "      <td>0.500000</td>\n",
       "      <td>0.500000</td>\n",
       "      <td>0.500000</td>\n",
       "      <td>0.007752</td>\n",
       "      <td>0.250000</td>\n",
       "      <td>0.014925</td>\n",
       "      <td>0</td>\n",
       "      <td>0</td>\n",
       "      <td>0</td>\n",
       "      <td>2</td>\n",
       "      <td>4</td>\n",
       "      <td>129</td>\n",
       "    </tr>\n",
       "    <tr>\n",
       "      <th>2</th>\n",
       "      <td>3.00</td>\n",
       "      <td>0.500000</td>\n",
       "      <td>0.500000</td>\n",
       "      <td>1.000000</td>\n",
       "      <td>0.005988</td>\n",
       "      <td>0.090909</td>\n",
       "      <td>0.013514</td>\n",
       "      <td>0</td>\n",
       "      <td>0</td>\n",
       "      <td>0</td>\n",
       "      <td>2</td>\n",
       "      <td>11</td>\n",
       "      <td>167</td>\n",
       "    </tr>\n",
       "    <tr>\n",
       "      <th>3</th>\n",
       "      <td>2.33</td>\n",
       "      <td>0.333333</td>\n",
       "      <td>0.333333</td>\n",
       "      <td>0.666667</td>\n",
       "      <td>0.009615</td>\n",
       "      <td>0.076923</td>\n",
       "      <td>0.019802</td>\n",
       "      <td>0</td>\n",
       "      <td>0</td>\n",
       "      <td>0</td>\n",
       "      <td>3</td>\n",
       "      <td>13</td>\n",
       "      <td>104</td>\n",
       "    </tr>\n",
       "    <tr>\n",
       "      <th>4</th>\n",
       "      <td>2.67</td>\n",
       "      <td>1.000000</td>\n",
       "      <td>1.000000</td>\n",
       "      <td>1.000000</td>\n",
       "      <td>0.028846</td>\n",
       "      <td>0.230769</td>\n",
       "      <td>0.029703</td>\n",
       "      <td>0</td>\n",
       "      <td>1</td>\n",
       "      <td>0</td>\n",
       "      <td>3</td>\n",
       "      <td>13</td>\n",
       "      <td>104</td>\n",
       "    </tr>\n",
       "  </tbody>\n",
       "</table>\n",
       "</div>"
      ],
      "text/plain": [
       "   relevance  desc_pct  title_pct   att_pct  desc_pct_prod  title_pct_prod  \\\n",
       "0       3.00  0.500000   0.500000  0.500000       0.007752        0.250000   \n",
       "1       2.50  0.500000   0.500000  0.500000       0.007752        0.250000   \n",
       "2       3.00  0.500000   0.500000  1.000000       0.005988        0.090909   \n",
       "3       2.33  0.333333   0.333333  0.666667       0.009615        0.076923   \n",
       "4       2.67  1.000000   1.000000  1.000000       0.028846        0.230769   \n",
       "\n",
       "   att_pct_prod  desc_phrase  title_phrase  att_phrase  search_split  \\\n",
       "0      0.014925            0             0           0             2   \n",
       "1      0.014925            0             0           0             2   \n",
       "2      0.013514            0             0           0             2   \n",
       "3      0.019802            0             0           0             3   \n",
       "4      0.029703            0             1           0             3   \n",
       "\n",
       "   title_split  desc_split  \n",
       "0            4         129  \n",
       "1            4         129  \n",
       "2           11         167  \n",
       "3           13         104  \n",
       "4           13         104  "
      ]
     },
     "execution_count": 5,
     "metadata": {},
     "output_type": "execute_result"
    }
   ],
   "source": [
    "search_numeric.head()"
   ]
  },
  {
   "cell_type": "code",
   "execution_count": 6,
   "metadata": {
    "collapsed": true
   },
   "outputs": [],
   "source": [
    "# Separate dependent and independent variables.\n",
    "X_search = search_numeric.drop(['relevance'], axis=1)\n",
    "y_search = search_numeric['relevance']"
   ]
  },
  {
   "cell_type": "code",
   "execution_count": 7,
   "metadata": {
    "collapsed": true
   },
   "outputs": [],
   "source": [
    "from sklearn.model_selection import train_test_split\n",
    "\n",
    "# Split into train and test sets. k\n",
    "X_train, X_test, y_train, y_test = train_test_split(X_search, y_search, test_size=0.3, random_state=44)"
   ]
  },
  {
   "cell_type": "code",
   "execution_count": 8,
   "metadata": {
    "collapsed": true
   },
   "outputs": [],
   "source": [
    "# Create dictionary that will store results of models.\n",
    "rsme = {}"
   ]
  },
  {
   "cell_type": "code",
   "execution_count": 9,
   "metadata": {
    "collapsed": true
   },
   "outputs": [],
   "source": [
    "from sklearn.linear_model import LinearRegression\n",
    "from sklearn.preprocessing import StandardScaler\n",
    "from sklearn.pipeline import Pipeline\n",
    "from sklearn.model_selection import GridSearchCV\n",
    "from sklearn.metrics import mean_squared_error\n",
    "from math import sqrt\n",
    "\n",
    "# Initiate scaler.\n",
    "scale = StandardScaler()\n",
    "\n",
    "# Initiate regressor.\n",
    "lr = LinearRegression()\n",
    "\n",
    "# Create pipeline.\n",
    "pl = Pipeline(steps=[('scale', scale), ('linreg', lr)])\n",
    "\n",
    "# Create grid of parameters for tuning.\n",
    "parameters_lr = {'linreg__fit_intercept':[True,False], 'linreg__normalize':[True,False], 'linreg__copy_X':[True, False]}\n",
    "\n",
    "# Tune parameters.\n",
    "grid_lr = GridSearchCV(pl, parameters_lr, cv=10)\n",
    "\n",
    "# Fit model to training data.\n",
    "grid_lr.fit(X_train, y_train)\n",
    "\n",
    "# Generate predictions using the test set.\n",
    "preds_lr = grid_lr.predict(X_test)\n",
    "\n",
    "rsme['Linear Regression'] = sqrt(mean_squared_error(y_test, preds_lr))"
   ]
  },
  {
   "cell_type": "code",
   "execution_count": 10,
   "metadata": {
    "collapsed": true
   },
   "outputs": [],
   "source": [
    "# Lasso Regression\n",
    "\n",
    "from sklearn.linear_model import Lasso\n",
    "\n",
    "scale = StandardScaler()\n",
    "lasso = Lasso()\n",
    "\n",
    "pl = Pipeline(steps=[('scale', scale), ('lasso', lasso)])\n",
    "\n",
    "parameters_lasso = {'lasso__alpha': [0.001, 0.01, 0.1], 'lasso__normalize':[True, False]}\n",
    "grid_lasso = GridSearchCV(pl, parameters_lasso, cv=10)\n",
    "\n",
    "grid_lasso.fit(X_train, y_train)\n",
    "\n",
    "preds_lasso = grid_lasso.predict(X_test)\n",
    "\n",
    "rsme['Lasso Regression'] = sqrt(mean_squared_error(y_test, preds_lasso))"
   ]
  },
  {
   "cell_type": "code",
   "execution_count": 11,
   "metadata": {
    "collapsed": true
   },
   "outputs": [],
   "source": [
    "# Ridge Regression\n",
    "\n",
    "from sklearn.linear_model import Ridge\n",
    "\n",
    "scale = StandardScaler()\n",
    "ridge = Ridge()\n",
    "\n",
    "pl = Pipeline(steps=[('scale', scale), ('ridge', ridge)])\n",
    "\n",
    "parameters_ridge = {'ridge__alpha': [0.001, 0.01, 0.1], 'ridge__normalize':[True, False]}\n",
    "grid_ridge = GridSearchCV(pl, parameters_ridge, cv=10)\n",
    "\n",
    "grid_ridge.fit(X_train, y_train)\n",
    "\n",
    "preds_ridge = grid_ridge.predict(X_test)\n",
    "\n",
    "rsme['Ridge Regression'] = sqrt(mean_squared_error(y_test, preds_ridge))"
   ]
  },
  {
   "cell_type": "code",
   "execution_count": 12,
   "metadata": {
    "collapsed": true
   },
   "outputs": [],
   "source": [
    "# Random Forest Regression\n",
    "\n",
    "from sklearn.ensemble import RandomForestRegressor\n",
    "\n",
    "scale = StandardScaler()\n",
    "rf = RandomForestRegressor(random_state=0)\n",
    "\n",
    "pl = Pipeline(steps=[('scale', scale), ('rf', rf)])\n",
    "\n",
    "parameters_rf = {'rf__n_estimators':[10, 15, 20], 'rf__max_depth':[4, 6, 8]}\n",
    "grid_rf = GridSearchCV(pl, parameters_rf, cv=10)\n",
    "\n",
    "grid_rf.fit(X_train, y_train)\n",
    "\n",
    "preds_rf = grid_rf.predict(X_test)\n",
    "\n",
    "rsme['Random Forest Regression'] = sqrt(mean_squared_error(y_test, preds_rf))"
   ]
  },
  {
   "cell_type": "code",
   "execution_count": 13,
   "metadata": {
    "collapsed": true
   },
   "outputs": [],
   "source": [
    "# SVM Regression (Grid Search omitted due to lenghty runtime)\n",
    "from sklearn.svm import SVR\n",
    "\n",
    "scale = StandardScaler()\n",
    "svm = SVR()\n",
    "\n",
    "pl = Pipeline(steps=[('scale', scale), ('svm', svm)])\n",
    "\n",
    "pl.fit(X_train, y_train)\n",
    "\n",
    "preds_svm = pl.predict(X_test)\n",
    "\n",
    "rsme['SVM Regression'] = sqrt(mean_squared_error(y_test, preds_svm))"
   ]
  },
  {
   "cell_type": "code",
   "execution_count": 14,
   "metadata": {},
   "outputs": [
    {
     "data": {
      "text/plain": [
       "{'Lasso Regression': 0.49168357756907066,\n",
       " 'Linear Regression': 0.4916733522802432,\n",
       " 'Random Forest Regression': 0.48237982767047655,\n",
       " 'Ridge Regression': 0.49168492960201243,\n",
       " 'SVM Regression': 0.48984574477012166}"
      ]
     },
     "execution_count": 14,
     "metadata": {},
     "output_type": "execute_result"
    }
   ],
   "source": [
    "rsme"
   ]
  },
  {
   "cell_type": "code",
   "execution_count": 21,
   "metadata": {},
   "outputs": [
    {
     "name": "stdout",
     "output_type": "stream",
     "text": [
      "The model with the lowest RSME value was Random Forest Regression.\n",
      "RSME: 0.482\n"
     ]
    }
   ],
   "source": [
    "import operator\n",
    "\n",
    "# Find model with the lowest rsme value.\n",
    "best_model = min(rsme.items(), key=operator.itemgetter(1))[0]\n",
    "\n",
    "print(f'The model with the lowest RSME value was {best_model}.')\n",
    "print(f'RSME: {rsme[best_model]:.3f}')"
   ]
  },
  {
   "cell_type": "code",
   "execution_count": 20,
   "metadata": {},
   "outputs": [
    {
     "data": {
      "text/plain": [
       "0.48291548566140874"
      ]
     },
     "execution_count": 20,
     "metadata": {},
     "output_type": "execute_result"
    }
   ],
   "source": [
    "# Try to improve model through bagging.\n",
    "from sklearn.ensemble import BaggingRegressor\n",
    "\n",
    "bag = BaggingRegressor(grid_rf, n_estimators=50, max_samples=0.1)\n",
    "\n",
    "bag.fit(X_train, y_train)\n",
    "\n",
    "preds = bag.predict(X_test)\n",
    "\n",
    "sqrt(mean_squared_error(y_test, preds))"
   ]
  },
  {
   "cell_type": "markdown",
   "metadata": {},
   "source": [
    "The Bagging Regressor did not improve the results."
   ]
  },
  {
   "cell_type": "code",
   "execution_count": 26,
   "metadata": {
    "collapsed": true
   },
   "outputs": [],
   "source": [
    "# Import full test set.\n",
    "test = pd.read_csv('search_test.csv')"
   ]
  },
  {
   "cell_type": "code",
   "execution_count": 28,
   "metadata": {},
   "outputs": [],
   "source": [
    "# Perform same cleaning steps as above.\n",
    "test_numeric = test.select_dtypes(['number'])\n",
    "test_numeric = test_numeric.drop(['Unnamed: 0', 'id', 'product_uid'], axis=1)"
   ]
  },
  {
   "cell_type": "code",
   "execution_count": 31,
   "metadata": {
    "collapsed": true
   },
   "outputs": [],
   "source": [
    "# Fit chosen model to provided test set.\n",
    "scale = StandardScaler()\n",
    "rf = RandomForestRegressor(random_state=0)\n",
    "\n",
    "pl = Pipeline(steps=[('scale', scale), ('rf', rf)])\n",
    "\n",
    "parameters_rf = {'rf__n_estimators':[10, 15, 20], 'rf__max_depth':[4, 6, 8]}\n",
    "grid_rf = GridSearchCV(pl, parameters_rf, cv=10)\n",
    "\n",
    "grid_rf.fit(X_search, y_search)\n",
    "\n",
    "preds_rf = grid_rf.predict(test_numeric)"
   ]
  },
  {
   "cell_type": "code",
   "execution_count": 33,
   "metadata": {
    "collapsed": true
   },
   "outputs": [],
   "source": [
    "# Prepare submission file for Kaggle.\n",
    "submit = pd.DataFrame({'id':test['id'], 'relevance':preds_rf})\n",
    "submit = submit_rf.drop_duplicates(['id'])\n",
    "submit.to_csv(r'submission.csv', index=False)"
   ]
  },
  {
   "cell_type": "markdown",
   "metadata": {},
   "source": [
    "The Kaggle submission gives a score of .48724.  This is consistent with the results above and the model translates well to unseen data."
   ]
  }
 ],
 "metadata": {
  "kernelspec": {
   "display_name": "Python 3",
   "language": "python",
   "name": "python3"
  },
  "language_info": {
   "codemirror_mode": {
    "name": "ipython",
    "version": 3
   },
   "file_extension": ".py",
   "mimetype": "text/x-python",
   "name": "python",
   "nbconvert_exporter": "python",
   "pygments_lexer": "ipython3",
   "version": "3.6.1"
  }
 },
 "nbformat": 4,
 "nbformat_minor": 2
}
