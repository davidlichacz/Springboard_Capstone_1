{
 "cells": [
  {
   "cell_type": "code",
   "execution_count": 404,
   "metadata": {
    "collapsed": true
   },
   "outputs": [],
   "source": [
    "import pandas as pd\n",
    "import numpy as np"
   ]
  },
  {
   "cell_type": "code",
   "execution_count": 405,
   "metadata": {
    "collapsed": true
   },
   "outputs": [],
   "source": [
    "# Import attributes file.\n",
    "attributes = pd.read_csv('/Users/davidlichacz/home-depot/attributes.csv')"
   ]
  },
  {
   "cell_type": "code",
   "execution_count": 406,
   "metadata": {},
   "outputs": [
    {
     "data": {
      "text/plain": [
       "(2044803, 3)"
      ]
     },
     "execution_count": 406,
     "metadata": {},
     "output_type": "execute_result"
    }
   ],
   "source": [
    "# Explore attributes dataframe.\n",
    "attributes.shape"
   ]
  },
  {
   "cell_type": "code",
   "execution_count": 407,
   "metadata": {},
   "outputs": [
    {
     "name": "stdout",
     "output_type": "stream",
     "text": [
      "<class 'pandas.core.frame.DataFrame'>\n",
      "RangeIndex: 2044803 entries, 0 to 2044802\n",
      "Data columns (total 3 columns):\n",
      "product_uid    2044648 non-null float64\n",
      "name           2044648 non-null object\n",
      "value          2042713 non-null object\n",
      "dtypes: float64(1), object(2)\n",
      "memory usage: 46.8+ MB\n"
     ]
    }
   ],
   "source": [
    "attributes.info(null_counts=True)"
   ]
  },
  {
   "cell_type": "markdown",
   "metadata": {},
   "source": [
    "Question: Why did I need to include the null_counts argument to get the null information?  It was not needed for the dataframes below."
   ]
  },
  {
   "cell_type": "code",
   "execution_count": 408,
   "metadata": {},
   "outputs": [
    {
     "data": {
      "text/html": [
       "<div>\n",
       "<style>\n",
       "    .dataframe thead tr:only-child th {\n",
       "        text-align: right;\n",
       "    }\n",
       "\n",
       "    .dataframe thead th {\n",
       "        text-align: left;\n",
       "    }\n",
       "\n",
       "    .dataframe tbody tr th {\n",
       "        vertical-align: top;\n",
       "    }\n",
       "</style>\n",
       "<table border=\"1\" class=\"dataframe\">\n",
       "  <thead>\n",
       "    <tr style=\"text-align: right;\">\n",
       "      <th></th>\n",
       "      <th>product_uid</th>\n",
       "      <th>name</th>\n",
       "      <th>value</th>\n",
       "    </tr>\n",
       "  </thead>\n",
       "  <tbody>\n",
       "    <tr>\n",
       "      <th>0</th>\n",
       "      <td>100001.0</td>\n",
       "      <td>Bullet01</td>\n",
       "      <td>Versatile connector for various 90° connection...</td>\n",
       "    </tr>\n",
       "    <tr>\n",
       "      <th>1</th>\n",
       "      <td>100001.0</td>\n",
       "      <td>Bullet02</td>\n",
       "      <td>Stronger than angled nailing or screw fastenin...</td>\n",
       "    </tr>\n",
       "    <tr>\n",
       "      <th>2</th>\n",
       "      <td>100001.0</td>\n",
       "      <td>Bullet03</td>\n",
       "      <td>Help ensure joints are consistently straight a...</td>\n",
       "    </tr>\n",
       "    <tr>\n",
       "      <th>3</th>\n",
       "      <td>100001.0</td>\n",
       "      <td>Bullet04</td>\n",
       "      <td>Dimensions: 3 in. x 3 in. x 1-1/2 in.</td>\n",
       "    </tr>\n",
       "    <tr>\n",
       "      <th>4</th>\n",
       "      <td>100001.0</td>\n",
       "      <td>Bullet05</td>\n",
       "      <td>Made from 12-Gauge steel</td>\n",
       "    </tr>\n",
       "  </tbody>\n",
       "</table>\n",
       "</div>"
      ],
      "text/plain": [
       "   product_uid      name                                              value\n",
       "0     100001.0  Bullet01  Versatile connector for various 90° connection...\n",
       "1     100001.0  Bullet02  Stronger than angled nailing or screw fastenin...\n",
       "2     100001.0  Bullet03  Help ensure joints are consistently straight a...\n",
       "3     100001.0  Bullet04              Dimensions: 3 in. x 3 in. x 1-1/2 in.\n",
       "4     100001.0  Bullet05                           Made from 12-Gauge steel"
      ]
     },
     "execution_count": 408,
     "metadata": {},
     "output_type": "execute_result"
    }
   ],
   "source": [
    "attributes.head()"
   ]
  },
  {
   "cell_type": "code",
   "execution_count": 409,
   "metadata": {},
   "outputs": [
    {
     "data": {
      "text/html": [
       "<div>\n",
       "<style>\n",
       "    .dataframe thead tr:only-child th {\n",
       "        text-align: right;\n",
       "    }\n",
       "\n",
       "    .dataframe thead th {\n",
       "        text-align: left;\n",
       "    }\n",
       "\n",
       "    .dataframe tbody tr th {\n",
       "        vertical-align: top;\n",
       "    }\n",
       "</style>\n",
       "<table border=\"1\" class=\"dataframe\">\n",
       "  <thead>\n",
       "    <tr style=\"text-align: right;\">\n",
       "      <th></th>\n",
       "      <th>product_uid</th>\n",
       "      <th>name</th>\n",
       "      <th>value</th>\n",
       "    </tr>\n",
       "  </thead>\n",
       "  <tbody>\n",
       "    <tr>\n",
       "      <th>2044798</th>\n",
       "      <td>224428.0</td>\n",
       "      <td>Pilot Bit Included</td>\n",
       "      <td>No</td>\n",
       "    </tr>\n",
       "    <tr>\n",
       "      <th>2044799</th>\n",
       "      <td>224428.0</td>\n",
       "      <td>Power Tool Product Type</td>\n",
       "      <td>Drill &amp; Router Bits</td>\n",
       "    </tr>\n",
       "    <tr>\n",
       "      <th>2044800</th>\n",
       "      <td>224428.0</td>\n",
       "      <td>Shank Diameter</td>\n",
       "      <td>3/8 in</td>\n",
       "    </tr>\n",
       "    <tr>\n",
       "      <th>2044801</th>\n",
       "      <td>224428.0</td>\n",
       "      <td>Shank Style</td>\n",
       "      <td>Hex</td>\n",
       "    </tr>\n",
       "    <tr>\n",
       "      <th>2044802</th>\n",
       "      <td>224428.0</td>\n",
       "      <td>Tools Product Type</td>\n",
       "      <td>Power Tool</td>\n",
       "    </tr>\n",
       "  </tbody>\n",
       "</table>\n",
       "</div>"
      ],
      "text/plain": [
       "         product_uid                     name                value\n",
       "2044798     224428.0       Pilot Bit Included                   No\n",
       "2044799     224428.0  Power Tool Product Type  Drill & Router Bits\n",
       "2044800     224428.0           Shank Diameter               3/8 in\n",
       "2044801     224428.0              Shank Style                  Hex\n",
       "2044802     224428.0       Tools Product Type           Power Tool"
      ]
     },
     "execution_count": 409,
     "metadata": {},
     "output_type": "execute_result"
    }
   ],
   "source": [
    "attributes.tail()"
   ]
  },
  {
   "cell_type": "code",
   "execution_count": 410,
   "metadata": {},
   "outputs": [
    {
     "name": "stdout",
     "output_type": "stream",
     "text": [
      "<class 'pandas.core.frame.DataFrame'>\n",
      "Int64Index: 2044648 entries, 0 to 2044802\n",
      "Data columns (total 3 columns):\n",
      "product_uid    2044648 non-null float64\n",
      "name           2044648 non-null object\n",
      "value          2042713 non-null object\n",
      "dtypes: float64(1), object(2)\n",
      "memory usage: 62.4+ MB\n"
     ]
    }
   ],
   "source": [
    "# There are 155 missing values in the product_uid & name columns and 2090 missing values in the value columns.\n",
    "# Removing rows that are all null eliminates all the missing values for product_uid & name.\n",
    "\n",
    "attributes = attributes.dropna(how='all')\n",
    "attributes.info(null_counts=True)"
   ]
  },
  {
   "cell_type": "code",
   "execution_count": 411,
   "metadata": {},
   "outputs": [
    {
     "data": {
      "text/html": [
       "<div>\n",
       "<style>\n",
       "    .dataframe thead tr:only-child th {\n",
       "        text-align: right;\n",
       "    }\n",
       "\n",
       "    .dataframe thead th {\n",
       "        text-align: left;\n",
       "    }\n",
       "\n",
       "    .dataframe tbody tr th {\n",
       "        vertical-align: top;\n",
       "    }\n",
       "</style>\n",
       "<table border=\"1\" class=\"dataframe\">\n",
       "  <thead>\n",
       "    <tr style=\"text-align: right;\">\n",
       "      <th></th>\n",
       "      <th>product_uid</th>\n",
       "      <th>name</th>\n",
       "      <th>value</th>\n",
       "    </tr>\n",
       "  </thead>\n",
       "  <tbody>\n",
       "    <tr>\n",
       "      <th>1022</th>\n",
       "      <td>100044.0</td>\n",
       "      <td>Collection Name</td>\n",
       "      <td>NaN</td>\n",
       "    </tr>\n",
       "    <tr>\n",
       "      <th>1349</th>\n",
       "      <td>100058.0</td>\n",
       "      <td>Battery Size</td>\n",
       "      <td>NaN</td>\n",
       "    </tr>\n",
       "    <tr>\n",
       "      <th>5909</th>\n",
       "      <td>100248.0</td>\n",
       "      <td>Fastener Thread Type</td>\n",
       "      <td>NaN</td>\n",
       "    </tr>\n",
       "    <tr>\n",
       "      <th>6367</th>\n",
       "      <td>100266.0</td>\n",
       "      <td>Drive Style</td>\n",
       "      <td>NaN</td>\n",
       "    </tr>\n",
       "    <tr>\n",
       "      <th>8823</th>\n",
       "      <td>100372.0</td>\n",
       "      <td>Collection Name</td>\n",
       "      <td>NaN</td>\n",
       "    </tr>\n",
       "    <tr>\n",
       "      <th>9131</th>\n",
       "      <td>100386.0</td>\n",
       "      <td>Battery Type Required</td>\n",
       "      <td>NaN</td>\n",
       "    </tr>\n",
       "    <tr>\n",
       "      <th>9589</th>\n",
       "      <td>100403.0</td>\n",
       "      <td>Exact Dry SCOF Rating</td>\n",
       "      <td>NaN</td>\n",
       "    </tr>\n",
       "    <tr>\n",
       "      <th>9590</th>\n",
       "      <td>100403.0</td>\n",
       "      <td>Exact Wet SCOF Rating</td>\n",
       "      <td>NaN</td>\n",
       "    </tr>\n",
       "    <tr>\n",
       "      <th>9595</th>\n",
       "      <td>100403.0</td>\n",
       "      <td>Mosaic Sub Unit Length (in.)</td>\n",
       "      <td>NaN</td>\n",
       "    </tr>\n",
       "    <tr>\n",
       "      <th>9596</th>\n",
       "      <td>100403.0</td>\n",
       "      <td>Mosaic Sub Unit Width (in.)</td>\n",
       "      <td>NaN</td>\n",
       "    </tr>\n",
       "    <tr>\n",
       "      <th>9617</th>\n",
       "      <td>100404.0</td>\n",
       "      <td>Conductor Material</td>\n",
       "      <td>NaN</td>\n",
       "    </tr>\n",
       "    <tr>\n",
       "      <th>10103</th>\n",
       "      <td>100421.0</td>\n",
       "      <td>Security/ANSI Grade</td>\n",
       "      <td>NaN</td>\n",
       "    </tr>\n",
       "    <tr>\n",
       "      <th>10369</th>\n",
       "      <td>100432.0</td>\n",
       "      <td>Min Chuck Size Required</td>\n",
       "      <td>NaN</td>\n",
       "    </tr>\n",
       "    <tr>\n",
       "      <th>13268</th>\n",
       "      <td>100544.0</td>\n",
       "      <td>Color/Finish</td>\n",
       "      <td>NaN</td>\n",
       "    </tr>\n",
       "    <tr>\n",
       "      <th>14420</th>\n",
       "      <td>100592.0</td>\n",
       "      <td>Free Pick-up/Delivery Service</td>\n",
       "      <td>NaN</td>\n",
       "    </tr>\n",
       "    <tr>\n",
       "      <th>15266</th>\n",
       "      <td>100623.0</td>\n",
       "      <td>Color/Pattern</td>\n",
       "      <td>NaN</td>\n",
       "    </tr>\n",
       "    <tr>\n",
       "      <th>15773</th>\n",
       "      <td>100641.0</td>\n",
       "      <td>Security/ANSI Grade</td>\n",
       "      <td>NaN</td>\n",
       "    </tr>\n",
       "    <tr>\n",
       "      <th>22959</th>\n",
       "      <td>100925.0</td>\n",
       "      <td>Security/ANSI Grade</td>\n",
       "      <td>NaN</td>\n",
       "    </tr>\n",
       "    <tr>\n",
       "      <th>23110</th>\n",
       "      <td>100932.0</td>\n",
       "      <td>Exact Dry SCOF Rating</td>\n",
       "      <td>NaN</td>\n",
       "    </tr>\n",
       "    <tr>\n",
       "      <th>23111</th>\n",
       "      <td>100932.0</td>\n",
       "      <td>Exact Wet SCOF Rating</td>\n",
       "      <td>NaN</td>\n",
       "    </tr>\n",
       "  </tbody>\n",
       "</table>\n",
       "</div>"
      ],
      "text/plain": [
       "       product_uid                           name value\n",
       "1022      100044.0                Collection Name   NaN\n",
       "1349      100058.0                   Battery Size   NaN\n",
       "5909      100248.0           Fastener Thread Type   NaN\n",
       "6367      100266.0                    Drive Style   NaN\n",
       "8823      100372.0                Collection Name   NaN\n",
       "9131      100386.0          Battery Type Required   NaN\n",
       "9589      100403.0          Exact Dry SCOF Rating   NaN\n",
       "9590      100403.0          Exact Wet SCOF Rating   NaN\n",
       "9595      100403.0   Mosaic Sub Unit Length (in.)   NaN\n",
       "9596      100403.0    Mosaic Sub Unit Width (in.)   NaN\n",
       "9617      100404.0             Conductor Material   NaN\n",
       "10103     100421.0            Security/ANSI Grade   NaN\n",
       "10369     100432.0        Min Chuck Size Required   NaN\n",
       "13268     100544.0                   Color/Finish   NaN\n",
       "14420     100592.0  Free Pick-up/Delivery Service   NaN\n",
       "15266     100623.0                  Color/Pattern   NaN\n",
       "15773     100641.0            Security/ANSI Grade   NaN\n",
       "22959     100925.0            Security/ANSI Grade   NaN\n",
       "23110     100932.0          Exact Dry SCOF Rating   NaN\n",
       "23111     100932.0          Exact Wet SCOF Rating   NaN"
      ]
     },
     "execution_count": 411,
     "metadata": {},
     "output_type": "execute_result"
    }
   ],
   "source": [
    "# Looking at the missing values for the value column, it seems like the lack of information may be information in itself.\n",
    "# for example, no battery size might mean no battery is required.\n",
    "attributes[attributes['value'].isnull()].head(20)"
   ]
  },
  {
   "cell_type": "code",
   "execution_count": 412,
   "metadata": {
    "collapsed": true
   },
   "outputs": [],
   "source": [
    "# Replace NaN values with \"None\" for now.\n",
    "attributes['value'] = attributes['value'].fillna('None')"
   ]
  },
  {
   "cell_type": "code",
   "execution_count": 413,
   "metadata": {},
   "outputs": [
    {
     "data": {
      "text/plain": [
       "True"
      ]
     },
     "execution_count": 413,
     "metadata": {},
     "output_type": "execute_result"
    }
   ],
   "source": [
    "# The product_uid column is read in as a float, but should really be a string.  The format for the id\n",
    "# appears to be six numerical digits.  Check to see if this is true.\n",
    "import re\n",
    "\n",
    "pattern = re.compile('[0-9]{6}\\.0$')\n",
    "id_check = attributes['product_uid'].astype(str).apply(pattern.match)\n",
    "id_check.astype(bool).all()"
   ]
  },
  {
   "cell_type": "code",
   "execution_count": 414,
   "metadata": {
    "collapsed": true
   },
   "outputs": [],
   "source": [
    "# Since all elements of the product_uid column are of the format 6 digits followed by a decimal point and a zero,\n",
    "# we can convert to a string and trim the last two characters.\n",
    "attributes['product_uid'] = attributes['product_uid'].astype(str).str[:-2]"
   ]
  },
  {
   "cell_type": "code",
   "execution_count": 415,
   "metadata": {},
   "outputs": [
    {
     "name": "stdout",
     "output_type": "stream",
     "text": [
      "<class 'pandas.core.frame.DataFrame'>\n",
      "Int64Index: 2044648 entries, 0 to 2044802\n",
      "Data columns (total 3 columns):\n",
      "product_uid    2044648 non-null object\n",
      "name           2044648 non-null object\n",
      "value          2044648 non-null object\n",
      "dtypes: object(3)\n",
      "memory usage: 62.4+ MB\n"
     ]
    }
   ],
   "source": [
    "attributes.info(null_counts=True)"
   ]
  },
  {
   "cell_type": "code",
   "execution_count": 416,
   "metadata": {},
   "outputs": [
    {
     "data": {
      "text/html": [
       "<div>\n",
       "<style>\n",
       "    .dataframe thead tr:only-child th {\n",
       "        text-align: right;\n",
       "    }\n",
       "\n",
       "    .dataframe thead th {\n",
       "        text-align: left;\n",
       "    }\n",
       "\n",
       "    .dataframe tbody tr th {\n",
       "        vertical-align: top;\n",
       "    }\n",
       "</style>\n",
       "<table border=\"1\" class=\"dataframe\">\n",
       "  <thead>\n",
       "    <tr style=\"text-align: right;\">\n",
       "      <th></th>\n",
       "      <th>product_uid</th>\n",
       "      <th>name</th>\n",
       "      <th>value</th>\n",
       "    </tr>\n",
       "  </thead>\n",
       "  <tbody>\n",
       "    <tr>\n",
       "      <th>0</th>\n",
       "      <td>100001</td>\n",
       "      <td>Bullet01</td>\n",
       "      <td>Versatile connector for various 90° connection...</td>\n",
       "    </tr>\n",
       "    <tr>\n",
       "      <th>1</th>\n",
       "      <td>100001</td>\n",
       "      <td>Bullet02</td>\n",
       "      <td>Stronger than angled nailing or screw fastenin...</td>\n",
       "    </tr>\n",
       "    <tr>\n",
       "      <th>2</th>\n",
       "      <td>100001</td>\n",
       "      <td>Bullet03</td>\n",
       "      <td>Help ensure joints are consistently straight a...</td>\n",
       "    </tr>\n",
       "    <tr>\n",
       "      <th>3</th>\n",
       "      <td>100001</td>\n",
       "      <td>Bullet04</td>\n",
       "      <td>Dimensions: 3 in. x 3 in. x 1-1/2 in.</td>\n",
       "    </tr>\n",
       "    <tr>\n",
       "      <th>4</th>\n",
       "      <td>100001</td>\n",
       "      <td>Bullet05</td>\n",
       "      <td>Made from 12-Gauge steel</td>\n",
       "    </tr>\n",
       "  </tbody>\n",
       "</table>\n",
       "</div>"
      ],
      "text/plain": [
       "  product_uid      name                                              value\n",
       "0      100001  Bullet01  Versatile connector for various 90° connection...\n",
       "1      100001  Bullet02  Stronger than angled nailing or screw fastenin...\n",
       "2      100001  Bullet03  Help ensure joints are consistently straight a...\n",
       "3      100001  Bullet04              Dimensions: 3 in. x 3 in. x 1-1/2 in.\n",
       "4      100001  Bullet05                           Made from 12-Gauge steel"
      ]
     },
     "execution_count": 416,
     "metadata": {},
     "output_type": "execute_result"
    }
   ],
   "source": [
    "attributes.head()"
   ]
  },
  {
   "cell_type": "code",
   "execution_count": 417,
   "metadata": {
    "collapsed": true
   },
   "outputs": [],
   "source": [
    "# Import descriptions file.\n",
    "descriptions = pd.read_csv('/Users/davidlichacz/home-depot/product_descriptions.csv')"
   ]
  },
  {
   "cell_type": "code",
   "execution_count": 418,
   "metadata": {},
   "outputs": [
    {
     "data": {
      "text/plain": [
       "(124428, 2)"
      ]
     },
     "execution_count": 418,
     "metadata": {},
     "output_type": "execute_result"
    }
   ],
   "source": [
    "# Explore descriptions dataframe.\n",
    "descriptions.shape"
   ]
  },
  {
   "cell_type": "code",
   "execution_count": 419,
   "metadata": {},
   "outputs": [
    {
     "name": "stdout",
     "output_type": "stream",
     "text": [
      "<class 'pandas.core.frame.DataFrame'>\n",
      "RangeIndex: 124428 entries, 0 to 124427\n",
      "Data columns (total 2 columns):\n",
      "product_uid            124428 non-null int64\n",
      "product_description    124428 non-null object\n",
      "dtypes: int64(1), object(1)\n",
      "memory usage: 1.9+ MB\n"
     ]
    }
   ],
   "source": [
    "descriptions.info()"
   ]
  },
  {
   "cell_type": "code",
   "execution_count": 420,
   "metadata": {},
   "outputs": [
    {
     "data": {
      "text/html": [
       "<div>\n",
       "<style>\n",
       "    .dataframe thead tr:only-child th {\n",
       "        text-align: right;\n",
       "    }\n",
       "\n",
       "    .dataframe thead th {\n",
       "        text-align: left;\n",
       "    }\n",
       "\n",
       "    .dataframe tbody tr th {\n",
       "        vertical-align: top;\n",
       "    }\n",
       "</style>\n",
       "<table border=\"1\" class=\"dataframe\">\n",
       "  <thead>\n",
       "    <tr style=\"text-align: right;\">\n",
       "      <th></th>\n",
       "      <th>product_uid</th>\n",
       "      <th>product_description</th>\n",
       "    </tr>\n",
       "  </thead>\n",
       "  <tbody>\n",
       "    <tr>\n",
       "      <th>0</th>\n",
       "      <td>100001</td>\n",
       "      <td>Not only do angles make joints stronger, they ...</td>\n",
       "    </tr>\n",
       "    <tr>\n",
       "      <th>1</th>\n",
       "      <td>100002</td>\n",
       "      <td>BEHR Premium Textured DECKOVER is an innovativ...</td>\n",
       "    </tr>\n",
       "    <tr>\n",
       "      <th>2</th>\n",
       "      <td>100003</td>\n",
       "      <td>Classic architecture meets contemporary design...</td>\n",
       "    </tr>\n",
       "    <tr>\n",
       "      <th>3</th>\n",
       "      <td>100004</td>\n",
       "      <td>The Grape Solar 265-Watt Polycrystalline PV So...</td>\n",
       "    </tr>\n",
       "    <tr>\n",
       "      <th>4</th>\n",
       "      <td>100005</td>\n",
       "      <td>Update your bathroom with the Delta Vero Singl...</td>\n",
       "    </tr>\n",
       "  </tbody>\n",
       "</table>\n",
       "</div>"
      ],
      "text/plain": [
       "   product_uid                                product_description\n",
       "0       100001  Not only do angles make joints stronger, they ...\n",
       "1       100002  BEHR Premium Textured DECKOVER is an innovativ...\n",
       "2       100003  Classic architecture meets contemporary design...\n",
       "3       100004  The Grape Solar 265-Watt Polycrystalline PV So...\n",
       "4       100005  Update your bathroom with the Delta Vero Singl..."
      ]
     },
     "execution_count": 420,
     "metadata": {},
     "output_type": "execute_result"
    }
   ],
   "source": [
    "descriptions.head()"
   ]
  },
  {
   "cell_type": "code",
   "execution_count": 421,
   "metadata": {},
   "outputs": [
    {
     "data": {
      "text/plain": [
       "True"
      ]
     },
     "execution_count": 421,
     "metadata": {},
     "output_type": "execute_result"
    }
   ],
   "source": [
    "# There are no null values in this dataframe.  This time the product_uid column imported as an integer so \n",
    "# we will perform a similar conversion as above.\n",
    "pattern = re.compile('[0-9]{6}$')\n",
    "id_check = descriptions['product_uid'].astype(str).apply(pattern.match)\n",
    "id_check.astype(bool).all()"
   ]
  },
  {
   "cell_type": "code",
   "execution_count": 422,
   "metadata": {
    "collapsed": true
   },
   "outputs": [],
   "source": [
    "# All product_uid values are 6 digits, so convert to string.\n",
    "descriptions['product_uid'] = descriptions['product_uid'].astype(str)"
   ]
  },
  {
   "cell_type": "code",
   "execution_count": 423,
   "metadata": {},
   "outputs": [
    {
     "name": "stdout",
     "output_type": "stream",
     "text": [
      "<class 'pandas.core.frame.DataFrame'>\n",
      "RangeIndex: 124428 entries, 0 to 124427\n",
      "Data columns (total 2 columns):\n",
      "product_uid            124428 non-null object\n",
      "product_description    124428 non-null object\n",
      "dtypes: object(2)\n",
      "memory usage: 1.9+ MB\n"
     ]
    }
   ],
   "source": [
    "descriptions.info()"
   ]
  },
  {
   "cell_type": "code",
   "execution_count": 424,
   "metadata": {
    "collapsed": true
   },
   "outputs": [],
   "source": [
    "# Import train file.\n",
    "train = pd.read_csv('/Users/davidlichacz/home-depot/train.csv', encoding='latin-1')"
   ]
  },
  {
   "cell_type": "code",
   "execution_count": 425,
   "metadata": {},
   "outputs": [
    {
     "data": {
      "text/plain": [
       "(74067, 5)"
      ]
     },
     "execution_count": 425,
     "metadata": {},
     "output_type": "execute_result"
    }
   ],
   "source": [
    "# Explore train file.\n",
    "train.shape"
   ]
  },
  {
   "cell_type": "code",
   "execution_count": 426,
   "metadata": {},
   "outputs": [
    {
     "name": "stdout",
     "output_type": "stream",
     "text": [
      "<class 'pandas.core.frame.DataFrame'>\n",
      "RangeIndex: 74067 entries, 0 to 74066\n",
      "Data columns (total 5 columns):\n",
      "id               74067 non-null int64\n",
      "product_uid      74067 non-null int64\n",
      "product_title    74067 non-null object\n",
      "search_term      74067 non-null object\n",
      "relevance        74067 non-null float64\n",
      "dtypes: float64(1), int64(2), object(2)\n",
      "memory usage: 2.8+ MB\n"
     ]
    }
   ],
   "source": [
    "train.info()"
   ]
  },
  {
   "cell_type": "code",
   "execution_count": 427,
   "metadata": {},
   "outputs": [
    {
     "data": {
      "text/html": [
       "<div>\n",
       "<style>\n",
       "    .dataframe thead tr:only-child th {\n",
       "        text-align: right;\n",
       "    }\n",
       "\n",
       "    .dataframe thead th {\n",
       "        text-align: left;\n",
       "    }\n",
       "\n",
       "    .dataframe tbody tr th {\n",
       "        vertical-align: top;\n",
       "    }\n",
       "</style>\n",
       "<table border=\"1\" class=\"dataframe\">\n",
       "  <thead>\n",
       "    <tr style=\"text-align: right;\">\n",
       "      <th></th>\n",
       "      <th>id</th>\n",
       "      <th>product_uid</th>\n",
       "      <th>product_title</th>\n",
       "      <th>search_term</th>\n",
       "      <th>relevance</th>\n",
       "    </tr>\n",
       "  </thead>\n",
       "  <tbody>\n",
       "    <tr>\n",
       "      <th>0</th>\n",
       "      <td>2</td>\n",
       "      <td>100001</td>\n",
       "      <td>Simpson Strong-Tie 12-Gauge Angle</td>\n",
       "      <td>angle bracket</td>\n",
       "      <td>3.00</td>\n",
       "    </tr>\n",
       "    <tr>\n",
       "      <th>1</th>\n",
       "      <td>3</td>\n",
       "      <td>100001</td>\n",
       "      <td>Simpson Strong-Tie 12-Gauge Angle</td>\n",
       "      <td>l bracket</td>\n",
       "      <td>2.50</td>\n",
       "    </tr>\n",
       "    <tr>\n",
       "      <th>2</th>\n",
       "      <td>9</td>\n",
       "      <td>100002</td>\n",
       "      <td>BEHR Premium Textured DeckOver 1-gal. #SC-141 ...</td>\n",
       "      <td>deck over</td>\n",
       "      <td>3.00</td>\n",
       "    </tr>\n",
       "    <tr>\n",
       "      <th>3</th>\n",
       "      <td>16</td>\n",
       "      <td>100005</td>\n",
       "      <td>Delta Vero 1-Handle Shower Only Faucet Trim Ki...</td>\n",
       "      <td>rain shower head</td>\n",
       "      <td>2.33</td>\n",
       "    </tr>\n",
       "    <tr>\n",
       "      <th>4</th>\n",
       "      <td>17</td>\n",
       "      <td>100005</td>\n",
       "      <td>Delta Vero 1-Handle Shower Only Faucet Trim Ki...</td>\n",
       "      <td>shower only faucet</td>\n",
       "      <td>2.67</td>\n",
       "    </tr>\n",
       "  </tbody>\n",
       "</table>\n",
       "</div>"
      ],
      "text/plain": [
       "   id  product_uid                                      product_title  \\\n",
       "0   2       100001                  Simpson Strong-Tie 12-Gauge Angle   \n",
       "1   3       100001                  Simpson Strong-Tie 12-Gauge Angle   \n",
       "2   9       100002  BEHR Premium Textured DeckOver 1-gal. #SC-141 ...   \n",
       "3  16       100005  Delta Vero 1-Handle Shower Only Faucet Trim Ki...   \n",
       "4  17       100005  Delta Vero 1-Handle Shower Only Faucet Trim Ki...   \n",
       "\n",
       "          search_term  relevance  \n",
       "0       angle bracket       3.00  \n",
       "1           l bracket       2.50  \n",
       "2           deck over       3.00  \n",
       "3    rain shower head       2.33  \n",
       "4  shower only faucet       2.67  "
      ]
     },
     "execution_count": 427,
     "metadata": {},
     "output_type": "execute_result"
    }
   ],
   "source": [
    "train.head()"
   ]
  },
  {
   "cell_type": "code",
   "execution_count": 428,
   "metadata": {},
   "outputs": [
    {
     "data": {
      "text/plain": [
       "True"
      ]
     },
     "execution_count": 428,
     "metadata": {},
     "output_type": "execute_result"
    }
   ],
   "source": [
    "# There are no missing values in the train dataframe.  Like before the product_uid column needs to be \n",
    "# converted to a string.\n",
    "pattern = re.compile('[0-9]{6}$')\n",
    "id_check = train['product_uid'].astype(str).apply(pattern.match)\n",
    "id_check.astype(bool).all()"
   ]
  },
  {
   "cell_type": "code",
   "execution_count": 429,
   "metadata": {
    "collapsed": true
   },
   "outputs": [],
   "source": [
    "train['product_uid'] = train['product_uid'].astype(str)"
   ]
  },
  {
   "cell_type": "code",
   "execution_count": 430,
   "metadata": {},
   "outputs": [
    {
     "data": {
      "text/html": [
       "<div>\n",
       "<style>\n",
       "    .dataframe thead tr:only-child th {\n",
       "        text-align: right;\n",
       "    }\n",
       "\n",
       "    .dataframe thead th {\n",
       "        text-align: left;\n",
       "    }\n",
       "\n",
       "    .dataframe tbody tr th {\n",
       "        vertical-align: top;\n",
       "    }\n",
       "</style>\n",
       "<table border=\"1\" class=\"dataframe\">\n",
       "  <thead>\n",
       "    <tr style=\"text-align: right;\">\n",
       "      <th></th>\n",
       "      <th>id</th>\n",
       "      <th>product_uid</th>\n",
       "      <th>product_title</th>\n",
       "      <th>search_term</th>\n",
       "      <th>relevance</th>\n",
       "    </tr>\n",
       "  </thead>\n",
       "  <tbody>\n",
       "    <tr>\n",
       "      <th>0</th>\n",
       "      <td>2</td>\n",
       "      <td>100001</td>\n",
       "      <td>Simpson Strong-Tie 12-Gauge Angle</td>\n",
       "      <td>angle bracket</td>\n",
       "      <td>3.00</td>\n",
       "    </tr>\n",
       "    <tr>\n",
       "      <th>1</th>\n",
       "      <td>3</td>\n",
       "      <td>100001</td>\n",
       "      <td>Simpson Strong-Tie 12-Gauge Angle</td>\n",
       "      <td>l bracket</td>\n",
       "      <td>2.50</td>\n",
       "    </tr>\n",
       "    <tr>\n",
       "      <th>2</th>\n",
       "      <td>9</td>\n",
       "      <td>100002</td>\n",
       "      <td>BEHR Premium Textured DeckOver 1-gal. #SC-141 ...</td>\n",
       "      <td>deck over</td>\n",
       "      <td>3.00</td>\n",
       "    </tr>\n",
       "    <tr>\n",
       "      <th>3</th>\n",
       "      <td>16</td>\n",
       "      <td>100005</td>\n",
       "      <td>Delta Vero 1-Handle Shower Only Faucet Trim Ki...</td>\n",
       "      <td>rain shower head</td>\n",
       "      <td>2.33</td>\n",
       "    </tr>\n",
       "    <tr>\n",
       "      <th>4</th>\n",
       "      <td>17</td>\n",
       "      <td>100005</td>\n",
       "      <td>Delta Vero 1-Handle Shower Only Faucet Trim Ki...</td>\n",
       "      <td>shower only faucet</td>\n",
       "      <td>2.67</td>\n",
       "    </tr>\n",
       "  </tbody>\n",
       "</table>\n",
       "</div>"
      ],
      "text/plain": [
       "   id product_uid                                      product_title  \\\n",
       "0   2      100001                  Simpson Strong-Tie 12-Gauge Angle   \n",
       "1   3      100001                  Simpson Strong-Tie 12-Gauge Angle   \n",
       "2   9      100002  BEHR Premium Textured DeckOver 1-gal. #SC-141 ...   \n",
       "3  16      100005  Delta Vero 1-Handle Shower Only Faucet Trim Ki...   \n",
       "4  17      100005  Delta Vero 1-Handle Shower Only Faucet Trim Ki...   \n",
       "\n",
       "          search_term  relevance  \n",
       "0       angle bracket       3.00  \n",
       "1           l bracket       2.50  \n",
       "2           deck over       3.00  \n",
       "3    rain shower head       2.33  \n",
       "4  shower only faucet       2.67  "
      ]
     },
     "execution_count": 430,
     "metadata": {},
     "output_type": "execute_result"
    }
   ],
   "source": [
    "train.head()"
   ]
  },
  {
   "cell_type": "code",
   "execution_count": 431,
   "metadata": {},
   "outputs": [
    {
     "data": {
      "text/plain": [
       "1.00     2105\n",
       "1.25        4\n",
       "1.33     3006\n",
       "1.50        5\n",
       "1.67     6780\n",
       "1.75        9\n",
       "2.00    11730\n",
       "2.25       11\n",
       "2.33    16060\n",
       "2.50       19\n",
       "2.67    15202\n",
       "2.75       11\n",
       "3.00    19125\n",
       "Name: relevance, dtype: int64"
      ]
     },
     "execution_count": 431,
     "metadata": {},
     "output_type": "execute_result"
    }
   ],
   "source": [
    "# The relevance scores are an average of score given between 1 and 3, therefore the relevance score should be a\n",
    "# float between 1 and 3.  Let's test this.\n",
    "train['relevance'].value_counts().sort_index()"
   ]
  },
  {
   "cell_type": "code",
   "execution_count": 432,
   "metadata": {},
   "outputs": [
    {
     "data": {
      "text/plain": [
       "count    74067.000000\n",
       "mean         2.381634\n",
       "std          0.533984\n",
       "min          1.000000\n",
       "25%          2.000000\n",
       "50%          2.330000\n",
       "75%          3.000000\n",
       "max          3.000000\n",
       "Name: relevance, dtype: float64"
      ]
     },
     "execution_count": 432,
     "metadata": {},
     "output_type": "execute_result"
    }
   ],
   "source": [
    "# The values for relevance seem valid. Let's explore them further.\n",
    "train['relevance'].describe()"
   ]
  },
  {
   "cell_type": "code",
   "execution_count": 433,
   "metadata": {},
   "outputs": [
    {
     "data": {
      "image/png": "[encoded data removed]",
      "text/plain": [
       "<matplotlib.figure.Figure at 0x16e299668>"
      ]
     },
     "metadata": {},
     "output_type": "display_data"
    }
   ],
   "source": [
    "import matplotlib.pyplot as plt\n",
    "\n",
    "relevance_sorted = train['relevance'].value_counts().sort_index()\n",
    "relevance_sorted.plot(kind='bar')\n",
    "plt.show()"
   ]
  },
  {
   "cell_type": "markdown",
   "metadata": {},
   "source": [
    "It seems like the distribution of relevance scores trends to the higher end of the scale, so reviewers\n",
    "are more likely to rank something as relevant."
   ]
  },
  {
   "cell_type": "code",
   "execution_count": 434,
   "metadata": {
    "collapsed": true
   },
   "outputs": [],
   "source": [
    "# Import test file.\n",
    "test = pd.read_csv('/Users/davidlichacz/home-depot/test.csv', encoding='latin-1')"
   ]
  },
  {
   "cell_type": "code",
   "execution_count": 435,
   "metadata": {},
   "outputs": [
    {
     "data": {
      "text/plain": [
       "(166693, 4)"
      ]
     },
     "execution_count": 435,
     "metadata": {},
     "output_type": "execute_result"
    }
   ],
   "source": [
    "# Explore test dataframe.\n",
    "test.shape"
   ]
  },
  {
   "cell_type": "code",
   "execution_count": 436,
   "metadata": {},
   "outputs": [
    {
     "name": "stdout",
     "output_type": "stream",
     "text": [
      "<class 'pandas.core.frame.DataFrame'>\n",
      "RangeIndex: 166693 entries, 0 to 166692\n",
      "Data columns (total 4 columns):\n",
      "id               166693 non-null int64\n",
      "product_uid      166693 non-null int64\n",
      "product_title    166693 non-null object\n",
      "search_term      166693 non-null object\n",
      "dtypes: int64(2), object(2)\n",
      "memory usage: 5.1+ MB\n"
     ]
    }
   ],
   "source": [
    "test.info()"
   ]
  },
  {
   "cell_type": "code",
   "execution_count": 437,
   "metadata": {},
   "outputs": [
    {
     "data": {
      "text/html": [
       "<div>\n",
       "<style>\n",
       "    .dataframe thead tr:only-child th {\n",
       "        text-align: right;\n",
       "    }\n",
       "\n",
       "    .dataframe thead th {\n",
       "        text-align: left;\n",
       "    }\n",
       "\n",
       "    .dataframe tbody tr th {\n",
       "        vertical-align: top;\n",
       "    }\n",
       "</style>\n",
       "<table border=\"1\" class=\"dataframe\">\n",
       "  <thead>\n",
       "    <tr style=\"text-align: right;\">\n",
       "      <th></th>\n",
       "      <th>id</th>\n",
       "      <th>product_uid</th>\n",
       "      <th>product_title</th>\n",
       "      <th>search_term</th>\n",
       "    </tr>\n",
       "  </thead>\n",
       "  <tbody>\n",
       "    <tr>\n",
       "      <th>0</th>\n",
       "      <td>1</td>\n",
       "      <td>100001</td>\n",
       "      <td>Simpson Strong-Tie 12-Gauge Angle</td>\n",
       "      <td>90 degree bracket</td>\n",
       "    </tr>\n",
       "    <tr>\n",
       "      <th>1</th>\n",
       "      <td>4</td>\n",
       "      <td>100001</td>\n",
       "      <td>Simpson Strong-Tie 12-Gauge Angle</td>\n",
       "      <td>metal l brackets</td>\n",
       "    </tr>\n",
       "    <tr>\n",
       "      <th>2</th>\n",
       "      <td>5</td>\n",
       "      <td>100001</td>\n",
       "      <td>Simpson Strong-Tie 12-Gauge Angle</td>\n",
       "      <td>simpson sku able</td>\n",
       "    </tr>\n",
       "    <tr>\n",
       "      <th>3</th>\n",
       "      <td>6</td>\n",
       "      <td>100001</td>\n",
       "      <td>Simpson Strong-Tie 12-Gauge Angle</td>\n",
       "      <td>simpson strong  ties</td>\n",
       "    </tr>\n",
       "    <tr>\n",
       "      <th>4</th>\n",
       "      <td>7</td>\n",
       "      <td>100001</td>\n",
       "      <td>Simpson Strong-Tie 12-Gauge Angle</td>\n",
       "      <td>simpson strong tie hcc668</td>\n",
       "    </tr>\n",
       "  </tbody>\n",
       "</table>\n",
       "</div>"
      ],
      "text/plain": [
       "   id  product_uid                      product_title  \\\n",
       "0   1       100001  Simpson Strong-Tie 12-Gauge Angle   \n",
       "1   4       100001  Simpson Strong-Tie 12-Gauge Angle   \n",
       "2   5       100001  Simpson Strong-Tie 12-Gauge Angle   \n",
       "3   6       100001  Simpson Strong-Tie 12-Gauge Angle   \n",
       "4   7       100001  Simpson Strong-Tie 12-Gauge Angle   \n",
       "\n",
       "                 search_term  \n",
       "0          90 degree bracket  \n",
       "1           metal l brackets  \n",
       "2           simpson sku able  \n",
       "3       simpson strong  ties  \n",
       "4  simpson strong tie hcc668  "
      ]
     },
     "execution_count": 437,
     "metadata": {},
     "output_type": "execute_result"
    }
   ],
   "source": [
    "test.head()"
   ]
  },
  {
   "cell_type": "code",
   "execution_count": 438,
   "metadata": {},
   "outputs": [
    {
     "data": {
      "text/plain": [
       "True"
      ]
     },
     "execution_count": 438,
     "metadata": {},
     "output_type": "execute_result"
    }
   ],
   "source": [
    "# Naturally, the test set has the same structure as the training set, so the same methods can be performed.\n",
    "pattern = re.compile('[0-9]{6}$')\n",
    "id_check = test['product_uid'].astype(str).apply(pattern.match)\n",
    "id_check.astype(bool).all()"
   ]
  },
  {
   "cell_type": "code",
   "execution_count": 439,
   "metadata": {
    "collapsed": true
   },
   "outputs": [],
   "source": [
    "test['product_uid'] = test['product_uid'].astype(str)"
   ]
  },
  {
   "cell_type": "code",
   "execution_count": 440,
   "metadata": {},
   "outputs": [
    {
     "data": {
      "text/html": [
       "<div>\n",
       "<style>\n",
       "    .dataframe thead tr:only-child th {\n",
       "        text-align: right;\n",
       "    }\n",
       "\n",
       "    .dataframe thead th {\n",
       "        text-align: left;\n",
       "    }\n",
       "\n",
       "    .dataframe tbody tr th {\n",
       "        vertical-align: top;\n",
       "    }\n",
       "</style>\n",
       "<table border=\"1\" class=\"dataframe\">\n",
       "  <thead>\n",
       "    <tr style=\"text-align: right;\">\n",
       "      <th></th>\n",
       "      <th>id</th>\n",
       "      <th>product_uid</th>\n",
       "      <th>product_title</th>\n",
       "      <th>search_term</th>\n",
       "    </tr>\n",
       "  </thead>\n",
       "  <tbody>\n",
       "    <tr>\n",
       "      <th>0</th>\n",
       "      <td>1</td>\n",
       "      <td>100001</td>\n",
       "      <td>Simpson Strong-Tie 12-Gauge Angle</td>\n",
       "      <td>90 degree bracket</td>\n",
       "    </tr>\n",
       "    <tr>\n",
       "      <th>1</th>\n",
       "      <td>4</td>\n",
       "      <td>100001</td>\n",
       "      <td>Simpson Strong-Tie 12-Gauge Angle</td>\n",
       "      <td>metal l brackets</td>\n",
       "    </tr>\n",
       "    <tr>\n",
       "      <th>2</th>\n",
       "      <td>5</td>\n",
       "      <td>100001</td>\n",
       "      <td>Simpson Strong-Tie 12-Gauge Angle</td>\n",
       "      <td>simpson sku able</td>\n",
       "    </tr>\n",
       "    <tr>\n",
       "      <th>3</th>\n",
       "      <td>6</td>\n",
       "      <td>100001</td>\n",
       "      <td>Simpson Strong-Tie 12-Gauge Angle</td>\n",
       "      <td>simpson strong  ties</td>\n",
       "    </tr>\n",
       "    <tr>\n",
       "      <th>4</th>\n",
       "      <td>7</td>\n",
       "      <td>100001</td>\n",
       "      <td>Simpson Strong-Tie 12-Gauge Angle</td>\n",
       "      <td>simpson strong tie hcc668</td>\n",
       "    </tr>\n",
       "  </tbody>\n",
       "</table>\n",
       "</div>"
      ],
      "text/plain": [
       "   id product_uid                      product_title  \\\n",
       "0   1      100001  Simpson Strong-Tie 12-Gauge Angle   \n",
       "1   4      100001  Simpson Strong-Tie 12-Gauge Angle   \n",
       "2   5      100001  Simpson Strong-Tie 12-Gauge Angle   \n",
       "3   6      100001  Simpson Strong-Tie 12-Gauge Angle   \n",
       "4   7      100001  Simpson Strong-Tie 12-Gauge Angle   \n",
       "\n",
       "                 search_term  \n",
       "0          90 degree bracket  \n",
       "1           metal l brackets  \n",
       "2           simpson sku able  \n",
       "3       simpson strong  ties  \n",
       "4  simpson strong tie hcc668  "
      ]
     },
     "execution_count": 440,
     "metadata": {},
     "output_type": "execute_result"
    }
   ],
   "source": [
    "test.head()"
   ]
  },
  {
   "cell_type": "code",
   "execution_count": 441,
   "metadata": {
    "collapsed": true
   },
   "outputs": [],
   "source": [
    "# The product_title column of test and train feel like they belong more with the descriptions data.\n",
    "# This will also reduce duplication and the amount of data stored.\n",
    "train_title = train[['product_uid', 'product_title']].drop_duplicates()\n",
    "test_title = test[['product_uid', 'product_title']].drop_duplicates()\n",
    "product_titles = pd.concat([train_title, test_title], axis=0).drop_duplicates().sort_values('product_uid')"
   ]
  },
  {
   "cell_type": "code",
   "execution_count": 442,
   "metadata": {
    "collapsed": true
   },
   "outputs": [],
   "source": [
    "# Add the product titles to the descriptions dataframe.\n",
    "descriptions = pd.merge(descriptions, product_titles, on='product_uid', how='left')"
   ]
  },
  {
   "cell_type": "code",
   "execution_count": 443,
   "metadata": {},
   "outputs": [
    {
     "name": "stdout",
     "output_type": "stream",
     "text": [
      "<class 'pandas.core.frame.DataFrame'>\n",
      "Int64Index: 124603 entries, 0 to 124602\n",
      "Data columns (total 3 columns):\n",
      "product_uid            124603 non-null object\n",
      "product_description    124603 non-null object\n",
      "product_title          124603 non-null object\n",
      "dtypes: object(3)\n",
      "memory usage: 3.8+ MB\n"
     ]
    }
   ],
   "source": [
    "descriptions.info()"
   ]
  },
  {
   "cell_type": "code",
   "execution_count": 444,
   "metadata": {},
   "outputs": [
    {
     "data": {
      "text/plain": [
       "182629    3\n",
       "141602    2\n",
       "144110    2\n",
       "136763    2\n",
       "155570    2\n",
       "151176    2\n",
       "170997    2\n",
       "104518    2\n",
       "101317    2\n",
       "122095    2\n",
       "Name: product_uid, dtype: int64"
      ]
     },
     "execution_count": 444,
     "metadata": {},
     "output_type": "execute_result"
    }
   ],
   "source": [
    "# This added a few rows to descriptions as there are a few products with some variation in the product title.\n",
    "descriptions['product_uid'].value_counts().head(10)"
   ]
  },
  {
   "cell_type": "code",
   "execution_count": 445,
   "metadata": {
    "collapsed": true
   },
   "outputs": [],
   "source": [
    "# Drop product titles from train and test sets.\n",
    "train = train.drop('product_title', axis=1)\n",
    "test = test.drop('product_title', axis=1)"
   ]
  },
  {
   "cell_type": "code",
   "execution_count": 446,
   "metadata": {
    "collapsed": true
   },
   "outputs": [],
   "source": [
    "# Merge into one dataframe.\n",
    "search = train.merge(descriptions, on='product_uid', how='left')\n",
    "attributes = attributes.groupby('product_uid').agg(' '.join)\n",
    "search = search.merge(attributes, left_on='product_uid', right_index=True, how='left')\n",
    "\n",
    "test_search = test.merge(descriptions, on='product_uid', how='left')\n",
    "attributes = attributes.groupby('product_uid').agg(' '.join)\n",
    "test_search = test_search.merge(attributes, left_on='product_uid', right_index=True, how='left')"
   ]
  },
  {
   "cell_type": "code",
   "execution_count": 447,
   "metadata": {},
   "outputs": [],
   "source": [
    "search['name'].fillna('Null', inplace=True)\n",
    "search['value'].fillna('Null', inplace=True)\n",
    "\n",
    "test_search['name'].fillna('Null', inplace=True)\n",
    "test_search['value'].fillna('Null', inplace=True)"
   ]
  },
  {
   "cell_type": "code",
   "execution_count": 448,
   "metadata": {
    "collapsed": true
   },
   "outputs": [],
   "source": [
    "search.search_term = search.search_term.replace('\\s+', ' ', regex=True)\n",
    "\n",
    "test_search.search_term = test_search.search_term.replace('\\s+', ' ', regex=True)"
   ]
  },
  {
   "cell_type": "code",
   "execution_count": 449,
   "metadata": {
    "collapsed": true
   },
   "outputs": [],
   "source": [
    "def remove_punctuations(text):\n",
    "    # Remove common punctuation from strings.\n",
    "    for punctuation in [',' '?', '!', '\\'']:\n",
    "        text = text.replace(punctuation, '')\n",
    "    # Remove periods but only if they follow a word. \n",
    "    text_list = list(text)\n",
    "    locations = [i for i, x in enumerate(text_list) if x == '.']\n",
    "    for location in locations:\n",
    "        if location == 0:\n",
    "            text_list[location] = ''\n",
    "        if text_list[location-1].isalpha:\n",
    "            text_list[location] = ''\n",
    "    text = ''.join(text_list)\n",
    "        \n",
    "    return text\n",
    "\n",
    "search['search_term'] = search['search_term'].apply(remove_punctuations)\n",
    "search['product_description'] = search['product_description'].apply(remove_punctuations)\n",
    "search['product_title'] = search['product_title'].apply(remove_punctuations)\n",
    "search['value'] = search['value'].apply(remove_punctuations)\n",
    "\n",
    "test_search['search_term'] = test_search['search_term'].apply(remove_punctuations)\n",
    "test_search['product_description'] = test_search['product_description'].apply(remove_punctuations)\n",
    "test_search['product_title'] = test_search['product_title'].apply(remove_punctuations)\n",
    "test_search['value'] = test_search['value'].apply(remove_punctuations)"
   ]
  },
  {
   "cell_type": "code",
   "execution_count": 450,
   "metadata": {
    "collapsed": true
   },
   "outputs": [],
   "source": [
    "# Remove stop words\n",
    "from nltk.corpus import stopwords\n",
    "stop = set(stopwords.words('english')) \n",
    "\n",
    "search['search_term'] = search['search_term'].apply(lambda k: ' '.join([item for item in str.split(k) if item not in stop]))\n",
    "search['product_description'] = search['product_description'].apply(lambda k: ' '.join([item for item in str.split(k) if item not in stop]))\n",
    "search['product_title'] = search['product_title'].apply(lambda k: ' '.join([item for item in str.split(k) if item not in stop]))\n",
    "search['value'] = search['value'].apply(lambda k: ' '.join([item for item in str.split(k) if item not in stop]))\n",
    "\n",
    "test_search['search_term'] = test_search['search_term'].apply(lambda k: ' '.join([item for item in str.split(k) if item not in stop]))\n",
    "test_search['product_description'] = test_search['product_description'].apply(lambda k: ' '.join([item for item in str.split(k) if item not in stop]))\n",
    "test_search['product_title'] = test_search['product_title'].apply(lambda k: ' '.join([item for item in str.split(k) if item not in stop]))\n",
    "test_search['value'] = test_search['value'].apply(lambda k: ' '.join([item for item in str.split(k) if item not in stop]))"
   ]
  },
  {
   "cell_type": "code",
   "execution_count": 451,
   "metadata": {
    "collapsed": true
   },
   "outputs": [],
   "source": [
    "# Use stemming to get the root of each word.\n",
    "from nltk.stem import PorterStemmer\n",
    "\n",
    "stemmer = PorterStemmer()\n",
    "\n",
    "def stem_sentences(sentence):\n",
    "    tokens = sentence.split()\n",
    "    stemmed_tokens = [stemmer.stem(token) for token in tokens]\n",
    "    return ' '.join(stemmed_tokens)\n",
    "\n",
    "search['search_stem'] = search['search_term'].apply(stem_sentences)\n",
    "search['desc_stem'] = search['product_description'].apply(stem_sentences)\n",
    "search['title_stem'] = search['product_title'].apply(stem_sentences)\n",
    "search['att_stem'] = search['value'].apply(stem_sentences)\n",
    "\n",
    "test_search['search_stem'] = test_search['search_term'].apply(stem_sentences)\n",
    "test_search['desc_stem'] = test_search['product_description'].apply(stem_sentences)\n",
    "test_search['title_stem'] = test_search['product_title'].apply(stem_sentences)\n",
    "test_search['att_stem'] = test_search['value'].apply(stem_sentences)"
   ]
  },
  {
   "cell_type": "code",
   "execution_count": 452,
   "metadata": {
    "collapsed": true
   },
   "outputs": [],
   "source": [
    "# Calculate the percentage of words in the search term that appears in the other text fields.\n",
    "def search_pct(row, string1, string2):\n",
    "    if row[string2] == 'Null':\n",
    "        return 0\n",
    "    else:\n",
    "        str1 = row[string1].lower()\n",
    "        str2 = row[string2].lower()\n",
    "        count = 0\n",
    "\n",
    "        str1_split = str1.split(' ')\n",
    "        str2_split = str2.split(' ')\n",
    "        for word in str1_split:\n",
    "            if word in str2:\n",
    "                count += 1\n",
    "        return count / len(str1_split)\n",
    "    \n",
    "\n",
    "search['desc_pct'] = search.apply(search_pct, axis=1, args=('search_stem', 'desc_stem'))\n",
    "search['title_pct'] = search.apply(search_pct, axis=1, args=('search_stem', 'title_stem'))\n",
    "search['att_pct'] = search.apply(search_pct, axis=1, args=('search_stem', 'att_stem'))\n",
    "\n",
    "test_search['desc_pct'] = test_search.apply(search_pct, axis=1, args=('search_stem', 'desc_stem'))\n",
    "test_search['title_pct'] = test_search.apply(search_pct, axis=1, args=('search_stem', 'title_stem'))\n",
    "test_search['att_pct'] = test_search.apply(search_pct, axis=1, args=('search_stem', 'att_stem'))"
   ]
  },
  {
   "cell_type": "code",
   "execution_count": 453,
   "metadata": {
    "collapsed": true
   },
   "outputs": [],
   "source": [
    "# Calculate the percentage of words in text fields that also appear in the search term.\n",
    "def product_pct(row, string1, string2):\n",
    "    if row[string2] == 'Null':\n",
    "        return 0\n",
    "    else:\n",
    "        str1 = row[string1].lower()\n",
    "        str2 = row[string2].lower()\n",
    "        count = 0\n",
    "\n",
    "        str1_split = str1.split(' ')\n",
    "        str2_split = str2.split(' ')\n",
    "        for word in str1_split:\n",
    "            if word in str2:\n",
    "                count += 1\n",
    "        return count / len(str2_split)\n",
    "    \n",
    "\n",
    "search['desc_pct_prod'] = search.apply(product_pct, axis=1, args=('search_stem', 'desc_stem'))\n",
    "search['title_pct_prod'] = search.apply(product_pct, axis=1, args=('search_stem', 'title_stem'))\n",
    "search['att_pct_prod'] = search.apply(product_pct, axis=1, args=('search_stem', 'att_stem'))\n",
    "\n",
    "test_search['desc_pct_prod'] = test_search.apply(product_pct, axis=1, args=('search_stem', 'desc_stem'))\n",
    "test_search['title_pct_prod'] = test_search.apply(product_pct, axis=1, args=('search_stem', 'title_stem'))\n",
    "test_search['att_pct_prod'] = test_search.apply(product_pct, axis=1, args=('search_stem', 'att_stem'))"
   ]
  },
  {
   "cell_type": "code",
   "execution_count": 454,
   "metadata": {
    "collapsed": true
   },
   "outputs": [],
   "source": [
    "# Create a boolean field that is 1 if the entire search term phrase appears in a text field and zero if it does not.\n",
    "def contains_phrase(row, string1, string2):\n",
    "    if row[string2] == 'Null':\n",
    "        return 0\n",
    "    else:\n",
    "        str1 = row[string1].lower()\n",
    "        str2 = row[string2].lower()\n",
    "\n",
    "        if str1 in str2:\n",
    "            return 1\n",
    "        else:\n",
    "            return 0\n",
    "    \n",
    "\n",
    "search['desc_phrase'] = search.apply(contains_phrase, axis=1, args=('search_stem', 'desc_stem'))\n",
    "search['title_phrase'] = search.apply(contains_phrase, axis=1, args=('search_stem', 'title_stem'))\n",
    "search['att_phrase'] = search.apply(contains_phrase, axis=1, args=('search_stem', 'att_stem'))\n",
    "\n",
    "test_search['desc_phrase'] = test_search.apply(contains_phrase, axis=1, args=('search_stem', 'desc_stem'))\n",
    "test_search['title_phrase'] = test_search.apply(contains_phrase, axis=1, args=('search_stem', 'title_stem'))\n",
    "test_search['att_phrase'] = test_search.apply(contains_phrase, axis=1, args=('search_stem', 'att_stem'))"
   ]
  },
  {
   "cell_type": "code",
   "execution_count": 455,
   "metadata": {
    "collapsed": true
   },
   "outputs": [],
   "source": [
    "# Calculate average number of times a word from the search term appears in a text field.\n",
    "def search_avg(row, string1, string2):\n",
    "    if row[string2] == 'Null':\n",
    "        return 0\n",
    "    else:\n",
    "        str1 = row[string1].lower()\n",
    "        str2 = row[string2].lower()\n",
    "        count = []\n",
    "\n",
    "        str1_split = str1.split(' ')\n",
    "        str2_split = str2.split(' ')\n",
    "        for word in str1_split:\n",
    "            count.append(str2_split.count(word))\n",
    "        return sum(count) / len(count)\n",
    "    \n",
    "search['desc_avg'] = search.apply(search_avg, axis=1, args=('search_stem', 'desc_stem'))\n",
    "search['title_avg'] = search.apply(search_avg, axis=1, args=('search_stem', 'title_stem'))\n",
    "search['att_avg'] = search.apply(search_avg, axis=1, args=('search_stem', 'att_stem'))\n",
    "\n",
    "test_search['desc_avg'] = test_search.apply(search_avg, axis=1, args=('search_stem', 'desc_stem'))\n",
    "test_search['title_avg'] = test_search.apply(search_avg, axis=1, args=('search_stem', 'title_stem'))\n",
    "test_search['att_avg'] = test_search.apply(search_avg, axis=1, args=('search_stem', 'att_stem'))"
   ]
  },
  {
   "cell_type": "code",
   "execution_count": 456,
   "metadata": {
    "collapsed": true
   },
   "outputs": [],
   "source": [
    "# Calculate total number of times a word from the search term appears in a text field.\n",
    "def search_total(row, string1, string2):\n",
    "    if row[string2] == 'Null':\n",
    "        return 0\n",
    "    else:\n",
    "        str1 = row[string1].lower()\n",
    "        str2 = row[string2].lower()\n",
    "        count = []\n",
    "\n",
    "        str1_split = str1.split(' ')\n",
    "        str2_split = str2.split(' ')\n",
    "        for word in str1_split:\n",
    "            count.append(str2_split.count(word))\n",
    "        return sum(count)\n",
    "    \n",
    "search['desc_total'] = search.apply(search_total, axis=1, args=('search_stem', 'desc_stem'))\n",
    "search['title_total'] = search.apply(search_total, axis=1, args=('search_stem', 'title_stem'))\n",
    "search['att_total'] = search.apply(search_total, axis=1, args=('search_stem', 'att_stem'))\n",
    "\n",
    "test_search['desc_total'] = test_search.apply(search_total, axis=1, args=('search_stem', 'desc_stem'))\n",
    "test_search['title_total'] = test_search.apply(search_total, axis=1, args=('search_stem', 'title_stem'))\n",
    "test_search['att_total'] = test_search.apply(search_total, axis=1, args=('search_stem', 'att_stem'))"
   ]
  },
  {
   "cell_type": "code",
   "execution_count": 457,
   "metadata": {
    "collapsed": true
   },
   "outputs": [],
   "source": [
    "# Calculate maximum number of times a word from the search term appears in a text field.\n",
    "def search_max(row, string1, string2):\n",
    "    if row[string2] == 'Null':\n",
    "        return 0\n",
    "    else:\n",
    "        str1 = row[string1].lower()\n",
    "        str2 = row[string2].lower()\n",
    "        count = []\n",
    "\n",
    "        str1_split = str1.split(' ')\n",
    "        str2_split = str2.split(' ')\n",
    "        for word in str1_split:\n",
    "            count.append(str2_split.count(word))\n",
    "        return max(count)\n",
    "    \n",
    "search['desc_max'] = search.apply(search_max, axis=1, args=('search_stem', 'desc_stem'))\n",
    "search['title_max'] = search.apply(search_max, axis=1, args=('search_stem', 'title_stem'))\n",
    "search['att_max'] = search.apply(search_max, axis=1, args=('search_stem', 'att_stem'))\n",
    "\n",
    "test_search['desc_max'] = test_search.apply(search_max, axis=1, args=('search_stem', 'desc_stem'))\n",
    "test_search['title_max'] = test_search.apply(search_max, axis=1, args=('search_stem', 'title_stem'))\n",
    "test_search['att_max'] = test_search.apply(search_max, axis=1, args=('search_stem', 'att_stem'))"
   ]
  },
  {
   "cell_type": "code",
   "execution_count": 458,
   "metadata": {
    "collapsed": true
   },
   "outputs": [],
   "source": [
    "# Calcuate the number of words in each text field.\n",
    "search['search_split'] = search['search_term'].str.split().str.len()\n",
    "search['title_split'] = search['product_title'].str.split().str.len()\n",
    "search['desc_split'] = search['product_description'].str.split().str.len()\n",
    "\n",
    "test_search['search_split'] = test_search['search_term'].str.split().str.len()\n",
    "test_search['title_split'] = test_search['product_title'].str.split().str.len()\n",
    "test_search['desc_split'] = test_search['product_description'].str.split().str.len()"
   ]
  },
  {
   "cell_type": "code",
   "execution_count": 459,
   "metadata": {
    "collapsed": true
   },
   "outputs": [],
   "source": [
    "# For visualization purposes, group rows together using the first digit of their relevance score.\n",
    "search['relevance_reduced'] = search['relevance'].apply(np.floor)"
   ]
  },
  {
   "cell_type": "code",
   "execution_count": 460,
   "metadata": {},
   "outputs": [
    {
     "data": {
      "text/html": [
       "<div>\n",
       "<style>\n",
       "    .dataframe thead tr:only-child th {\n",
       "        text-align: right;\n",
       "    }\n",
       "\n",
       "    .dataframe thead th {\n",
       "        text-align: left;\n",
       "    }\n",
       "\n",
       "    .dataframe tbody tr th {\n",
       "        vertical-align: top;\n",
       "    }\n",
       "</style>\n",
       "<table border=\"1\" class=\"dataframe\">\n",
       "  <thead>\n",
       "    <tr style=\"text-align: right;\">\n",
       "      <th></th>\n",
       "      <th>id</th>\n",
       "      <th>product_uid</th>\n",
       "      <th>search_term</th>\n",
       "      <th>relevance</th>\n",
       "      <th>product_description</th>\n",
       "      <th>product_title</th>\n",
       "      <th>name</th>\n",
       "      <th>value</th>\n",
       "      <th>search_stem</th>\n",
       "      <th>desc_stem</th>\n",
       "      <th>...</th>\n",
       "      <th>desc_total</th>\n",
       "      <th>title_total</th>\n",
       "      <th>att_total</th>\n",
       "      <th>desc_max</th>\n",
       "      <th>title_max</th>\n",
       "      <th>att_max</th>\n",
       "      <th>search_split</th>\n",
       "      <th>title_split</th>\n",
       "      <th>desc_split</th>\n",
       "      <th>relevance_reduced</th>\n",
       "    </tr>\n",
       "  </thead>\n",
       "  <tbody>\n",
       "    <tr>\n",
       "      <th>0</th>\n",
       "      <td>2</td>\n",
       "      <td>100001</td>\n",
       "      <td>angle bracket</td>\n",
       "      <td>3.00</td>\n",
       "      <td>Not angles make joints stronger, also provide ...</td>\n",
       "      <td>Simpson Strong-Tie 12-Gauge Angle</td>\n",
       "      <td>Bullet01 Bullet02 Bullet03 Bullet04 Bullet05 B...</td>\n",
       "      <td>Versatile connector various 90° connections ho...</td>\n",
       "      <td>angl bracket</td>\n",
       "      <td>not angl make joint stronger, also provid cons...</td>\n",
       "      <td>...</td>\n",
       "      <td>3</td>\n",
       "      <td>1</td>\n",
       "      <td>1</td>\n",
       "      <td>3</td>\n",
       "      <td>1</td>\n",
       "      <td>1</td>\n",
       "      <td>2</td>\n",
       "      <td>4</td>\n",
       "      <td>86</td>\n",
       "      <td>3.0</td>\n",
       "    </tr>\n",
       "    <tr>\n",
       "      <th>1</th>\n",
       "      <td>3</td>\n",
       "      <td>100001</td>\n",
       "      <td>l bracket</td>\n",
       "      <td>2.50</td>\n",
       "      <td>Not angles make joints stronger, also provide ...</td>\n",
       "      <td>Simpson Strong-Tie 12-Gauge Angle</td>\n",
       "      <td>Bullet01 Bullet02 Bullet03 Bullet04 Bullet05 B...</td>\n",
       "      <td>Versatile connector various 90° connections ho...</td>\n",
       "      <td>l bracket</td>\n",
       "      <td>not angl make joint stronger, also provid cons...</td>\n",
       "      <td>...</td>\n",
       "      <td>0</td>\n",
       "      <td>0</td>\n",
       "      <td>0</td>\n",
       "      <td>0</td>\n",
       "      <td>0</td>\n",
       "      <td>0</td>\n",
       "      <td>2</td>\n",
       "      <td>4</td>\n",
       "      <td>86</td>\n",
       "      <td>2.0</td>\n",
       "    </tr>\n",
       "    <tr>\n",
       "      <th>2</th>\n",
       "      <td>9</td>\n",
       "      <td>100002</td>\n",
       "      <td>deck</td>\n",
       "      <td>3.00</td>\n",
       "      <td>BEHR Premium Textured DECKOVER innovative soli...</td>\n",
       "      <td>BEHR Premium Textured DeckOver 1-gal #SC-141 T...</td>\n",
       "      <td>Application Method Assembled Depth (in.) Assem...</td>\n",
       "      <td>Brush,Roller,Spray 663 776 663 Revives wood co...</td>\n",
       "      <td>deck</td>\n",
       "      <td>behr premium textur deckov innov solid color c...</td>\n",
       "      <td>...</td>\n",
       "      <td>0</td>\n",
       "      <td>0</td>\n",
       "      <td>0</td>\n",
       "      <td>0</td>\n",
       "      <td>0</td>\n",
       "      <td>0</td>\n",
       "      <td>1</td>\n",
       "      <td>10</td>\n",
       "      <td>122</td>\n",
       "      <td>3.0</td>\n",
       "    </tr>\n",
       "    <tr>\n",
       "      <th>3</th>\n",
       "      <td>16</td>\n",
       "      <td>100005</td>\n",
       "      <td>rain shower head</td>\n",
       "      <td>2.33</td>\n",
       "      <td>Update bathroom Delta Vero Single-Handle Showe...</td>\n",
       "      <td>Delta Vero 1-Handle Shower Only Faucet Trim Ki...</td>\n",
       "      <td>Bath Faucet Type Built-in Water Filter Bullet0...</td>\n",
       "      <td>Combo Tub Shower No Includes trim kit only, ro...</td>\n",
       "      <td>rain shower head</td>\n",
       "      <td>updat bathroom delta vero single-handl shower ...</td>\n",
       "      <td>...</td>\n",
       "      <td>1</td>\n",
       "      <td>1</td>\n",
       "      <td>2</td>\n",
       "      <td>1</td>\n",
       "      <td>1</td>\n",
       "      <td>1</td>\n",
       "      <td>3</td>\n",
       "      <td>12</td>\n",
       "      <td>68</td>\n",
       "      <td>2.0</td>\n",
       "    </tr>\n",
       "    <tr>\n",
       "      <th>4</th>\n",
       "      <td>17</td>\n",
       "      <td>100005</td>\n",
       "      <td>shower faucet</td>\n",
       "      <td>2.67</td>\n",
       "      <td>Update bathroom Delta Vero Single-Handle Showe...</td>\n",
       "      <td>Delta Vero 1-Handle Shower Only Faucet Trim Ki...</td>\n",
       "      <td>Bath Faucet Type Built-in Water Filter Bullet0...</td>\n",
       "      <td>Combo Tub Shower No Includes trim kit only, ro...</td>\n",
       "      <td>shower faucet</td>\n",
       "      <td>updat bathroom delta vero single-handl shower ...</td>\n",
       "      <td>...</td>\n",
       "      <td>2</td>\n",
       "      <td>2</td>\n",
       "      <td>2</td>\n",
       "      <td>1</td>\n",
       "      <td>1</td>\n",
       "      <td>1</td>\n",
       "      <td>2</td>\n",
       "      <td>12</td>\n",
       "      <td>68</td>\n",
       "      <td>2.0</td>\n",
       "    </tr>\n",
       "    <tr>\n",
       "      <th>5</th>\n",
       "      <td>18</td>\n",
       "      <td>100006</td>\n",
       "      <td>convection otr</td>\n",
       "      <td>3.00</td>\n",
       "      <td>Achieving delicious results almost effortless ...</td>\n",
       "      <td>Whirlpool 19 cu ft Over Range Convection Micro...</td>\n",
       "      <td>Appliance Type Assembled Depth (in.) Assembled...</td>\n",
       "      <td>Over Range Microwave 185 1713 2994 Spacious 19...</td>\n",
       "      <td>convect otr</td>\n",
       "      <td>achiev delici result almost effortless whirlpo...</td>\n",
       "      <td>...</td>\n",
       "      <td>4</td>\n",
       "      <td>1</td>\n",
       "      <td>2</td>\n",
       "      <td>4</td>\n",
       "      <td>1</td>\n",
       "      <td>2</td>\n",
       "      <td>2</td>\n",
       "      <td>12</td>\n",
       "      <td>331</td>\n",
       "      <td>3.0</td>\n",
       "    </tr>\n",
       "    <tr>\n",
       "      <th>6</th>\n",
       "      <td>20</td>\n",
       "      <td>100006</td>\n",
       "      <td>microwave stove</td>\n",
       "      <td>2.67</td>\n",
       "      <td>Achieving delicious results almost effortless ...</td>\n",
       "      <td>Whirlpool 19 cu ft Over Range Convection Micro...</td>\n",
       "      <td>Appliance Type Assembled Depth (in.) Assembled...</td>\n",
       "      <td>Over Range Microwave 185 1713 2994 Spacious 19...</td>\n",
       "      <td>microwav stove</td>\n",
       "      <td>achiev delici result almost effortless whirlpo...</td>\n",
       "      <td>...</td>\n",
       "      <td>4</td>\n",
       "      <td>1</td>\n",
       "      <td>5</td>\n",
       "      <td>4</td>\n",
       "      <td>1</td>\n",
       "      <td>5</td>\n",
       "      <td>2</td>\n",
       "      <td>12</td>\n",
       "      <td>331</td>\n",
       "      <td>2.0</td>\n",
       "    </tr>\n",
       "    <tr>\n",
       "      <th>7</th>\n",
       "      <td>21</td>\n",
       "      <td>100006</td>\n",
       "      <td>microwaves</td>\n",
       "      <td>3.00</td>\n",
       "      <td>Achieving delicious results almost effortless ...</td>\n",
       "      <td>Whirlpool 19 cu ft Over Range Convection Micro...</td>\n",
       "      <td>Appliance Type Assembled Depth (in.) Assembled...</td>\n",
       "      <td>Over Range Microwave 185 1713 2994 Spacious 19...</td>\n",
       "      <td>microwav</td>\n",
       "      <td>achiev delici result almost effortless whirlpo...</td>\n",
       "      <td>...</td>\n",
       "      <td>4</td>\n",
       "      <td>1</td>\n",
       "      <td>5</td>\n",
       "      <td>4</td>\n",
       "      <td>1</td>\n",
       "      <td>5</td>\n",
       "      <td>1</td>\n",
       "      <td>12</td>\n",
       "      <td>331</td>\n",
       "      <td>3.0</td>\n",
       "    </tr>\n",
       "    <tr>\n",
       "      <th>8</th>\n",
       "      <td>23</td>\n",
       "      <td>100007</td>\n",
       "      <td>emergency light</td>\n",
       "      <td>2.67</td>\n",
       "      <td>The Quantum Adjustable 2-Light LED Black Emerg...</td>\n",
       "      <td>Lithonia Lighting Quantum 2-Light Black LED Em...</td>\n",
       "      <td>Battery Power Type Battery Size Bulb Type Incl...</td>\n",
       "      <td>Ni-Cad Built-In LED Advanced LED technology de...</td>\n",
       "      <td>emerg light</td>\n",
       "      <td>the quantum adjust 2-light led black emerg lig...</td>\n",
       "      <td>...</td>\n",
       "      <td>5</td>\n",
       "      <td>2</td>\n",
       "      <td>3</td>\n",
       "      <td>4</td>\n",
       "      <td>1</td>\n",
       "      <td>2</td>\n",
       "      <td>2</td>\n",
       "      <td>9</td>\n",
       "      <td>85</td>\n",
       "      <td>2.0</td>\n",
       "    </tr>\n",
       "    <tr>\n",
       "      <th>9</th>\n",
       "      <td>27</td>\n",
       "      <td>100009</td>\n",
       "      <td>mdf 3/4</td>\n",
       "      <td>3.00</td>\n",
       "      <td>Get House Fara 3/4 x 3 x 8 ft MDF Fluted Casin...</td>\n",
       "      <td>House Fara 3/4 x 3 x 8 ft MDF Fluted Casing</td>\n",
       "      <td>Application Bullet01 Bullet02 Bullet03 Bullet0...</td>\n",
       "      <td>Door &amp; Window Made primed MDF Can painted matc...</td>\n",
       "      <td>mdf 3/4</td>\n",
       "      <td>get hous fara 3/4 x 3 x 8 ft mdf flute case ad...</td>\n",
       "      <td>...</td>\n",
       "      <td>2</td>\n",
       "      <td>2</td>\n",
       "      <td>1</td>\n",
       "      <td>1</td>\n",
       "      <td>1</td>\n",
       "      <td>1</td>\n",
       "      <td>2</td>\n",
       "      <td>11</td>\n",
       "      <td>53</td>\n",
       "      <td>3.0</td>\n",
       "    </tr>\n",
       "  </tbody>\n",
       "</table>\n",
       "<p>10 rows × 34 columns</p>\n",
       "</div>"
      ],
      "text/plain": [
       "   id product_uid       search_term  relevance  \\\n",
       "0   2      100001     angle bracket       3.00   \n",
       "1   3      100001         l bracket       2.50   \n",
       "2   9      100002              deck       3.00   \n",
       "3  16      100005  rain shower head       2.33   \n",
       "4  17      100005     shower faucet       2.67   \n",
       "5  18      100006    convection otr       3.00   \n",
       "6  20      100006   microwave stove       2.67   \n",
       "7  21      100006        microwaves       3.00   \n",
       "8  23      100007   emergency light       2.67   \n",
       "9  27      100009           mdf 3/4       3.00   \n",
       "\n",
       "                                 product_description  \\\n",
       "0  Not angles make joints stronger, also provide ...   \n",
       "1  Not angles make joints stronger, also provide ...   \n",
       "2  BEHR Premium Textured DECKOVER innovative soli...   \n",
       "3  Update bathroom Delta Vero Single-Handle Showe...   \n",
       "4  Update bathroom Delta Vero Single-Handle Showe...   \n",
       "5  Achieving delicious results almost effortless ...   \n",
       "6  Achieving delicious results almost effortless ...   \n",
       "7  Achieving delicious results almost effortless ...   \n",
       "8  The Quantum Adjustable 2-Light LED Black Emerg...   \n",
       "9  Get House Fara 3/4 x 3 x 8 ft MDF Fluted Casin...   \n",
       "\n",
       "                                       product_title  \\\n",
       "0                  Simpson Strong-Tie 12-Gauge Angle   \n",
       "1                  Simpson Strong-Tie 12-Gauge Angle   \n",
       "2  BEHR Premium Textured DeckOver 1-gal #SC-141 T...   \n",
       "3  Delta Vero 1-Handle Shower Only Faucet Trim Ki...   \n",
       "4  Delta Vero 1-Handle Shower Only Faucet Trim Ki...   \n",
       "5  Whirlpool 19 cu ft Over Range Convection Micro...   \n",
       "6  Whirlpool 19 cu ft Over Range Convection Micro...   \n",
       "7  Whirlpool 19 cu ft Over Range Convection Micro...   \n",
       "8  Lithonia Lighting Quantum 2-Light Black LED Em...   \n",
       "9        House Fara 3/4 x 3 x 8 ft MDF Fluted Casing   \n",
       "\n",
       "                                                name  \\\n",
       "0  Bullet01 Bullet02 Bullet03 Bullet04 Bullet05 B...   \n",
       "1  Bullet01 Bullet02 Bullet03 Bullet04 Bullet05 B...   \n",
       "2  Application Method Assembled Depth (in.) Assem...   \n",
       "3  Bath Faucet Type Built-in Water Filter Bullet0...   \n",
       "4  Bath Faucet Type Built-in Water Filter Bullet0...   \n",
       "5  Appliance Type Assembled Depth (in.) Assembled...   \n",
       "6  Appliance Type Assembled Depth (in.) Assembled...   \n",
       "7  Appliance Type Assembled Depth (in.) Assembled...   \n",
       "8  Battery Power Type Battery Size Bulb Type Incl...   \n",
       "9  Application Bullet01 Bullet02 Bullet03 Bullet0...   \n",
       "\n",
       "                                               value       search_stem  \\\n",
       "0  Versatile connector various 90° connections ho...      angl bracket   \n",
       "1  Versatile connector various 90° connections ho...         l bracket   \n",
       "2  Brush,Roller,Spray 663 776 663 Revives wood co...              deck   \n",
       "3  Combo Tub Shower No Includes trim kit only, ro...  rain shower head   \n",
       "4  Combo Tub Shower No Includes trim kit only, ro...     shower faucet   \n",
       "5  Over Range Microwave 185 1713 2994 Spacious 19...       convect otr   \n",
       "6  Over Range Microwave 185 1713 2994 Spacious 19...    microwav stove   \n",
       "7  Over Range Microwave 185 1713 2994 Spacious 19...          microwav   \n",
       "8  Ni-Cad Built-In LED Advanced LED technology de...       emerg light   \n",
       "9  Door & Window Made primed MDF Can painted matc...           mdf 3/4   \n",
       "\n",
       "                                           desc_stem        ...          \\\n",
       "0  not angl make joint stronger, also provid cons...        ...           \n",
       "1  not angl make joint stronger, also provid cons...        ...           \n",
       "2  behr premium textur deckov innov solid color c...        ...           \n",
       "3  updat bathroom delta vero single-handl shower ...        ...           \n",
       "4  updat bathroom delta vero single-handl shower ...        ...           \n",
       "5  achiev delici result almost effortless whirlpo...        ...           \n",
       "6  achiev delici result almost effortless whirlpo...        ...           \n",
       "7  achiev delici result almost effortless whirlpo...        ...           \n",
       "8  the quantum adjust 2-light led black emerg lig...        ...           \n",
       "9  get hous fara 3/4 x 3 x 8 ft mdf flute case ad...        ...           \n",
       "\n",
       "  desc_total title_total  att_total  desc_max  title_max  att_max  \\\n",
       "0          3           1          1         3          1        1   \n",
       "1          0           0          0         0          0        0   \n",
       "2          0           0          0         0          0        0   \n",
       "3          1           1          2         1          1        1   \n",
       "4          2           2          2         1          1        1   \n",
       "5          4           1          2         4          1        2   \n",
       "6          4           1          5         4          1        5   \n",
       "7          4           1          5         4          1        5   \n",
       "8          5           2          3         4          1        2   \n",
       "9          2           2          1         1          1        1   \n",
       "\n",
       "   search_split  title_split  desc_split  relevance_reduced  \n",
       "0             2            4          86                3.0  \n",
       "1             2            4          86                2.0  \n",
       "2             1           10         122                3.0  \n",
       "3             3           12          68                2.0  \n",
       "4             2           12          68                2.0  \n",
       "5             2           12         331                3.0  \n",
       "6             2           12         331                2.0  \n",
       "7             1           12         331                3.0  \n",
       "8             2            9          85                2.0  \n",
       "9             2           11          53                3.0  \n",
       "\n",
       "[10 rows x 34 columns]"
      ]
     },
     "execution_count": 460,
     "metadata": {},
     "output_type": "execute_result"
    }
   ],
   "source": [
    "search.head(10)"
   ]
  },
  {
   "cell_type": "code",
   "execution_count": 461,
   "metadata": {
    "collapsed": true
   },
   "outputs": [],
   "source": [
    "# Save new dataframe for future use.\n",
    "search.to_csv(r'search.csv')\n",
    "test_search.to_csv(r'test.csv')"
   ]
  },
  {
   "cell_type": "code",
   "execution_count": 462,
   "metadata": {},
   "outputs": [
    {
     "data": {
      "image/png": "[encoded data removed]",
      "text/plain": [
       "<matplotlib.figure.Figure at 0x123ef46d8>"
      ]
     },
     "metadata": {},
     "output_type": "display_data"
    }
   ],
   "source": [
    "# Create boxplots to compare search field percentage for each text field.\n",
    "import seaborn as sns\n",
    "sns.set_style(\"whitegrid\")\n",
    "ax = sns.boxplot(x=\"relevance_reduced\", y=\"title_pct\", data=search)\n",
    "ax.set(ylim=(0, 1.0))\n",
    "plt.title('Boxplots for Search Words in Title')\n",
    "plt.xlabel('Relevance Score')\n",
    "plt.ylabel('Percentage of Search Words in Title')\n",
    "plt.show()"
   ]
  },
  {
   "cell_type": "code",
   "execution_count": 463,
   "metadata": {},
   "outputs": [
    {
     "data": {
      "image/png": "[encoded data removed]",
      "text/plain": [
       "<matplotlib.figure.Figure at 0x1cde4fac8>"
      ]
     },
     "metadata": {},
     "output_type": "display_data"
    }
   ],
   "source": [
    "ax = sns.boxplot(x=\"relevance_reduced\", y=\"desc_pct\", data=search)\n",
    "ax.set(ylim=(0, 1.0))\n",
    "plt.title('Boxplots for Search Words in Description')\n",
    "plt.xlabel('Relevance Score')\n",
    "plt.ylabel('Percentage of Search Words in Description')\n",
    "plt.show()"
   ]
  },
  {
   "cell_type": "code",
   "execution_count": 464,
   "metadata": {},
   "outputs": [
    {
     "data": {
      "image/png": "[encoded data removed]",
      "text/plain": [
       "<matplotlib.figure.Figure at 0x13b0347b8>"
      ]
     },
     "metadata": {},
     "output_type": "display_data"
    }
   ],
   "source": [
    "ax = sns.boxplot(x=\"relevance_reduced\", y=\"att_pct\", data=search)\n",
    "ax.set(ylim=(0, 1.0))\n",
    "plt.title('Boxplots for Search Words in Attributes')\n",
    "plt.xlabel('Relevance Score')\n",
    "plt.ylabel('Percentage of Search Words in Attributes')\n",
    "plt.show()"
   ]
  },
  {
   "cell_type": "markdown",
   "metadata": {},
   "source": [
    "The plots above show that there appears to be a relationship between the percentage of search words that appear in the product title and the relevance score as the median percentage increases throughout the three categories.  A similar trend appears to be evident with the percentage of search words that appear in the product description.  However, the product attributes do not appear to show a strong correlation as the three box plots are quite similar."
   ]
  },
  {
   "cell_type": "code",
   "execution_count": 465,
   "metadata": {},
   "outputs": [
    {
     "data": {
      "image/png": "[encoded data removed]",
      "text/plain": [
       "<matplotlib.figure.Figure at 0x1379bbe48>"
      ]
     },
     "metadata": {},
     "output_type": "display_data"
    }
   ],
   "source": [
    "# Create boxplots for text field percentage for each text field.\n",
    "ax = sns.boxplot(x=\"relevance_reduced\", y=\"title_pct_prod\", data=search)\n",
    "ax.set(ylim=(0, 1.0))\n",
    "plt.title('Boxplots for Composition of Title')\n",
    "plt.xlabel('Relevance Score')\n",
    "plt.ylabel('Percentage of Title Composed of Search Words')\n",
    "plt.show()"
   ]
  },
  {
   "cell_type": "code",
   "execution_count": 466,
   "metadata": {},
   "outputs": [
    {
     "data": {
      "image/png": "[encoded data removed]",
      "text/plain": [
       "<matplotlib.figure.Figure at 0x1cf320550>"
      ]
     },
     "metadata": {},
     "output_type": "display_data"
    }
   ],
   "source": [
    "ax = sns.boxplot(x=\"relevance_reduced\", y=\"desc_pct_prod\", data=search)\n",
    "ax.set(ylim=(0, 0.25))\n",
    "plt.title('Boxplots for Composition of Description')\n",
    "plt.xlabel('Relevance Score')\n",
    "plt.ylabel('Percentage of Description Composed of Search Words')\n",
    "plt.show()"
   ]
  },
  {
   "cell_type": "code",
   "execution_count": 467,
   "metadata": {},
   "outputs": [
    {
     "data": {
      "image/png": "[encoded data removed]",
      "text/plain": [
       "<matplotlib.figure.Figure at 0x20e6aa0f0>"
      ]
     },
     "metadata": {},
     "output_type": "display_data"
    }
   ],
   "source": [
    "ax = sns.boxplot(x=\"relevance_reduced\", y=\"att_pct_prod\", data=search)\n",
    "ax.set(ylim=(0, 0.4))\n",
    "plt.title('Boxplots for Composition of Attributes')\n",
    "plt.xlabel('Relevance Score')\n",
    "plt.ylabel('Percentage of Attributes Composed of Search Words')\n",
    "plt.show()"
   ]
  },
  {
   "cell_type": "markdown",
   "metadata": {},
   "source": [
    "Examining the relationship between the percentage of the long text fields that contain a search word, we see less of a relationship with relevance score than we did with the previous collection of plots.  There does seem to be some positive correlation with the title, although less so than with the previous features.  The plots for description and attributes seem flat and do not show any obvious trends."
   ]
  },
  {
   "cell_type": "code",
   "execution_count": 468,
   "metadata": {},
   "outputs": [
    {
     "data": {
      "image/png": "[encoded data removed]",
      "text/plain": [
       "<matplotlib.figure.Figure at 0x1cec79eb8>"
      ]
     },
     "metadata": {},
     "output_type": "display_data"
    }
   ],
   "source": [
    "# Create boxplots for search term appearance stats.\n",
    "ax = sns.boxplot(x=\"relevance_reduced\", y=\"desc_avg\", data=search)\n",
    "plt.title('Boxplots for Average Number of Times Search Words appear in Description')\n",
    "plt.xlabel('Relevance Score')\n",
    "plt.ylabel('Average')\n",
    "plt.show()"
   ]
  },
  {
   "cell_type": "code",
   "execution_count": 469,
   "metadata": {},
   "outputs": [
    {
     "data": {
      "image/png": "[encoded data removed]",
      "text/plain": [
       "<matplotlib.figure.Figure at 0x1a8c698d0>"
      ]
     },
     "metadata": {},
     "output_type": "display_data"
    }
   ],
   "source": [
    "ax = sns.boxplot(x=\"relevance_reduced\", y=\"title_avg\", data=search)\n",
    "plt.title('Boxplots for Average Number of Times Search Words appear in Title')\n",
    "plt.xlabel('Relevance Score')\n",
    "plt.ylabel('Average')\n",
    "plt.show()"
   ]
  },
  {
   "cell_type": "code",
   "execution_count": 470,
   "metadata": {},
   "outputs": [
    {
     "data": {
      "image/png": "[encoded data removed]",
      "text/plain": [
       "<matplotlib.figure.Figure at 0x19a9e4240>"
      ]
     },
     "metadata": {},
     "output_type": "display_data"
    }
   ],
   "source": [
    "ax = sns.boxplot(x=\"relevance_reduced\", y=\"att_avg\", data=search)\n",
    "plt.title('Boxplots for Average Number of Times Search Words appear in Attributes')\n",
    "plt.xlabel('Relevance Score')\n",
    "plt.ylabel('Average')\n",
    "plt.show()"
   ]
  },
  {
   "cell_type": "markdown",
   "metadata": {},
   "source": [
    "This next group of boxplots examine the connection between the average number of times a search word appears in a text field and relevance score.  Again, the title shows the most positive correlation with the description showing perhaps a weak positive correlation to be investigated further.  Once again, the attributes do not show much in the way of a relationship with relevance score."
   ]
  },
  {
   "cell_type": "code",
   "execution_count": 471,
   "metadata": {},
   "outputs": [
    {
     "data": {
      "image/png": "[encoded data removed]",
      "text/plain": [
       "<matplotlib.figure.Figure at 0x1d0fcd240>"
      ]
     },
     "metadata": {},
     "output_type": "display_data"
    }
   ],
   "source": [
    "ax = sns.boxplot(x=\"relevance_reduced\", y=\"desc_total\", data=search)\n",
    "plt.title('Boxplots for Total Number of Times Search Words appear in Description')\n",
    "plt.xlabel('Relevance Score')\n",
    "plt.ylabel('Total')\n",
    "plt.show()"
   ]
  },
  {
   "cell_type": "code",
   "execution_count": 472,
   "metadata": {},
   "outputs": [
    {
     "data": {
      "image/png": "[encoded data removed]",
      "text/plain": [
       "<matplotlib.figure.Figure at 0x1d1e042b0>"
      ]
     },
     "metadata": {},
     "output_type": "display_data"
    }
   ],
   "source": [
    "ax = sns.boxplot(x=\"relevance_reduced\", y=\"title_total\", data=search)\n",
    "plt.title('Boxplots for Total Number of Times Search Words appear in Title')\n",
    "plt.xlabel('Relevance Score')\n",
    "plt.ylabel('Total')\n",
    "plt.show()"
   ]
  },
  {
   "cell_type": "code",
   "execution_count": 473,
   "metadata": {},
   "outputs": [
    {
     "data": {
      "image/png": "[encoded data removed]",
      "text/plain": [
       "<matplotlib.figure.Figure at 0x136099358>"
      ]
     },
     "metadata": {},
     "output_type": "display_data"
    }
   ],
   "source": [
    "ax = sns.boxplot(x=\"relevance_reduced\", y=\"att_total\", data=search)\n",
    "plt.title('Boxplots for Total Number of Times Search Words appear in Attributes')\n",
    "plt.xlabel('Relevance Score')\n",
    "plt.ylabel('Total')\n",
    "plt.show()"
   ]
  },
  {
   "cell_type": "markdown",
   "metadata": {},
   "source": [
    "In the above group of plots looking at the relationship between the total number of times a search word appears in a text field, all three groupings show little to no correlation.  "
   ]
  },
  {
   "cell_type": "code",
   "execution_count": 474,
   "metadata": {},
   "outputs": [
    {
     "data": {
      "image/png": "[encoded data removed]",
      "text/plain": [
       "<matplotlib.figure.Figure at 0x20e6b47f0>"
      ]
     },
     "metadata": {},
     "output_type": "display_data"
    }
   ],
   "source": [
    "ax = sns.boxplot(x=\"relevance_reduced\", y=\"desc_max\", data=search)\n",
    "plt.title('Boxplots for Maximum Number of Times Search Words appear in Description')\n",
    "plt.xlabel('Relevance Score')\n",
    "plt.ylabel('Maximum')\n",
    "plt.show()"
   ]
  },
  {
   "cell_type": "code",
   "execution_count": 475,
   "metadata": {},
   "outputs": [
    {
     "data": {
      "image/png": "[encoded data removed]",
      "text/plain": [
       "<matplotlib.figure.Figure at 0x13b2dda58>"
      ]
     },
     "metadata": {},
     "output_type": "display_data"
    }
   ],
   "source": [
    "ax = sns.boxplot(x=\"relevance_reduced\", y=\"title_max\", data=search)\n",
    "plt.title('Boxplots for Maximum Number of Times Search Words appear in Title')\n",
    "plt.xlabel('Relevance Score')\n",
    "plt.ylabel('Maximum')\n",
    "plt.show()"
   ]
  },
  {
   "cell_type": "code",
   "execution_count": 476,
   "metadata": {},
   "outputs": [
    {
     "data": {
      "image/png": "[encoded data removed]",
      "text/plain": [
       "<matplotlib.figure.Figure at 0x20e6ddeb8>"
      ]
     },
     "metadata": {},
     "output_type": "display_data"
    }
   ],
   "source": [
    "ax = sns.boxplot(x=\"relevance_reduced\", y=\"att_max\", data=search)\n",
    "plt.title('Boxplots for Maximum Number of Times Search Words appear in Attributes')\n",
    "plt.xlabel('Relevance Score')\n",
    "plt.ylabel('Maximum')\n",
    "plt.show()"
   ]
  },
  {
   "cell_type": "markdown",
   "metadata": {},
   "source": [
    "This last group of boxplots looks at the relationship between the total number of times a search word appears in a text field.  Just as in the previous set, no obvious trends are present."
   ]
  },
  {
   "cell_type": "code",
   "execution_count": 477,
   "metadata": {},
   "outputs": [
    {
     "data": {
      "text/plain": [
       "<matplotlib.figure.Figure at 0x1c8d741d0>"
      ]
     },
     "metadata": {},
     "output_type": "display_data"
    },
    {
     "data": {
      "image/png": "[encoded data removed]",
      "text/plain": [
       "<matplotlib.figure.Figure at 0x1cabd5c88>"
      ]
     },
     "metadata": {},
     "output_type": "display_data"
    }
   ],
   "source": [
    "# Create stacked bar charts to compare text fields that contain the entire search phrase for each text field.\n",
    "plt.clf()\n",
    "ax = pd.crosstab(index=search.relevance_reduced, columns=search.title_phrase).plot(kind='bar', stacked=True, rot=0)\n",
    "ax.legend(['Does not contain phrase', 'Contains phrase'])\n",
    "plt.title('Title Contains Search Phrase')\n",
    "plt.xlabel('Relevance Score')\n",
    "plt.ylabel('Count')\n",
    "plt.show()"
   ]
  },
  {
   "cell_type": "code",
   "execution_count": 478,
   "metadata": {},
   "outputs": [
    {
     "data": {
      "text/plain": [
       "<matplotlib.figure.Figure at 0x1cabcf0b8>"
      ]
     },
     "metadata": {},
     "output_type": "display_data"
    },
    {
     "data": {
      "image/png": "[encoded data removed]",
      "text/plain": [
       "<matplotlib.figure.Figure at 0x1cec7a588>"
      ]
     },
     "metadata": {},
     "output_type": "display_data"
    }
   ],
   "source": [
    "plt.clf()\n",
    "ax = pd.crosstab(index=search.relevance_reduced, columns=search.desc_phrase).plot(kind='bar', stacked=True, rot=0)\n",
    "ax.legend(['Does not contain phrase', 'Contains phrase'])\n",
    "plt.title('Description Contains Search Phrase')\n",
    "plt.xlabel('Relevance Score')\n",
    "plt.ylabel('Count')\n",
    "plt.show()"
   ]
  },
  {
   "cell_type": "code",
   "execution_count": 479,
   "metadata": {},
   "outputs": [
    {
     "data": {
      "text/plain": [
       "<matplotlib.figure.Figure at 0x1c8d74780>"
      ]
     },
     "metadata": {},
     "output_type": "display_data"
    },
    {
     "data": {
      "image/png": "[encoded data removed]",
      "text/plain": [
       "<matplotlib.figure.Figure at 0x1c8d74da0>"
      ]
     },
     "metadata": {},
     "output_type": "display_data"
    }
   ],
   "source": [
    "plt.clf()\n",
    "ax = pd.crosstab(index=search.relevance_reduced, columns=search.att_phrase).plot(kind='bar', stacked=True, rot=0)\n",
    "ax.legend(['Does not contain phrase', 'Contains phrase'])\n",
    "plt.title('Attributes Contains Search Phrase')\n",
    "plt.xlabel('Relevance Score')\n",
    "plt.ylabel('Count')\n",
    "plt.show()"
   ]
  },
  {
   "cell_type": "markdown",
   "metadata": {},
   "source": [
    "This last set of visualizations are stacked bar plots to compare the fraction of search phrases that appear in our three text fields.  The three plots show varying degrees of an increase in the percentage as the relevance score increases, with title showing the most and attributes showing the least.  However, in all cases the number of cases with no search phrase present is much larger than those that do and so the effect that this will have on the final result is questionable."
   ]
  },
  {
   "cell_type": "markdown",
   "metadata": {},
   "source": [
    "To conclude, based on the above plottings, it seems like the title field is the one that has the most positive correlation with relevance score.  The attribute score did show much of a relationship with relevance at all.  Description displays some positive correlation, but not as consistently as title."
   ]
  },
  {
   "cell_type": "markdown",
   "metadata": {},
   "source": [
    "We will now perform statistical tests for the above findings."
   ]
  },
  {
   "cell_type": "code",
   "execution_count": 480,
   "metadata": {
    "collapsed": true
   },
   "outputs": [],
   "source": [
    "from scipy import stats\n",
    "\n",
    "# Set significance level for use throughout the testing\n",
    "alpha = 0.05"
   ]
  },
  {
   "cell_type": "code",
   "execution_count": 481,
   "metadata": {
    "collapsed": true
   },
   "outputs": [],
   "source": [
    "# Read dataframe\n",
    "search = pd.read_csv('search.csv')"
   ]
  },
  {
   "cell_type": "code",
   "execution_count": 482,
   "metadata": {
    "collapsed": true
   },
   "outputs": [],
   "source": [
    "# Segment the dataframe by relevance score\n",
    "search_1 = search[search['relevance_reduced'] == 1]\n",
    "search_2 = search[search['relevance_reduced'] == 2]\n",
    "search_3 = search[search['relevance_reduced'] == 3]"
   ]
  },
  {
   "cell_type": "code",
   "execution_count": 483,
   "metadata": {
    "collapsed": true
   },
   "outputs": [],
   "source": [
    "# Create list of dataframe columns that will be tested\n",
    "cols = ['title_pct', 'desc_pct', 'att_pct', 'title_pct_prod', 'desc_pct_prod', 'att_pct_prod',\n",
    "       'title_avg', 'desc_avg', 'att_avg', 'title_total', 'desc_total', 'att_total',\n",
    "       'title_max', 'desc_max', 'att_max'] "
   ]
  },
  {
   "cell_type": "code",
   "execution_count": 484,
   "metadata": {},
   "outputs": [
    {
     "data": {
      "image/png": "[encoded data removed]",
      "text/plain": [
       "<matplotlib.figure.Figure at 0x11ffda4e0>"
      ]
     },
     "metadata": {},
     "output_type": "display_data"
    },
    {
     "data": {
      "image/png": "[encoded data removed]",
      "text/plain": [
       "<matplotlib.figure.Figure at 0x1ce2390f0>"
      ]
     },
     "metadata": {},
     "output_type": "display_data"
    },
    {
     "data": {
      "image/png": "[encoded data removed]",
      "text/plain": [
       "<matplotlib.figure.Figure at 0x149aba780>"
      ]
     },
     "metadata": {},
     "output_type": "display_data"
    },
    {
     "data": {
      "image/png": "[encoded data removed]",
      "text/plain": [
       "<matplotlib.figure.Figure at 0x1379bf400>"
      ]
     },
     "metadata": {},
     "output_type": "display_data"
    },
    {
     "data": {
      "image/png": "[encoded data removed]",
      "text/plain": [
       "<matplotlib.figure.Figure at 0x1c8d6f630>"
      ]
     },
     "metadata": {},
     "output_type": "display_data"
    },
    {
     "data": {
      "image/png": "[encoded data removed]",
      "text/plain": [
       "<matplotlib.figure.Figure at 0x1374f2908>"
      ]
     },
     "metadata": {},
     "output_type": "display_data"
    },
    {
     "data": {
      "image/png": "[encoded data removed]",
      "text/plain": [
       "<matplotlib.figure.Figure at 0x1379bb940>"
      ]
     },
     "metadata": {},
     "output_type": "display_data"
    },
    {
     "data": {
      "image/png": "[encoded data removed]",
      "text/plain": [
       "<matplotlib.figure.Figure at 0x137480ef0>"
      ]
     },
     "metadata": {},
     "output_type": "display_data"
    },
    {
     "data": {
      "image/png": "[encoded data removed]",
      "text/plain": [
       "<matplotlib.figure.Figure at 0x1273d1978>"
      ]
     },
     "metadata": {},
     "output_type": "display_data"
    },
    {
     "data": {
      "image/png": "[encoded data removed]",
      "text/plain": [
       "<matplotlib.figure.Figure at 0x1374c45c0>"
      ]
     },
     "metadata": {},
     "output_type": "display_data"
    },
    {
     "data": {
      "image/png": "[encoded data removed]",
      "text/plain": [
       "<matplotlib.figure.Figure at 0x1273dfcf8>"
      ]
     },
     "metadata": {},
     "output_type": "display_data"
    },
    {
     "data": {
      "image/png": "[encoded data removed]",
      "text/plain": [
       "<matplotlib.figure.Figure at 0x1b7a208d0>"
      ]
     },
     "metadata": {},
     "output_type": "display_data"
    },
    {
     "data": {
      "image/png": "[encoded data removed]",
      "text/plain": [
       "<matplotlib.figure.Figure at 0x1374d9c18>"
      ]
     },
     "metadata": {},
     "output_type": "display_data"
    },
    {
     "data": {
      "image/png": "[encoded data removed]",
      "text/plain": [
       "<matplotlib.figure.Figure at 0x126bdab70>"
      ]
     },
     "metadata": {},
     "output_type": "display_data"
    },
    {
     "data": {
      "image/png": "[encoded data removed]",
      "text/plain": [
       "<matplotlib.figure.Figure at 0x1cabe2358>"
      ]
     },
     "metadata": {},
     "output_type": "display_data"
    }
   ],
   "source": [
    "# Generate histograms for all columns\n",
    "for col in cols:\n",
    "    plt.hist(search[col])\n",
    "    plt.show()"
   ]
  },
  {
   "cell_type": "markdown",
   "metadata": {},
   "source": [
    "None of the distributions of the variables appear normal. Most are right skewed or multimodal. For this reason, we will use the nonparametric Kruskal-Wallis test for equality of distributions.\n",
    "\n",
    "Null hypothesis: The distributions of the variables for the three relevance level are identical.\n",
    "Alternative hypothesis: At least one of the variable has a distribution different from the other two."
   ]
  },
  {
   "cell_type": "code",
   "execution_count": 485,
   "metadata": {},
   "outputs": [
    {
     "name": "stdout",
     "output_type": "stream",
     "text": [
      "p-values by column for Kruskal-Wallis test\n",
      "title_pct: 0.00e+00\n",
      "desc_pct: 0.00e+00\n",
      "att_pct: 5.71e-93\n",
      "title_pct_prod: 0.00e+00\n",
      "desc_pct_prod: 3.00e-271\n",
      "att_pct_prod: 1.98e-123\n",
      "title_avg: 0.00e+00\n",
      "desc_avg: 0.00e+00\n",
      "att_avg: 1.06e-114\n",
      "title_total: 0.00e+00\n",
      "desc_total: 0.00e+00\n",
      "att_total: 5.37e-151\n",
      "title_max: 0.00e+00\n",
      "desc_max: 0.00e+00\n",
      "att_max: 7.00e-133\n"
     ]
    }
   ],
   "source": [
    "# Perform the Kruskal-Wallis test for all the columns in the list cols\n",
    "print('p-values by column for Kruskal-Wallis test')\n",
    "for col in cols:\n",
    "    s, p = stats.kruskal(search_1[col], search_2[col], search_3[col])\n",
    "    print (f'{col}: {p:.2e}')"
   ]
  },
  {
   "cell_type": "markdown",
   "metadata": {},
   "source": [
    "All of the p-values are less than our predetermined significance level and therefore we can reject the null hypothesis for each column and conclude that the distributions of the variables differ by relevance score.\n",
    "\n",
    "In the cases of some variables, the boxplots examined previously were very similar, so let's examine more closely the measures of central tendency for each variable."
   ]
  },
  {
   "cell_type": "code",
   "execution_count": 486,
   "metadata": {},
   "outputs": [
    {
     "name": "stdout",
     "output_type": "stream",
     "text": [
      "title_pct Medians:\n",
      "Relevance 1: 0.50\n",
      "Relevance 2: 0.67\n",
      "Relevance 3: 1.00\n",
      "\n",
      "desc_pct Medians:\n",
      "Relevance 1: 0.50\n",
      "Relevance 2: 0.67\n",
      "Relevance 3: 0.80\n",
      "\n",
      "att_pct Medians:\n",
      "Relevance 1: 0.33\n",
      "Relevance 2: 0.50\n",
      "Relevance 3: 0.50\n",
      "\n",
      "title_pct_prod Medians:\n",
      "Relevance 1: 0.14\n",
      "Relevance 2: 0.19\n",
      "Relevance 3: 0.22\n",
      "\n",
      "desc_pct_prod Medians:\n",
      "Relevance 1: 0.02\n",
      "Relevance 2: 0.02\n",
      "Relevance 3: 0.02\n",
      "\n",
      "att_pct_prod Medians:\n",
      "Relevance 1: 0.02\n",
      "Relevance 2: 0.02\n",
      "Relevance 3: 0.01\n",
      "\n",
      "title_avg Medians:\n",
      "Relevance 1: 0.50\n",
      "Relevance 2: 0.60\n",
      "Relevance 3: 1.00\n",
      "\n",
      "desc_avg Medians:\n",
      "Relevance 1: 0.67\n",
      "Relevance 2: 1.00\n",
      "Relevance 3: 1.50\n",
      "\n",
      "att_avg Medians:\n",
      "Relevance 1: 0.33\n",
      "Relevance 2: 0.60\n",
      "Relevance 3: 0.50\n",
      "\n",
      "title_total Medians:\n",
      "Relevance 1: 1.00\n",
      "Relevance 2: 2.00\n",
      "Relevance 3: 2.00\n",
      "\n",
      "desc_total Medians:\n",
      "Relevance 1: 2.00\n",
      "Relevance 2: 3.00\n",
      "Relevance 3: 4.00\n",
      "\n",
      "att_total Medians:\n",
      "Relevance 1: 1.00\n",
      "Relevance 2: 2.00\n",
      "Relevance 3: 1.00\n",
      "\n",
      "title_max Medians:\n",
      "Relevance 1: 1.00\n",
      "Relevance 2: 1.00\n",
      "Relevance 3: 1.00\n",
      "\n",
      "desc_max Medians:\n",
      "Relevance 1: 2.00\n",
      "Relevance 2: 2.00\n",
      "Relevance 3: 3.00\n",
      "\n",
      "att_max Medians:\n",
      "Relevance 1: 1.00\n",
      "Relevance 2: 1.00\n",
      "Relevance 3: 1.00\n",
      "\n"
     ]
    }
   ],
   "source": [
    "# Calculate median for each variable and relevance score combination\n",
    "for col in cols:\n",
    "    print(col+' Medians:')\n",
    "    print(f'Relevance 1: {np.median(search_1[col]):.2f}')\n",
    "    print(f'Relevance 2: {np.median(search_2[col]):.2f}')\n",
    "    print(f'Relevance 3: {np.median(search_3[col]):.2f}')\n",
    "    print('')"
   ]
  },
  {
   "cell_type": "markdown",
   "metadata": {},
   "source": [
    "We can see that for some of the variables, the median is consistent across all relevance scores. Let's now look at the means."
   ]
  },
  {
   "cell_type": "code",
   "execution_count": 487,
   "metadata": {},
   "outputs": [
    {
     "name": "stdout",
     "output_type": "stream",
     "text": [
      "title_pct Means:\n",
      "Relevance 1: 0.48\n",
      "Relevance 2: 0.63\n",
      "Relevance 3: 0.80\n",
      "\n",
      "desc_pct Means:\n",
      "Relevance 1: 0.48\n",
      "Relevance 2: 0.61\n",
      "Relevance 3: 0.75\n",
      "\n",
      "att_pct Means:\n",
      "Relevance 1: 0.37\n",
      "Relevance 2: 0.45\n",
      "Relevance 3: 0.44\n",
      "\n",
      "title_pct_prod Means:\n",
      "Relevance 1: 0.15\n",
      "Relevance 2: 0.20\n",
      "Relevance 3: 0.24\n",
      "\n",
      "desc_pct_prod Means:\n",
      "Relevance 1: 0.02\n",
      "Relevance 2: 0.03\n",
      "Relevance 3: 0.03\n",
      "\n",
      "att_pct_prod Means:\n",
      "Relevance 1: 0.02\n",
      "Relevance 2: 0.02\n",
      "Relevance 3: 0.02\n",
      "\n",
      "title_avg Means:\n",
      "Relevance 1: 0.42\n",
      "Relevance 2: 0.58\n",
      "Relevance 3: 0.76\n",
      "\n",
      "desc_avg Means:\n",
      "Relevance 1: 0.95\n",
      "Relevance 2: 1.38\n",
      "Relevance 3: 1.76\n",
      "\n",
      "att_avg Means:\n",
      "Relevance 1: 0.58\n",
      "Relevance 2: 0.77\n",
      "Relevance 3: 0.79\n",
      "\n",
      "title_total Means:\n",
      "Relevance 1: 1.28\n",
      "Relevance 2: 1.82\n",
      "Relevance 3: 2.09\n",
      "\n",
      "desc_total Means:\n",
      "Relevance 1: 2.90\n",
      "Relevance 2: 4.32\n",
      "Relevance 3: 4.85\n",
      "\n",
      "att_total Means:\n",
      "Relevance 1: 1.85\n",
      "Relevance 2: 2.57\n",
      "Relevance 3: 2.35\n",
      "\n",
      "title_max Means:\n",
      "Relevance 1: 0.77\n",
      "Relevance 2: 0.95\n",
      "Relevance 3: 1.01\n",
      "\n",
      "desc_max Means:\n",
      "Relevance 1: 2.10\n",
      "Relevance 2: 2.86\n",
      "Relevance 3: 3.08\n",
      "\n",
      "att_max Means:\n",
      "Relevance 1: 1.29\n",
      "Relevance 2: 1.62\n",
      "Relevance 3: 1.42\n",
      "\n"
     ]
    }
   ],
   "source": [
    "# Calculate mean for each variable and relevance score combination\n",
    "for col in cols:\n",
    "    print(col+' Means:')\n",
    "    print(f'Relevance 1: {np.mean(search_1[col]):.2f}')\n",
    "    print(f'Relevance 2: {np.mean(search_2[col]):.2f}')\n",
    "    print(f'Relevance 3: {np.mean(search_3[col]):.2f}')\n",
    "    print('')"
   ]
  },
  {
   "cell_type": "markdown",
   "metadata": {},
   "source": [
    "The means show more variablity across the three relevance scores, which is more consistent with the results of the Kruskal-Wallis tests. Most variables show a positive correlation with relevance score. The exceptions to this would be the variable related to the Attributes field. This would be consistent with the trends seen in the boxplots. Let's now look at correlation."
   ]
  },
  {
   "cell_type": "code",
   "execution_count": 488,
   "metadata": {},
   "outputs": [
    {
     "name": "stdout",
     "output_type": "stream",
     "text": [
      "Correlation values:\n",
      "title_pct: 0.355\n",
      "desc_pct: 0.295\n",
      "att_pct: 0.067\n",
      "title_pct_prod: 0.228\n",
      "desc_pct_prod: 0.122\n",
      "att_pct_prod: -0.009\n",
      "title_avg: 0.328\n",
      "desc_avg: 0.213\n",
      "att_avg: 0.082\n",
      "title_total: 0.226\n",
      "desc_total: 0.163\n",
      "att_total: 0.057\n",
      "title_max: 0.180\n",
      "desc_max: 0.135\n",
      "att_max: 0.026\n"
     ]
    }
   ],
   "source": [
    "# Calculate correlation between each variable and relevance score\n",
    "print('Correlation values:')\n",
    "for col in cols:\n",
    "    corr = np.corrcoef(search[col], search['relevance'])[0, 1]\n",
    "    print(f'{col}: {corr:.3f}')"
   ]
  },
  {
   "cell_type": "markdown",
   "metadata": {},
   "source": [
    "The results show a positive correlation with almost every variable and relevance score. The weakest correlations (including the one negative correlation) are found in the variable related to Attributes. Again, this is consistent with previous results."
   ]
  },
  {
   "cell_type": "markdown",
   "metadata": {},
   "source": [
    "Let's now look at the boolean phrase values."
   ]
  },
  {
   "cell_type": "code",
   "execution_count": 489,
   "metadata": {
    "collapsed": true
   },
   "outputs": [],
   "source": [
    "# Create list containing necessary columns\n",
    "cols2 = ['title_phrase', 'desc_phrase', 'att_phrase']"
   ]
  },
  {
   "cell_type": "code",
   "execution_count": 490,
   "metadata": {},
   "outputs": [
    {
     "name": "stdout",
     "output_type": "stream",
     "text": [
      "title_phrase:\n",
      "Relevance 1: 0.052\n",
      "Relevance 2: 0.088\n",
      "Relevance 3: 0.219\n",
      "\n",
      "desc_phrase:\n",
      "Relevance 1: 0.049\n",
      "Relevance 2: 0.068\n",
      "Relevance 3: 0.166\n",
      "\n",
      "att_phrase:\n",
      "Relevance 1: 0.023\n",
      "Relevance 2: 0.027\n",
      "Relevance 3: 0.049\n",
      "\n"
     ]
    }
   ],
   "source": [
    "# Print the proportion of observations where the search phrase appears in a text field for each relevance level.\n",
    "for col in cols2:\n",
    "    pct1 = sum(search_1[col] == 1) / len(search_1[col])\n",
    "    pct2 = sum(search_2[col] == 1) / len(search_2[col])\n",
    "    pct3 = sum(search_3[col] == 1) / len(search_3[col])\n",
    "    \n",
    "    print(col+':')\n",
    "    print(f'Relevance 1: {pct1:.3f}')\n",
    "    print(f'Relevance 2: {pct2:.3f}')\n",
    "    print(f'Relevance 3: {pct3:.3f}')\n",
    "    print('')"
   ]
  },
  {
   "cell_type": "markdown",
   "metadata": {},
   "source": [
    "We see the proportion increase across all three variables. Again, the weakest effect is seen within the Attributes field. Let's now test the significance of these results with pairwise tests.\n",
    "\n",
    "Null hypothesis: The two proportions are equal.\n",
    "Alternative hypothesis: The two proportions are not equal."
   ]
  },
  {
   "cell_type": "code",
   "execution_count": 491,
   "metadata": {
    "collapsed": true
   },
   "outputs": [],
   "source": [
    "# Define function that will perform proportion test on each pair of proportions.\n",
    "from statsmodels.stats.proportion import proportions_ztest\n",
    "\n",
    "def prop_test(column):\n",
    "    s12, p12 = proportions_ztest([sum(search_1[column] == 1), sum(search_2[column] == 1)]\n",
    "                               , [len(search_1[column]), len(search_2[column])])\n",
    "    s13, p13 = proportions_ztest([sum(search_1[column] == 1), sum(search_3[column] == 1)]\n",
    "                               , [len(search_1[column]), len(search_3[column])])\n",
    "    s23, p23 = proportions_ztest([sum(search_2[column] == 1), sum(search_3[column] == 1)]\n",
    "                               , [len(search_2[column]), len(search_3[column])])\n",
    "    return (p12, p13, p23)"
   ]
  },
  {
   "cell_type": "code",
   "execution_count": 492,
   "metadata": {},
   "outputs": [
    {
     "name": "stdout",
     "output_type": "stream",
     "text": [
      "p-values for pairwise tests for title phrase:\n",
      "Relevance Scores 1 and 2: 6.91e-38\n",
      "Relevance Scores 1 and 3: 0.00e+00\n",
      "Relevance Scores 2 and 3: 0.00e+00\n"
     ]
    }
   ],
   "source": [
    "# Perform the test for each of the three variables.\n",
    "title_p1, title_p2, title_p3 = prop_test('title_phrase')\n",
    "print('p-values for pairwise tests for title phrase:')\n",
    "print(f'Relevance Scores 1 and 2: {title_p1:.2e}')\n",
    "print(f'Relevance Scores 1 and 3: {title_p2:.2e}')\n",
    "print(f'Relevance Scores 2 and 3: {title_p3:.2e}')"
   ]
  },
  {
   "cell_type": "code",
   "execution_count": 493,
   "metadata": {},
   "outputs": [
    {
     "name": "stdout",
     "output_type": "stream",
     "text": [
      "p-values for pairwise tests for description phrase:\n",
      "Relevance Scores 1 and 2: 1.33e-14\n",
      "Relevance Scores 1 and 3: 2.52e-208\n",
      "Relevance Scores 2 and 3: 0.00e+00\n"
     ]
    }
   ],
   "source": [
    "desc_p1, desc_p2, desc_p3 = prop_test('desc_phrase')\n",
    "print('p-values for pairwise tests for description phrase:')\n",
    "print(f'Relevance Scores 1 and 2: {desc_p1:.2e}')\n",
    "print(f'Relevance Scores 1 and 3: {desc_p2:.2e}')\n",
    "print(f'Relevance Scores 2 and 3: {desc_p3:.2e}')"
   ]
  },
  {
   "cell_type": "code",
   "execution_count": 494,
   "metadata": {},
   "outputs": [
    {
     "name": "stdout",
     "output_type": "stream",
     "text": [
      "p-values for pairwise tests for attribute phrase:\n",
      "Relevance Scores 1 and 2: 2.26e-02\n",
      "Relevance Scores 1 and 3: 6.29e-30\n",
      "Relevance Scores 2 and 3: 2.27e-44\n"
     ]
    }
   ],
   "source": [
    "att_p1, att_p2, att_p3 = prop_test('att_phrase')\n",
    "print('p-values for pairwise tests for attribute phrase:')\n",
    "print(f'Relevance Scores 1 and 2: {att_p1:.2e}')\n",
    "print(f'Relevance Scores 1 and 3: {att_p2:.2e}')\n",
    "print(f'Relevance Scores 2 and 3: {att_p3:.2e}')"
   ]
  },
  {
   "cell_type": "markdown",
   "metadata": {},
   "source": [
    "In all cases, the p-values are well below our predetermined level of significance and we can reject the null hypothesis that the proportions are equal."
   ]
  },
  {
   "cell_type": "markdown",
   "metadata": {},
   "source": [
    "To conclude, the above testing show that our numerical variables do have different distributions across the three relevance levels and that many of them do show evidence of a positive correlation with relevance score. The variables that are exceptions are the ones related to the Attributes field."
   ]
  },
  {
   "cell_type": "markdown",
   "metadata": {},
   "source": [
    "## Machine Learning"
   ]
  },
  {
   "cell_type": "code",
   "execution_count": 495,
   "metadata": {
    "collapsed": true
   },
   "outputs": [],
   "source": [
    "# Import prepared training file\n",
    "search = pd.read_csv('search.csv')"
   ]
  },
  {
   "cell_type": "code",
   "execution_count": 496,
   "metadata": {
    "collapsed": true
   },
   "outputs": [],
   "source": [
    "# Only use numeric fields.\n",
    "search_numeric = search.select_dtypes(['number'])"
   ]
  },
  {
   "cell_type": "code",
   "execution_count": 497,
   "metadata": {},
   "outputs": [],
   "source": [
    "# Drop id related columns.\n",
    "search_numeric = search_numeric.drop(['Unnamed: 0', 'id', 'product_uid', 'relevance_reduced'], axis=1)"
   ]
  },
  {
   "cell_type": "code",
   "execution_count": 498,
   "metadata": {},
   "outputs": [
    {
     "data": {
      "text/html": [
       "<div>\n",
       "<style>\n",
       "    .dataframe thead tr:only-child th {\n",
       "        text-align: right;\n",
       "    }\n",
       "\n",
       "    .dataframe thead th {\n",
       "        text-align: left;\n",
       "    }\n",
       "\n",
       "    .dataframe tbody tr th {\n",
       "        vertical-align: top;\n",
       "    }\n",
       "</style>\n",
       "<table border=\"1\" class=\"dataframe\">\n",
       "  <thead>\n",
       "    <tr style=\"text-align: right;\">\n",
       "      <th></th>\n",
       "      <th>relevance</th>\n",
       "      <th>desc_pct</th>\n",
       "      <th>title_pct</th>\n",
       "      <th>att_pct</th>\n",
       "      <th>desc_pct_prod</th>\n",
       "      <th>title_pct_prod</th>\n",
       "      <th>att_pct_prod</th>\n",
       "      <th>desc_phrase</th>\n",
       "      <th>title_phrase</th>\n",
       "      <th>att_phrase</th>\n",
       "      <th>...</th>\n",
       "      <th>att_avg</th>\n",
       "      <th>desc_total</th>\n",
       "      <th>title_total</th>\n",
       "      <th>att_total</th>\n",
       "      <th>desc_max</th>\n",
       "      <th>title_max</th>\n",
       "      <th>att_max</th>\n",
       "      <th>search_split</th>\n",
       "      <th>title_split</th>\n",
       "      <th>desc_split</th>\n",
       "    </tr>\n",
       "  </thead>\n",
       "  <tbody>\n",
       "    <tr>\n",
       "      <th>0</th>\n",
       "      <td>3.00</td>\n",
       "      <td>0.500000</td>\n",
       "      <td>0.500000</td>\n",
       "      <td>0.500000</td>\n",
       "      <td>0.011628</td>\n",
       "      <td>0.250000</td>\n",
       "      <td>0.018868</td>\n",
       "      <td>0</td>\n",
       "      <td>0</td>\n",
       "      <td>0</td>\n",
       "      <td>...</td>\n",
       "      <td>0.500000</td>\n",
       "      <td>3</td>\n",
       "      <td>1</td>\n",
       "      <td>1</td>\n",
       "      <td>3</td>\n",
       "      <td>1</td>\n",
       "      <td>1</td>\n",
       "      <td>2</td>\n",
       "      <td>4</td>\n",
       "      <td>86</td>\n",
       "    </tr>\n",
       "    <tr>\n",
       "      <th>1</th>\n",
       "      <td>2.50</td>\n",
       "      <td>0.500000</td>\n",
       "      <td>0.500000</td>\n",
       "      <td>0.500000</td>\n",
       "      <td>0.011628</td>\n",
       "      <td>0.250000</td>\n",
       "      <td>0.018868</td>\n",
       "      <td>0</td>\n",
       "      <td>0</td>\n",
       "      <td>0</td>\n",
       "      <td>...</td>\n",
       "      <td>0.000000</td>\n",
       "      <td>0</td>\n",
       "      <td>0</td>\n",
       "      <td>0</td>\n",
       "      <td>0</td>\n",
       "      <td>0</td>\n",
       "      <td>0</td>\n",
       "      <td>2</td>\n",
       "      <td>4</td>\n",
       "      <td>86</td>\n",
       "    </tr>\n",
       "    <tr>\n",
       "      <th>2</th>\n",
       "      <td>3.00</td>\n",
       "      <td>1.000000</td>\n",
       "      <td>1.000000</td>\n",
       "      <td>1.000000</td>\n",
       "      <td>0.008197</td>\n",
       "      <td>0.100000</td>\n",
       "      <td>0.008621</td>\n",
       "      <td>1</td>\n",
       "      <td>1</td>\n",
       "      <td>1</td>\n",
       "      <td>...</td>\n",
       "      <td>0.000000</td>\n",
       "      <td>0</td>\n",
       "      <td>0</td>\n",
       "      <td>0</td>\n",
       "      <td>0</td>\n",
       "      <td>0</td>\n",
       "      <td>0</td>\n",
       "      <td>1</td>\n",
       "      <td>10</td>\n",
       "      <td>122</td>\n",
       "    </tr>\n",
       "    <tr>\n",
       "      <th>3</th>\n",
       "      <td>2.33</td>\n",
       "      <td>0.333333</td>\n",
       "      <td>0.333333</td>\n",
       "      <td>0.666667</td>\n",
       "      <td>0.014706</td>\n",
       "      <td>0.083333</td>\n",
       "      <td>0.027397</td>\n",
       "      <td>0</td>\n",
       "      <td>0</td>\n",
       "      <td>0</td>\n",
       "      <td>...</td>\n",
       "      <td>0.666667</td>\n",
       "      <td>1</td>\n",
       "      <td>1</td>\n",
       "      <td>2</td>\n",
       "      <td>1</td>\n",
       "      <td>1</td>\n",
       "      <td>1</td>\n",
       "      <td>3</td>\n",
       "      <td>12</td>\n",
       "      <td>68</td>\n",
       "    </tr>\n",
       "    <tr>\n",
       "      <th>4</th>\n",
       "      <td>2.67</td>\n",
       "      <td>1.000000</td>\n",
       "      <td>1.000000</td>\n",
       "      <td>1.000000</td>\n",
       "      <td>0.029412</td>\n",
       "      <td>0.166667</td>\n",
       "      <td>0.027397</td>\n",
       "      <td>1</td>\n",
       "      <td>0</td>\n",
       "      <td>0</td>\n",
       "      <td>...</td>\n",
       "      <td>1.000000</td>\n",
       "      <td>2</td>\n",
       "      <td>2</td>\n",
       "      <td>2</td>\n",
       "      <td>1</td>\n",
       "      <td>1</td>\n",
       "      <td>1</td>\n",
       "      <td>2</td>\n",
       "      <td>12</td>\n",
       "      <td>68</td>\n",
       "    </tr>\n",
       "  </tbody>\n",
       "</table>\n",
       "<p>5 rows × 22 columns</p>\n",
       "</div>"
      ],
      "text/plain": [
       "   relevance  desc_pct  title_pct   att_pct  desc_pct_prod  title_pct_prod  \\\n",
       "0       3.00  0.500000   0.500000  0.500000       0.011628        0.250000   \n",
       "1       2.50  0.500000   0.500000  0.500000       0.011628        0.250000   \n",
       "2       3.00  1.000000   1.000000  1.000000       0.008197        0.100000   \n",
       "3       2.33  0.333333   0.333333  0.666667       0.014706        0.083333   \n",
       "4       2.67  1.000000   1.000000  1.000000       0.029412        0.166667   \n",
       "\n",
       "   att_pct_prod  desc_phrase  title_phrase  att_phrase     ...       att_avg  \\\n",
       "0      0.018868            0             0           0     ...      0.500000   \n",
       "1      0.018868            0             0           0     ...      0.000000   \n",
       "2      0.008621            1             1           1     ...      0.000000   \n",
       "3      0.027397            0             0           0     ...      0.666667   \n",
       "4      0.027397            1             0           0     ...      1.000000   \n",
       "\n",
       "   desc_total  title_total  att_total  desc_max  title_max  att_max  \\\n",
       "0           3            1          1         3          1        1   \n",
       "1           0            0          0         0          0        0   \n",
       "2           0            0          0         0          0        0   \n",
       "3           1            1          2         1          1        1   \n",
       "4           2            2          2         1          1        1   \n",
       "\n",
       "   search_split  title_split  desc_split  \n",
       "0             2            4          86  \n",
       "1             2            4          86  \n",
       "2             1           10         122  \n",
       "3             3           12          68  \n",
       "4             2           12          68  \n",
       "\n",
       "[5 rows x 22 columns]"
      ]
     },
     "execution_count": 498,
     "metadata": {},
     "output_type": "execute_result"
    }
   ],
   "source": [
    "search_numeric.head()"
   ]
  },
  {
   "cell_type": "code",
   "execution_count": 499,
   "metadata": {
    "collapsed": true
   },
   "outputs": [],
   "source": [
    "# Separate dependent and independent variables.\n",
    "X_search = search_numeric.drop(['relevance'], axis=1)\n",
    "y_search = search_numeric['relevance']"
   ]
  },
  {
   "cell_type": "code",
   "execution_count": 500,
   "metadata": {
    "collapsed": true
   },
   "outputs": [],
   "source": [
    "from sklearn.model_selection import train_test_split\n",
    "\n",
    "# Split into train and test sets. k\n",
    "X_train, X_test, y_train, y_test = train_test_split(X_search, y_search, test_size=0.3, random_state=44)"
   ]
  },
  {
   "cell_type": "code",
   "execution_count": 501,
   "metadata": {
    "collapsed": true
   },
   "outputs": [],
   "source": [
    "# Create dictionary that will store results of models.\n",
    "rsme = {}"
   ]
  },
  {
   "cell_type": "code",
   "execution_count": 502,
   "metadata": {
    "collapsed": true
   },
   "outputs": [],
   "source": [
    "from sklearn.linear_model import LinearRegression\n",
    "from sklearn.preprocessing import StandardScaler\n",
    "from sklearn.pipeline import Pipeline\n",
    "from sklearn.model_selection import GridSearchCV\n",
    "from sklearn.metrics import mean_squared_error\n",
    "from math import sqrt\n",
    "\n",
    "# Initiate scaler.\n",
    "scale = StandardScaler()\n",
    "\n",
    "# Initiate regressor.\n",
    "lr = LinearRegression()\n",
    "\n",
    "# Create pipeline.\n",
    "pl = Pipeline(steps=[('scale', scale), ('linreg', lr)])\n",
    "\n",
    "# Create grid of parameters for tuning.\n",
    "parameters_lr = {'linreg__fit_intercept':[True,False], 'linreg__normalize':[True,False], 'linreg__copy_X':[True, False]}\n",
    "\n",
    "# Tune parameters.\n",
    "grid_lr = GridSearchCV(pl, parameters_lr, cv=10)\n",
    "\n",
    "# Fit model to training data.\n",
    "grid_lr.fit(X_train, y_train)\n",
    "\n",
    "# Generate predictions using the test set.\n",
    "preds_lr = grid_lr.predict(X_test)\n",
    "\n",
    "rsme['Linear Regression'] = sqrt(mean_squared_error(y_test, preds_lr))"
   ]
  },
  {
   "cell_type": "code",
   "execution_count": 503,
   "metadata": {
    "collapsed": true
   },
   "outputs": [],
   "source": [
    "# Lasso Regression\n",
    "\n",
    "from sklearn.linear_model import Lasso\n",
    "\n",
    "scale = StandardScaler()\n",
    "lasso = Lasso()\n",
    "\n",
    "pl = Pipeline(steps=[('scale', scale), ('lasso', lasso)])\n",
    "\n",
    "parameters_lasso = {'lasso__alpha': [0.001, 0.01, 0.1], 'lasso__normalize':[True, False]}\n",
    "grid_lasso = GridSearchCV(pl, parameters_lasso, cv=10)\n",
    "\n",
    "grid_lasso.fit(X_train, y_train)\n",
    "\n",
    "preds_lasso = grid_lasso.predict(X_test)\n",
    "\n",
    "rsme['Lasso Regression'] = sqrt(mean_squared_error(y_test, preds_lasso))"
   ]
  },
  {
   "cell_type": "code",
   "execution_count": 504,
   "metadata": {
    "collapsed": true
   },
   "outputs": [],
   "source": [
    "# Ridge Regression\n",
    "\n",
    "from sklearn.linear_model import Ridge\n",
    "\n",
    "scale = StandardScaler()\n",
    "ridge = Ridge()\n",
    "\n",
    "pl = Pipeline(steps=[('scale', scale), ('ridge', ridge)])\n",
    "\n",
    "parameters_ridge = {'ridge__alpha': [0.001, 0.01, 0.1], 'ridge__normalize':[True, False]}\n",
    "grid_ridge = GridSearchCV(pl, parameters_ridge, cv=10)\n",
    "\n",
    "grid_ridge.fit(X_train, y_train)\n",
    "\n",
    "preds_ridge = grid_ridge.predict(X_test)\n",
    "\n",
    "rsme['Ridge Regression'] = sqrt(mean_squared_error(y_test, preds_ridge))"
   ]
  },
  {
   "cell_type": "code",
   "execution_count": 505,
   "metadata": {
    "collapsed": true
   },
   "outputs": [],
   "source": [
    "# Random Forest Regression\n",
    "\n",
    "from sklearn.ensemble import RandomForestRegressor\n",
    "\n",
    "scale = StandardScaler()\n",
    "rf = RandomForestRegressor(random_state=0)\n",
    "\n",
    "pl = Pipeline(steps=[('scale', scale), ('rf', rf)])\n",
    "\n",
    "parameters_rf = {'rf__n_estimators':[10, 15, 20], 'rf__max_depth':[4, 6, 8]}\n",
    "grid_rf = GridSearchCV(pl, parameters_rf, cv=10)\n",
    "\n",
    "grid_rf.fit(X_train, y_train)\n",
    "\n",
    "preds_rf = grid_rf.predict(X_test)\n",
    "\n",
    "rsme['Random Forest Regression'] = sqrt(mean_squared_error(y_test, preds_rf))"
   ]
  },
  {
   "cell_type": "code",
   "execution_count": 506,
   "metadata": {
    "collapsed": true
   },
   "outputs": [],
   "source": [
    "# SVM Regression (Grid Search omitted due to lenghty runtime)\n",
    "from sklearn.svm import SVR\n",
    "\n",
    "scale = StandardScaler()\n",
    "svm = SVR()\n",
    "\n",
    "pl = Pipeline(steps=[('scale', scale), ('svm', svm)])\n",
    "\n",
    "pl.fit(X_train, y_train)\n",
    "\n",
    "preds_svm = pl.predict(X_test)\n",
    "\n",
    "rsme['SVM Regression'] = sqrt(mean_squared_error(y_test, preds_svm))"
   ]
  },
  {
   "cell_type": "code",
   "execution_count": 507,
   "metadata": {},
   "outputs": [
    {
     "data": {
      "text/plain": [
       "{'Lasso Regression': 0.4887519883597523,\n",
       " 'Linear Regression': 0.48868208431341914,\n",
       " 'Random Forest Regression': 0.4801124347210643,\n",
       " 'Ridge Regression': 0.488690649845203,\n",
       " 'SVM Regression': 0.4870078570617452}"
      ]
     },
     "execution_count": 507,
     "metadata": {},
     "output_type": "execute_result"
    }
   ],
   "source": [
    "rsme"
   ]
  },
  {
   "cell_type": "code",
   "execution_count": 508,
   "metadata": {},
   "outputs": [
    {
     "name": "stdout",
     "output_type": "stream",
     "text": [
      "The model with the lowest RSME value was Random Forest Regression.\n",
      "RSME: 0.480\n"
     ]
    }
   ],
   "source": [
    "import operator\n",
    "\n",
    "# Find model with the lowest rsme value.\n",
    "best_model = min(rsme.items(), key=operator.itemgetter(1))[0]\n",
    "\n",
    "print(f'The model with the lowest RSME value was {best_model}.')\n",
    "print(f'RSME: {rsme[best_model]:.3f}')"
   ]
  },
  {
   "cell_type": "code",
   "execution_count": 509,
   "metadata": {},
   "outputs": [
    {
     "data": {
      "text/plain": [
       "0.4801547956748359"
      ]
     },
     "execution_count": 509,
     "metadata": {},
     "output_type": "execute_result"
    }
   ],
   "source": [
    "# Try to improve model through bagging.\n",
    "from sklearn.ensemble import BaggingRegressor\n",
    "\n",
    "bag = BaggingRegressor(grid_rf, n_estimators=50, max_samples=0.1)\n",
    "\n",
    "bag.fit(X_train, y_train)\n",
    "\n",
    "preds = bag.predict(X_test)\n",
    "\n",
    "sqrt(mean_squared_error(y_test, preds))"
   ]
  },
  {
   "cell_type": "markdown",
   "metadata": {
    "collapsed": true
   },
   "source": [
    "The Bagging Regressor did not improve the results."
   ]
  },
  {
   "cell_type": "code",
   "execution_count": 510,
   "metadata": {
    "collapsed": true
   },
   "outputs": [],
   "source": [
    "# Import full test set.\n",
    "test = pd.read_csv('test.csv')"
   ]
  },
  {
   "cell_type": "code",
   "execution_count": 511,
   "metadata": {
    "collapsed": true
   },
   "outputs": [],
   "source": [
    "# Perform same cleaning steps as above.\n",
    "test_numeric = test.select_dtypes(['number'])\n",
    "test_numeric = test_numeric.drop(['Unnamed: 0', 'id', 'product_uid'], axis=1)"
   ]
  },
  {
   "cell_type": "code",
   "execution_count": 512,
   "metadata": {},
   "outputs": [],
   "source": [
    "# Fit chosen model to provided test set.\n",
    "scale = StandardScaler()\n",
    "rf = RandomForestRegressor(random_state=0)\n",
    "\n",
    "pl = Pipeline(steps=[('scale', scale), ('rf', rf)])\n",
    "\n",
    "parameters_rf = {'rf__n_estimators':[10, 15, 20], 'rf__max_depth':[4, 6, 8]}\n",
    "grid_rf = GridSearchCV(pl, parameters_rf, cv=10)\n",
    "\n",
    "grid_rf.fit(X_search, y_search)\n",
    "\n",
    "preds_rf = grid_rf.predict(test_numeric)"
   ]
  },
  {
   "cell_type": "code",
   "execution_count": 514,
   "metadata": {},
   "outputs": [],
   "source": [
    "# Prepare submission file for Kaggle.\n",
    "submit = pd.DataFrame({'id':test['id'], 'relevance':preds_rf})\n",
    "submit = submit.drop_duplicates(['id'])\n",
    "submit.to_csv(r'submission.csv', index=False)"
   ]
  },
  {
   "cell_type": "markdown",
   "metadata": {},
   "source": [
    "The Kaggle submission gives a score of .48614. This is consistent with the results above and the model translates well to unseen data."
   ]
  }
 ],
 "metadata": {
  "kernelspec": {
   "display_name": "Python 3",
   "language": "python",
   "name": "python3"
  },
  "language_info": {
   "codemirror_mode": {
    "name": "ipython",
    "version": 3
   },
   "file_extension": ".py",
   "mimetype": "text/x-python",
   "name": "python",
   "nbconvert_exporter": "python",
   "pygments_lexer": "ipython3",
   "version": "3.6.1"
  }
 },
 "nbformat": 4,
 "nbformat_minor": 2
}
